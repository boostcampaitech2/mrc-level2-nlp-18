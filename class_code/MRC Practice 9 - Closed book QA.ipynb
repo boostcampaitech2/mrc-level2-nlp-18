{
 "cells": [
  {
   "cell_type": "markdown",
   "metadata": {
    "id": "8UQ-bp0nasm9"
   },
   "source": [
    "# 9강) Closed book Question Answering 을 수행해보기"
   ]
  },
  {
   "cell_type": "markdown",
   "metadata": {
    "id": "XJBWriScLCOq"
   },
   "source": [
    "## Natural Questions \n",
    "\n",
    "[Natural Questions (NQ)](https://ai.google.com/research/NaturalQuestions) \n",
    "\n",
    "Natural Questions 는 open-domain QA 에서 자주 사용되는 데이터셋입니다. 현재 datasets 패키지에선 natural questions 를 제대로 받을 수 없으므로, 따로 전처리된 natural questions 데이터셋을 다운받도록 하겠습니다.\n"
   ]
  },
  {
   "cell_type": "markdown",
   "metadata": {
    "id": "PXBV_cGgXb5c"
   },
   "source": [
    "## Requirements"
   ]
  },
  {
   "cell_type": "code",
   "execution_count": 1,
   "metadata": {
    "colab": {
     "base_uri": "https://localhost:8080/"
    },
    "executionInfo": {
     "elapsed": 33670,
     "status": "ok",
     "timestamp": 1617073402791,
     "user": {
      "displayName": "JinUk Cho",
      "photoUrl": "",
      "userId": "10000090644219567406"
     },
     "user_tz": -540
    },
    "id": "ytiWJaRhN_kL",
    "outputId": "401fd6c7-7f8d-4fd0-b174-172415dbebc1"
   },
   "outputs": [
    {
     "name": "stderr",
     "output_type": "stream",
     "text": [
      "--2021-10-18 04:46:01--  https://docs.google.com/uc?export=download&confirm=&id=1wK5Q7R294ejOXyumcL7UbN231Si0cl15\n",
      "Resolving docs.google.com (docs.google.com)... 142.250.207.46, 2404:6800:4004:824::200e\n",
      "Connecting to docs.google.com (docs.google.com)|142.250.207.46|:443... connected.\n",
      "HTTP request sent, awaiting response... 302 Moved Temporarily\n",
      "Location: https://doc-0c-48-docs.googleusercontent.com/docs/securesc/mct2kh06lc2863kclhc9cn1dnli5gqig/d4cj3sd5o9815n0tg6ha1060cqkvd1sh/1634532300000/10000090644219567406/17489254073164787105Z/1wK5Q7R294ejOXyumcL7UbN231Si0cl15?e=download [following]\n",
      "--2021-10-18 04:46:02--  https://doc-0c-48-docs.googleusercontent.com/docs/securesc/mct2kh06lc2863kclhc9cn1dnli5gqig/d4cj3sd5o9815n0tg6ha1060cqkvd1sh/1634532300000/10000090644219567406/17489254073164787105Z/1wK5Q7R294ejOXyumcL7UbN231Si0cl15?e=download\n",
      "Resolving doc-0c-48-docs.googleusercontent.com (doc-0c-48-docs.googleusercontent.com)... 172.217.31.161, 2404:6800:4004:80c::2001\n",
      "Connecting to doc-0c-48-docs.googleusercontent.com (doc-0c-48-docs.googleusercontent.com)|172.217.31.161|:443... connected.\n",
      "HTTP request sent, awaiting response... 302 Found\n",
      "Location: https://docs.google.com/nonceSigner?nonce=f2qc3l3u2mio8&continue=https://doc-0c-48-docs.googleusercontent.com/docs/securesc/mct2kh06lc2863kclhc9cn1dnli5gqig/d4cj3sd5o9815n0tg6ha1060cqkvd1sh/1634532300000/10000090644219567406/17489254073164787105Z/1wK5Q7R294ejOXyumcL7UbN231Si0cl15?e%3Ddownload&hash=4e5kack5aa1fp3hl3utamjif9e23u7ug [following]\n",
      "--2021-10-18 04:46:03--  https://docs.google.com/nonceSigner?nonce=f2qc3l3u2mio8&continue=https://doc-0c-48-docs.googleusercontent.com/docs/securesc/mct2kh06lc2863kclhc9cn1dnli5gqig/d4cj3sd5o9815n0tg6ha1060cqkvd1sh/1634532300000/10000090644219567406/17489254073164787105Z/1wK5Q7R294ejOXyumcL7UbN231Si0cl15?e%3Ddownload&hash=4e5kack5aa1fp3hl3utamjif9e23u7ug\n",
      "Connecting to docs.google.com (docs.google.com)|142.250.207.46|:443... connected.\n",
      "HTTP request sent, awaiting response... 302 Found\n",
      "Location: https://doc-0c-48-docs.googleusercontent.com/docs/securesc/mct2kh06lc2863kclhc9cn1dnli5gqig/d4cj3sd5o9815n0tg6ha1060cqkvd1sh/1634532300000/10000090644219567406/17489254073164787105Z/1wK5Q7R294ejOXyumcL7UbN231Si0cl15?e=download&nonce=f2qc3l3u2mio8&user=17489254073164787105Z&hash=8f4vb6gngun59rjl6p25vddhtvidrvto [following]\n",
      "--2021-10-18 04:46:04--  https://doc-0c-48-docs.googleusercontent.com/docs/securesc/mct2kh06lc2863kclhc9cn1dnli5gqig/d4cj3sd5o9815n0tg6ha1060cqkvd1sh/1634532300000/10000090644219567406/17489254073164787105Z/1wK5Q7R294ejOXyumcL7UbN231Si0cl15?e=download&nonce=f2qc3l3u2mio8&user=17489254073164787105Z&hash=8f4vb6gngun59rjl6p25vddhtvidrvto\n",
      "Connecting to doc-0c-48-docs.googleusercontent.com (doc-0c-48-docs.googleusercontent.com)|172.217.31.161|:443... connected.\n",
      "HTTP request sent, awaiting response... 200 OK\n",
      "Length: 7112342 (6.8M) [text/tab-separated-values]\n",
      "Saving to: ‘data_nq-train.tsv’\n",
      "\n",
      "     0K .......... .......... .......... .......... ..........  0%  795K 9s\n",
      "    50K .......... .......... .......... .......... ..........  1% 1.47M 7s\n",
      "   100K .......... .......... .......... .......... ..........  2% 2.35M 5s\n",
      "   150K .......... .......... .......... .......... ..........  2% 3.73M 4s\n",
      "   200K .......... .......... .......... .......... ..........  3% 4.44M 4s\n",
      "   250K .......... .......... .......... .......... ..........  4% 4.69M 3s\n",
      "   300K .......... .......... .......... .......... ..........  5% 6.07M 3s\n",
      "   350K .......... .......... .......... .......... ..........  5% 6.39M 3s\n",
      "   400K .......... .......... .......... .......... ..........  6% 8.68M 2s\n",
      "   450K .......... .......... .......... .......... ..........  7% 8.47M 2s\n",
      "   500K .......... .......... .......... .......... ..........  7% 10.1M 2s\n",
      "   550K .......... .......... .......... .......... ..........  8% 12.3M 2s\n",
      "   600K .......... .......... .......... .......... ..........  9% 11.1M 2s\n",
      "   650K .......... .......... .......... .......... .......... 10% 13.6M 2s\n",
      "   700K .......... .......... .......... .......... .......... 10% 13.3M 2s\n",
      "   750K .......... .......... .......... .......... .......... 11% 13.7M 2s\n",
      "   800K .......... .......... .......... .......... .......... 12% 15.4M 1s\n",
      "   850K .......... .......... .......... .......... .......... 12% 17.4M 1s\n",
      "   900K .......... .......... .......... .......... .......... 13% 16.6M 1s\n",
      "   950K .......... .......... .......... .......... .......... 14% 18.1M 1s\n",
      "  1000K .......... .......... .......... .......... .......... 15% 15.5M 1s\n",
      "  1050K .......... .......... .......... .......... .......... 15% 16.0M 1s\n",
      "  1100K .......... .......... .......... .......... .......... 16% 23.4M 1s\n",
      "  1150K .......... .......... .......... .......... .......... 17% 24.7M 1s\n",
      "  1200K .......... .......... .......... .......... .......... 17% 27.2M 1s\n",
      "  1250K .......... .......... .......... .......... .......... 18% 29.5M 1s\n",
      "  1300K .......... .......... .......... .......... .......... 19% 19.7M 1s\n",
      "  1350K .......... .......... .......... .......... .......... 20% 26.5M 1s\n",
      "  1400K .......... .......... .......... .......... .......... 20% 34.4M 1s\n",
      "  1450K .......... .......... .......... .......... .......... 21% 21.9M 1s\n",
      "  1500K .......... .......... .......... .......... .......... 22% 40.9M 1s\n",
      "  1550K .......... .......... .......... .......... .......... 23% 24.4M 1s\n",
      "  1600K .......... .......... .......... .......... .......... 23% 46.7M 1s\n",
      "  1650K .......... .......... .......... .......... .......... 24% 25.1M 1s\n",
      "  1700K .......... .......... .......... .......... .......... 25% 45.7M 1s\n",
      "  1750K .......... .......... .......... .......... .......... 25% 30.8M 1s\n",
      "  1800K .......... .......... .......... .......... .......... 26% 40.9M 1s\n",
      "  1850K .......... .......... .......... .......... .......... 27% 27.1M 1s\n",
      "  1900K .......... .......... .......... .......... .......... 28% 31.7M 1s\n",
      "  1950K .......... .......... .......... .......... .......... 28% 37.9M 1s\n",
      "  2000K .......... .......... .......... .......... .......... 29% 28.1M 1s\n",
      "  2050K .......... .......... .......... .......... .......... 30% 38.3M 1s\n",
      "  2100K .......... .......... .......... .......... .......... 30% 70.8M 1s\n",
      "  2150K .......... .......... .......... .......... .......... 31% 75.0M 1s\n",
      "  2200K .......... .......... .......... .......... .......... 32% 24.2M 1s\n",
      "  2250K .......... .......... .......... .......... .......... 33% 47.8M 1s\n",
      "  2300K .......... .......... .......... .......... .......... 33% 47.8M 1s\n",
      "  2350K .......... .......... .......... .......... .......... 34% 52.0M 0s\n",
      "  2400K .......... .......... .......... .......... .......... 35% 48.7M 0s\n",
      "  2450K .......... .......... .......... .......... .......... 35% 24.3M 0s\n",
      "  2500K .......... .......... .......... .......... .......... 36% 80.6M 0s\n",
      "  2550K .......... .......... .......... .......... .......... 37% 53.6M 0s\n",
      "  2600K .......... .......... .......... .......... .......... 38% 54.5M 0s\n",
      "  2650K .......... .......... .......... .......... .......... 38% 52.9M 0s\n",
      "  2700K .......... .......... .......... .......... .......... 39% 38.6M 0s\n",
      "  2750K .......... .......... .......... .......... .......... 40%  193M 0s\n",
      "  2800K .......... .......... .......... .......... .......... 41% 45.5M 0s\n",
      "  2850K .......... .......... .......... .......... .......... 41% 41.1M 0s\n",
      "  2900K .......... .......... .......... .......... .......... 42% 40.3M 0s\n",
      "  2950K .......... .......... .......... .......... .......... 43% 62.4M 0s\n",
      "  3000K .......... .......... .......... .......... .......... 43%  160M 0s\n",
      "  3050K .......... .......... .......... .......... .......... 44% 40.3M 0s\n",
      "  3100K .......... .......... .......... .......... .......... 45% 59.4M 0s\n",
      "  3150K .......... .......... .......... .......... .......... 46% 39.2M 0s\n",
      "  3200K .......... .......... .......... .......... .......... 46% 60.1M 0s\n",
      "  3250K .......... .......... .......... .......... .......... 47%  264M 0s\n",
      "  3300K .......... .......... .......... .......... .......... 48% 52.3M 0s\n",
      "  3350K .......... .......... .......... .......... .......... 48% 59.1M 0s\n",
      "  3400K .......... .......... .......... .......... .......... 49% 46.7M 0s\n",
      "  3450K .......... .......... .......... .......... .......... 50%  332M 0s\n",
      "  3500K .......... .......... .......... .......... .......... 51% 49.6M 0s\n",
      "  3550K .......... .......... .......... .......... .......... 51% 72.5M 0s\n",
      "  3600K .......... .......... .......... .......... .......... 52% 34.5M 0s\n",
      "  3650K .......... .......... .......... .......... .......... 53%  105M 0s\n",
      "  3700K .......... .......... .......... .......... .......... 53%  305M 0s\n",
      "  3750K .......... .......... .......... .......... .......... 54% 67.4M 0s\n",
      "  3800K .......... .......... .......... .......... .......... 55% 45.9M 0s\n",
      "  3850K .......... .......... .......... .......... .......... 56% 92.1M 0s\n",
      "  3900K .......... .......... .......... .......... .......... 56%  319M 0s\n",
      "  3950K .......... .......... .......... .......... .......... 57% 41.9M 0s\n",
      "  4000K .......... .......... .......... .......... .......... 58%  147M 0s\n",
      "  4050K .......... .......... .......... .......... .......... 59% 10.2M 0s\n",
      "  4100K .......... .......... .......... .......... .......... 59%  124M 0s\n",
      "  4150K .......... .......... .......... .......... .......... 60% 96.8M 0s\n",
      "  4200K .......... .......... .......... .......... .......... 61% 85.0M 0s\n",
      "  4250K .......... .......... .......... .......... .......... 61% 92.1M 0s\n",
      "  4300K .......... .......... .......... .......... .......... 62% 83.1M 0s\n",
      "  4350K .......... .......... .......... .......... .......... 63% 85.2M 0s\n",
      "  4400K .......... .......... .......... .......... .......... 64% 73.0M 0s\n",
      "  4450K .......... .......... .......... .......... .......... 64% 74.0M 0s\n",
      "  4500K .......... .......... .......... .......... .......... 65%  101M 0s\n",
      "  4550K .......... .......... .......... .......... .......... 66%  163M 0s\n",
      "  4600K .......... .......... .......... .......... .......... 66% 75.3M 0s\n",
      "  4650K .......... .......... .......... .......... .......... 67% 80.7M 0s\n",
      "  4700K .......... .......... .......... .......... .......... 68% 98.5M 0s\n",
      "  4750K .......... .......... .......... .......... .......... 69%  189M 0s\n",
      "  4800K .......... .......... .......... .......... .......... 69% 68.8M 0s\n",
      "  4850K .......... .......... .......... .......... .......... 70% 91.9M 0s\n",
      "  4900K .......... .......... .......... .......... .......... 71%  127M 0s\n",
      "  4950K .......... .......... .......... .......... .......... 71% 95.1M 0s\n",
      "  5000K .......... .......... .......... .......... .......... 72% 75.4M 0s\n",
      "  5050K .......... .......... .......... .......... .......... 73%  111M 0s\n",
      "  5100K .......... .......... .......... .......... .......... 74%  181M 0s\n",
      "  5150K .......... .......... .......... .......... .......... 74% 87.6M 0s\n",
      "  5200K .......... .......... .......... .......... .......... 75% 84.9M 0s\n",
      "  5250K .......... .......... .......... .......... .......... 76% 92.3M 0s\n",
      "  5300K .......... .......... .......... .......... .......... 77%  123M 0s\n",
      "  5350K .......... .......... .......... .......... .......... 77%  162M 0s\n",
      "  5400K .......... .......... .......... .......... .......... 78% 87.1M 0s\n",
      "  5450K .......... .......... .......... .......... .......... 79% 92.6M 0s\n",
      "  5500K .......... .......... .......... .......... .......... 79%  130M 0s\n",
      "  5550K .......... .......... .......... .......... .......... 80%  186M 0s\n",
      "  5600K .......... .......... .......... .......... .......... 81% 85.7M 0s\n",
      "  5650K .......... .......... .......... .......... .......... 82%  101M 0s\n",
      "  5700K .......... .......... .......... .......... .......... 82% 99.2M 0s\n",
      "  5750K .......... .......... .......... .......... .......... 83%  132M 0s\n",
      "  5800K .......... .......... .......... .......... .......... 84%  153M 0s\n",
      "  5850K .......... .......... .......... .......... .......... 84%  102M 0s\n",
      "  5900K .......... .......... .......... .......... .......... 85%  101M 0s\n",
      "  5950K .......... .......... .......... .......... .......... 86% 92.2M 0s\n",
      "  6000K .......... .......... .......... .......... .......... 87%  103M 0s\n",
      "  6050K .......... .......... .......... .......... .......... 87%  297M 0s\n",
      "  6100K .......... .......... .......... .......... .......... 88%  106M 0s\n",
      "  6150K .......... .......... .......... .......... .......... 89%  104M 0s\n",
      "  6200K .......... .......... .......... .......... .......... 89% 94.4M 0s\n",
      "  6250K .......... .......... .......... .......... .......... 90%  322M 0s\n",
      "  6300K .......... .......... .......... .......... .......... 91% 46.6M 0s\n",
      "  6350K .......... .......... .......... .......... .......... 92% 60.5M 0s\n",
      "  6400K .......... .......... .......... .......... .......... 92% 50.7M 0s\n",
      "  6450K .......... .......... .......... .......... .......... 93% 48.2M 0s\n",
      "  6500K .......... .......... .......... .......... .......... 94%  297M 0s\n",
      "  6550K .......... .......... .......... .......... .......... 95% 80.6M 0s\n",
      "  6600K .......... .......... .......... .......... .......... 95% 31.4M 0s\n",
      "  6650K .......... .......... .......... .......... .......... 96% 86.5M 0s\n",
      "  6700K .......... .......... .......... .......... .......... 97%  316M 0s\n",
      "  6750K .......... .......... .......... .......... .......... 97% 86.8M 0s\n",
      "  6800K .......... .......... .......... .......... .......... 98% 42.2M 0s\n",
      "  6850K .......... .......... .......... .......... .......... 99%  119M 0s\n",
      "  6900K .......... .......... .......... .......... .....     100%  289M=0.3s\n",
      "\n",
      "2021-10-18 04:46:05 (21.1 MB/s) - ‘data_nq-train.tsv’ saved [7112342/7112342]\n",
      "\n",
      "--2021-10-18 04:46:06--  https://docs.google.com/uc?export=download&confirm=&id=1Ii_wNVpam2wZ5wYebqAqwPHi6g0Ayg9l\n",
      "Resolving docs.google.com (docs.google.com)... 142.250.207.46, 2404:6800:4004:824::200e\n",
      "Connecting to docs.google.com (docs.google.com)|142.250.207.46|:443... connected.\n",
      "HTTP request sent, awaiting response... 302 Moved Temporarily\n",
      "Location: https://doc-0c-4g-docs.googleusercontent.com/docs/securesc/bb04m3afrjlbl08i4hileklukgfv34hk/hdr8b3uhnckk6fl80stqoee33e4lomgn/1634532300000/10000090644219567406/16007326460997145503Z/1Ii_wNVpam2wZ5wYebqAqwPHi6g0Ayg9l?e=download [following]\n",
      "--2021-10-18 04:46:07--  https://doc-0c-4g-docs.googleusercontent.com/docs/securesc/bb04m3afrjlbl08i4hileklukgfv34hk/hdr8b3uhnckk6fl80stqoee33e4lomgn/1634532300000/10000090644219567406/16007326460997145503Z/1Ii_wNVpam2wZ5wYebqAqwPHi6g0Ayg9l?e=download\n",
      "Resolving doc-0c-4g-docs.googleusercontent.com (doc-0c-4g-docs.googleusercontent.com)... 172.217.31.161, 2404:6800:4004:80c::2001\n",
      "Connecting to doc-0c-4g-docs.googleusercontent.com (doc-0c-4g-docs.googleusercontent.com)|172.217.31.161|:443... connected.\n",
      "HTTP request sent, awaiting response... 302 Found\n",
      "Location: https://docs.google.com/nonceSigner?nonce=3ipk0cllb0r1i&continue=https://doc-0c-4g-docs.googleusercontent.com/docs/securesc/bb04m3afrjlbl08i4hileklukgfv34hk/hdr8b3uhnckk6fl80stqoee33e4lomgn/1634532300000/10000090644219567406/16007326460997145503Z/1Ii_wNVpam2wZ5wYebqAqwPHi6g0Ayg9l?e%3Ddownload&hash=g5amov7r78kojubc19r6tlhnk0omlttk [following]\n",
      "--2021-10-18 04:46:07--  https://docs.google.com/nonceSigner?nonce=3ipk0cllb0r1i&continue=https://doc-0c-4g-docs.googleusercontent.com/docs/securesc/bb04m3afrjlbl08i4hileklukgfv34hk/hdr8b3uhnckk6fl80stqoee33e4lomgn/1634532300000/10000090644219567406/16007326460997145503Z/1Ii_wNVpam2wZ5wYebqAqwPHi6g0Ayg9l?e%3Ddownload&hash=g5amov7r78kojubc19r6tlhnk0omlttk\n",
      "Connecting to docs.google.com (docs.google.com)|142.250.207.46|:443... connected.\n",
      "HTTP request sent, awaiting response... 302 Found\n",
      "Location: https://doc-0c-4g-docs.googleusercontent.com/docs/securesc/bb04m3afrjlbl08i4hileklukgfv34hk/hdr8b3uhnckk6fl80stqoee33e4lomgn/1634532300000/10000090644219567406/16007326460997145503Z/1Ii_wNVpam2wZ5wYebqAqwPHi6g0Ayg9l?e=download&nonce=3ipk0cllb0r1i&user=16007326460997145503Z&hash=nphjecggsemsgrut1egd0quf5d7c50gr [following]\n",
      "--2021-10-18 04:46:08--  https://doc-0c-4g-docs.googleusercontent.com/docs/securesc/bb04m3afrjlbl08i4hileklukgfv34hk/hdr8b3uhnckk6fl80stqoee33e4lomgn/1634532300000/10000090644219567406/16007326460997145503Z/1Ii_wNVpam2wZ5wYebqAqwPHi6g0Ayg9l?e=download&nonce=3ipk0cllb0r1i&user=16007326460997145503Z&hash=nphjecggsemsgrut1egd0quf5d7c50gr\n",
      "Connecting to doc-0c-4g-docs.googleusercontent.com (doc-0c-4g-docs.googleusercontent.com)|172.217.31.161|:443... connected.\n",
      "HTTP request sent, awaiting response... 200 OK\n",
      "Length: 179403 (175K) [text/tab-separated-values]\n",
      "Saving to: ‘data_nq-validation.tsv’\n",
      "\n",
      "     0K .......... .......... .......... .......... .......... 28%  851K 0s\n",
      "    50K .......... .......... .......... .......... .......... 57% 1.03M 0s\n",
      "   100K .......... .......... .......... .......... .......... 85% 2.33M 0s\n",
      "   150K .......... .......... .....                           100% 2.44M=0.1s\n",
      "\n",
      "2021-10-18 04:46:08 (1.25 MB/s) - ‘data_nq-validation.tsv’ saved [179403/179403]\n",
      "\n"
     ]
    }
   ],
   "source": [
    "%%bash\n",
    "# install packages\n",
    "pip install datasets==1.4.1 > /dev/null 2>&1 # execute command in silence\n",
    "pip install transformers==4.4.1 > /dev/null 2>&1\n",
    "pip install tqdm==4.41.1 > /dev/null 2>&1\n",
    "pip install apache_beam > /dev/null 2>&1 # for trivia or nq datasets, just in case\n",
    "# download natural qusetion datasets \n",
    "wget --load-cookies /tmp/cookies.txt \"https://docs.google.com/uc?export=download&confirm=$(wget --quiet --save-cookies /tmp/cookies.txt --keep-session-cookies --no-check-certificate 'https://docs.google.com/uc?export=download&id=1wK5Q7R294ejOXyumcL7UbN231Si0cl15' -O- | sed -rn 's/.*confirm=([0-9A-Za-z_]+).*/\\1\\n/p')&id=1wK5Q7R294ejOXyumcL7UbN231Si0cl15\" -O data_nq-train.tsv && rm -rf /tmp/cookies.txt \n",
    "wget --load-cookies /tmp/cookies.txt \"https://docs.google.com/uc?export=download&confirm=$(wget --quiet --save-cookies /tmp/cookies.txt --keep-session-cookies --no-check-certificate 'https://docs.google.com/uc?export=download&id=1Ii_wNVpam2wZ5wYebqAqwPHi6g0Ayg9l' -O- | sed -rn 's/.*confirm=([0-9A-Za-z_]+).*/\\1\\n/p')&id=1Ii_wNVpam2wZ5wYebqAqwPHi6g0Ayg9l\" -O data_nq-validation.tsv && rm -rf /tmp/cookies.txt "
   ]
  },
  {
   "cell_type": "markdown",
   "metadata": {
    "id": "Fyl7WpPXksbu"
   },
   "source": [
    "## 데이터 불러오기"
   ]
  },
  {
   "cell_type": "code",
   "execution_count": 2,
   "metadata": {
    "executionInfo": {
     "elapsed": 34371,
     "status": "ok",
     "timestamp": 1617073403498,
     "user": {
      "displayName": "JinUk Cho",
      "photoUrl": "",
      "userId": "10000090644219567406"
     },
     "user_tz": -540
    },
    "id": "SGHVHyIMOHmv"
   },
   "outputs": [],
   "source": [
    "import os\n",
    "from tqdm.auto import tqdm, trange\n",
    "import argparse\n",
    "import random\n",
    "import numpy as np\n",
    "\n",
    "from datasets import load_metric, Dataset"
   ]
  },
  {
   "cell_type": "code",
   "execution_count": 3,
   "metadata": {
    "executionInfo": {
     "elapsed": 34369,
     "status": "ok",
     "timestamp": 1617073403500,
     "user": {
      "displayName": "JinUk Cho",
      "photoUrl": "",
      "userId": "10000090644219567406"
     },
     "user_tz": -540
    },
    "id": "ooXz0uFwbiQ0"
   },
   "outputs": [],
   "source": [
    "DATA_DIR = \"./\"\n",
    "nq_tsv_path = {\n",
    "    \"train\": os.path.join(DATA_DIR, \"data_nq-train.tsv\"),\n",
    "    \"valid\": os.path.join(DATA_DIR, \"data_nq-validation.tsv\")\n",
    "}"
   ]
  },
  {
   "cell_type": "code",
   "execution_count": 4,
   "metadata": {
    "executionInfo": {
     "elapsed": 34909,
     "status": "ok",
     "timestamp": 1617073404043,
     "user": {
      "displayName": "JinUk Cho",
      "photoUrl": "",
      "userId": "10000090644219567406"
     },
     "user_tz": -540
    },
    "id": "Xzm-GjiwjFc8"
   },
   "outputs": [],
   "source": [
    "import pandas as pd\n",
    "train_df = pd.read_csv(filepath_or_buffer=nq_tsv_path['train'], sep='\\t',\n",
    "                 header=None)\n",
    "train_df = train_df.rename(columns = {train_df.columns[0]: 'question', train_df.columns[1]: 'answer'}).dropna()\n",
    "train_ds = Dataset.from_pandas(train_df)\n",
    "\n",
    "valid_df = pd.read_csv(filepath_or_buffer=nq_tsv_path['valid'], sep='\\t',\n",
    "                 header=None)\n",
    "valid_df = valid_df.rename(columns = {valid_df.columns[0]: 'question', valid_df.columns[1]: 'answer'}).dropna()\n",
    "valid_ds = Dataset.from_pandas(valid_df)"
   ]
  },
  {
   "cell_type": "code",
   "execution_count": 5,
   "metadata": {
    "executionInfo": {
     "elapsed": 34906,
     "status": "ok",
     "timestamp": 1617073404044,
     "user": {
      "displayName": "JinUk Cho",
      "photoUrl": "",
      "userId": "10000090644219567406"
     },
     "user_tz": -540
    },
    "id": "MnpY_eVUWL3x"
   },
   "outputs": [],
   "source": [
    "import re\n",
    "def nq_preprocessor(ex):\n",
    "  def normalize_text(text):\n",
    "    \"\"\"Lowercase and remove quotes from a string.\"\"\"\n",
    "    text = text.lower()\n",
    "    text = re.sub(\"'(.*)'\", r\"\\1\", text)\n",
    "    return text\n",
    "\n",
    "  def to_inputs_and_targets(ex):\n",
    "    \"\"\"Map {\"question\": ..., \"answer\": ...}->{\"inputs\": ..., \"targets\": ...}.\"\"\"\n",
    "    return {\n",
    "        \"inputs\":\n",
    "             \"\".join(\n",
    "                 [\"natural question: \", normalize_text(ex[\"question\"])]),\n",
    "        \"targets\": normalize_text(ex[\"answer\"])\n",
    "    }\n",
    "  return to_inputs_and_targets(ex)"
   ]
  },
  {
   "cell_type": "code",
   "execution_count": 6,
   "metadata": {
    "colab": {
     "base_uri": "https://localhost:8080/",
     "height": 259,
     "referenced_widgets": [
      "5685cebee14b4c9ebe5a06be2cd05a57",
      "f7a8db4fe0074ff0a38ff4682c01dfbe",
      "80fe849c4c614383bbfe2f17915167f2",
      "ccaed2142d6441e0abbc6b1931063d19",
      "3e439b96d22f49bea1e5aa3572a45199",
      "24557e49ae6c4fe98c3475696b7c0ca7",
      "6425489d73bf4f88b34ef25380ce5739",
      "aa99a05c004e4008893a447d5ed77bdc",
      "2f87ece1fb8a4763b6935191aa939aa7",
      "87b4d541ed4245ae8ce1c264130dfff4",
      "b9112138b2ab49a69bc85b263f90f833",
      "17a0380f6211445dae25e7bcfcd433dd",
      "df4485f7087d4d1f9499dcbd9f7dc100",
      "5b8d0dff30ea4a1d9f6f6b64bd4f8e8b",
      "e1416c9a2b3d4320b9dff6ee3757fd51",
      "bdd55cd904e04723b2c6dc17e7282f13",
      "cf73b5bacf704ac3b93d67c74df9b08b",
      "e0b5ccc215a14f508cbd98668f39e37f",
      "9095bbabaf4f4e58ad17d2f107827164",
      "3f03b377bb084a52afe6a9d39e0461af",
      "96ec5237c98c4fe0838295d5ed248dd6",
      "2bf4e2027139465588f0c37834b2d2eb",
      "6b340b9f1109404d8704f6a848d8a185",
      "f49565e4136c47a98399f7eeb9cc0ed4",
      "559c950cac8d4fb1a626f7c0dddb811b",
      "f758260b13654115a2c493c8a12e459b",
      "147d248e2670415a82afc401bb058317",
      "08fce7e8a19a47558a5900229039bb69",
      "52585615c1444ac7bc2c672f954d0e93",
      "c8f93a38e0f64cb6948fafdc3eb98d1b",
      "976f9c742d144f8fae9601cdd53c7754",
      "9814ed9820524d8095115cd97cc332ea"
     ]
    },
    "executionInfo": {
     "elapsed": 52210,
     "status": "ok",
     "timestamp": 1617073421352,
     "user": {
      "displayName": "JinUk Cho",
      "photoUrl": "",
      "userId": "10000090644219567406"
     },
     "user_tz": -540
    },
    "id": "FPFMu_TcnUVq",
    "outputId": "85125ed7-93e2-41e3-bbab-e09942a215a2"
   },
   "outputs": [
    {
     "name": "stdout",
     "output_type": "stream",
     "text": [
      "  "
     ]
    },
    {
     "data": {
      "application/vnd.jupyter.widget-view+json": {
       "model_id": "1948fba39982430ab2cc0b9b08e543f2",
       "version_major": 2,
       "version_minor": 0
      },
      "text/plain": [
       "HBox(children=(FloatProgress(value=0.0, description='#0', max=12010.0, style=ProgressStyle(description_width='…"
      ]
     },
     "metadata": {},
     "output_type": "display_data"
    },
    {
     "name": "stdout",
     "output_type": "stream",
     "text": [
      "  "
     ]
    },
    {
     "data": {
      "application/vnd.jupyter.widget-view+json": {
       "model_id": "8d86ebcec4e646ea842436e349cde387",
       "version_major": 2,
       "version_minor": 0
      },
      "text/plain": [
       "HBox(children=(FloatProgress(value=0.0, description='#1', max=12010.0, style=ProgressStyle(description_width='…"
      ]
     },
     "metadata": {},
     "output_type": "display_data"
    },
    {
     "data": {
      "application/vnd.jupyter.widget-view+json": {
       "model_id": "98d07ba8a918426894b504a6389ae3a9",
       "version_major": 2,
       "version_minor": 0
      },
      "text/plain": [
       "HBox(children=(FloatProgress(value=0.0, description='#2', max=12009.0, style=ProgressStyle(description_width='…"
      ]
     },
     "metadata": {},
     "output_type": "display_data"
    },
    {
     "name": "stdout",
     "output_type": "stream",
     "text": [
      " "
     ]
    },
    {
     "data": {
      "application/vnd.jupyter.widget-view+json": {
       "model_id": "c11f7c282b894ec88dbb8ef4c2582117",
       "version_major": 2,
       "version_minor": 0
      },
      "text/plain": [
       "HBox(children=(FloatProgress(value=0.0, description='#3', max=12009.0, style=ProgressStyle(description_width='…"
      ]
     },
     "metadata": {},
     "output_type": "display_data"
    },
    {
     "name": "stdout",
     "output_type": "stream",
     "text": [
      " "
     ]
    },
    {
     "data": {
      "application/vnd.jupyter.widget-view+json": {
       "model_id": "74385a77c92942758f113735b286cfe8",
       "version_major": 2,
       "version_minor": 0
      },
      "text/plain": [
       "HBox(children=(FloatProgress(value=0.0, description='#4', max=12009.0, style=ProgressStyle(description_width='…"
      ]
     },
     "metadata": {},
     "output_type": "display_data"
    },
    {
     "name": "stdout",
     "output_type": "stream",
     "text": [
      "  "
     ]
    },
    {
     "data": {
      "application/vnd.jupyter.widget-view+json": {
       "model_id": "32c1562bed1843a58dec00b389b1c703",
       "version_major": 2,
       "version_minor": 0
      },
      "text/plain": [
       "HBox(children=(FloatProgress(value=0.0, description='#5', max=12009.0, style=ProgressStyle(description_width='…"
      ]
     },
     "metadata": {},
     "output_type": "display_data"
    },
    {
     "data": {
      "application/vnd.jupyter.widget-view+json": {
       "model_id": "b1f515537fc1446789ba159dee99afea",
       "version_major": 2,
       "version_minor": 0
      },
      "text/plain": [
       "HBox(children=(FloatProgress(value=0.0, description='#6', max=12009.0, style=ProgressStyle(description_width='…"
      ]
     },
     "metadata": {},
     "output_type": "display_data"
    },
    {
     "data": {
      "application/vnd.jupyter.widget-view+json": {
       "model_id": "212f23f4fddd4265a8eec04017394d90",
       "version_major": 2,
       "version_minor": 0
      },
      "text/plain": [
       "HBox(children=(FloatProgress(value=0.0, description='#7', max=12009.0, style=ProgressStyle(description_width='…"
      ]
     },
     "metadata": {},
     "output_type": "display_data"
    },
    {
     "name": "stdout",
     "output_type": "stream",
     "text": [
      "\n",
      "\n",
      "\n",
      "\n",
      "\n",
      "\n",
      "\n",
      "\n",
      "        "
     ]
    },
    {
     "data": {
      "application/vnd.jupyter.widget-view+json": {
       "model_id": "4fade25ad8824738be987c188612f94c",
       "version_major": 2,
       "version_minor": 0
      },
      "text/plain": [
       "HBox(children=(FloatProgress(value=0.0, description='#0', max=287.0, style=ProgressStyle(description_width='in…"
      ]
     },
     "metadata": {},
     "output_type": "display_data"
    },
    {
     "data": {
      "application/vnd.jupyter.widget-view+json": {
       "model_id": "3ddb47f5dbef4e97bb5e3878d257b150",
       "version_major": 2,
       "version_minor": 0
      },
      "text/plain": [
       "HBox(children=(FloatProgress(value=0.0, description='#1', max=287.0, style=ProgressStyle(description_width='in…"
      ]
     },
     "metadata": {},
     "output_type": "display_data"
    },
    {
     "data": {
      "application/vnd.jupyter.widget-view+json": {
       "model_id": "9de90d783cc149afab75312b8daae8b1",
       "version_major": 2,
       "version_minor": 0
      },
      "text/plain": [
       "HBox(children=(FloatProgress(value=0.0, description='#4', max=287.0, style=ProgressStyle(description_width='in…"
      ]
     },
     "metadata": {},
     "output_type": "display_data"
    },
    {
     "data": {
      "application/vnd.jupyter.widget-view+json": {
       "model_id": "d3149e475cf949a58efb88d037eaea47",
       "version_major": 2,
       "version_minor": 0
      },
      "text/plain": [
       "HBox(children=(FloatProgress(value=0.0, description='#7', max=286.0, style=ProgressStyle(description_width='in…"
      ]
     },
     "metadata": {},
     "output_type": "display_data"
    },
    {
     "data": {
      "application/vnd.jupyter.widget-view+json": {
       "model_id": "5e7eb3a55af04395a2a7c4edb0796fb2",
       "version_major": 2,
       "version_minor": 0
      },
      "text/plain": [
       "HBox(children=(FloatProgress(value=0.0, description='#5', max=287.0, style=ProgressStyle(description_width='in…"
      ]
     },
     "metadata": {},
     "output_type": "display_data"
    },
    {
     "data": {
      "application/vnd.jupyter.widget-view+json": {
       "model_id": "c7cd8fff4c8a4f31a2d50d99e203d8ae",
       "version_major": 2,
       "version_minor": 0
      },
      "text/plain": [
       "HBox(children=(FloatProgress(value=0.0, description='#2', max=287.0, style=ProgressStyle(description_width='in…"
      ]
     },
     "metadata": {},
     "output_type": "display_data"
    },
    {
     "data": {
      "application/vnd.jupyter.widget-view+json": {
       "model_id": "f08eb58fb6bd42df9e5622ce92fb74cb",
       "version_major": 2,
       "version_minor": 0
      },
      "text/plain": [
       "HBox(children=(FloatProgress(value=0.0, description='#3', max=287.0, style=ProgressStyle(description_width='in…"
      ]
     },
     "metadata": {},
     "output_type": "display_data"
    },
    {
     "data": {
      "application/vnd.jupyter.widget-view+json": {
       "model_id": "25c9d8190d4940deaf23f9eae33c18ab",
       "version_major": 2,
       "version_minor": 0
      },
      "text/plain": [
       "HBox(children=(FloatProgress(value=0.0, description='#6', max=287.0, style=ProgressStyle(description_width='in…"
      ]
     },
     "metadata": {},
     "output_type": "display_data"
    },
    {
     "name": "stdout",
     "output_type": "stream",
     "text": [
      "\n",
      "\n",
      "\n",
      "\n",
      "\n",
      "\n",
      "\n",
      "\n"
     ]
    }
   ],
   "source": [
    "import multiprocessing as mp\n",
    "cpus = mp.cpu_count()\n",
    "train_ds = train_ds.map(lambda x: nq_preprocessor(x), num_proc=cpus).remove_columns(['question', 'answer'])\n",
    "valid_ds = valid_ds.map(lambda x: nq_preprocessor(x), num_proc=cpus).remove_columns(['question', 'answer'])"
   ]
  },
  {
   "cell_type": "code",
   "execution_count": 7,
   "metadata": {
    "colab": {
     "base_uri": "https://localhost:8080/"
    },
    "executionInfo": {
     "elapsed": 52205,
     "status": "ok",
     "timestamp": 1617073421352,
     "user": {
      "displayName": "JinUk Cho",
      "photoUrl": "",
      "userId": "10000090644219567406"
     },
     "user_tz": -540
    },
    "id": "e-lNAgCFsgJi",
    "outputId": "62c88ee8-bd32-44f6-83b4-d7ff717261c1"
   },
   "outputs": [
    {
     "data": {
      "text/plain": [
       "{'__index_level_0__': 0,\n",
       " 'inputs': 'natural question: which is the most common use of opt-in e-mail marketing?',\n",
       " 'targets': \"a newsletter sent to an advertising firm's customers\"}"
      ]
     },
     "execution_count": 7,
     "metadata": {},
     "output_type": "execute_result"
    }
   ],
   "source": [
    "train_ds[0]"
   ]
  },
  {
   "cell_type": "code",
   "execution_count": 8,
   "metadata": {
    "executionInfo": {
     "elapsed": 52201,
     "status": "ok",
     "timestamp": 1617073421353,
     "user": {
      "displayName": "JinUk Cho",
      "photoUrl": "",
      "userId": "10000090644219567406"
     },
     "user_tz": -540
    },
    "id": "VcVIlBtlqqAX"
   },
   "outputs": [],
   "source": [
    "# Choose small samples as our dataset \n",
    "sample_idx = np.random.choice(range(len(train_ds)), 4) \n",
    "training_dataset = train_ds[sample_idx]"
   ]
  },
  {
   "cell_type": "markdown",
   "metadata": {
    "id": "wfn53GMiljHv"
   },
   "source": [
    "## 훈련"
   ]
  },
  {
   "cell_type": "code",
   "execution_count": 9,
   "metadata": {
    "executionInfo": {
     "elapsed": 52465,
     "status": "ok",
     "timestamp": 1617073421619,
     "user": {
      "displayName": "JinUk Cho",
      "photoUrl": "",
      "userId": "10000090644219567406"
     },
     "user_tz": -540
    },
    "id": "qxv5P-bYmDub"
   },
   "outputs": [],
   "source": [
    "import torch\n",
    "import torch.nn.functional as F\n",
    "\n",
    "from transformers import (AutoTokenizer, \n",
    "                          AutoModelForSeq2SeqLM, \n",
    "                          AdamW, \n",
    "                          TrainingArguments, \n",
    "                          get_linear_schedule_with_warmup)"
   ]
  },
  {
   "cell_type": "code",
   "execution_count": 10,
   "metadata": {
    "executionInfo": {
     "elapsed": 52462,
     "status": "ok",
     "timestamp": 1617073421619,
     "user": {
      "displayName": "JinUk Cho",
      "photoUrl": "",
      "userId": "10000090644219567406"
     },
     "user_tz": -540
    },
    "id": "1it3rd3Hml1I"
   },
   "outputs": [],
   "source": [
    "args = TrainingArguments(\n",
    "    output_dir=\"seq2seq_models/bart_nq\",\n",
    "    evaluation_strategy=\"epoch\",\n",
    "    save_strategy=\"epoch\",\n",
    "    learning_rate=2e-5,\n",
    "    per_device_train_batch_size=2,\n",
    "    per_device_eval_batch_size=2,\n",
    "    num_train_epochs=2,\n",
    "    weight_decay=0.01,\n",
    "    gradient_accumulation_steps=2\n",
    ")"
   ]
  },
  {
   "cell_type": "code",
   "execution_count": 11,
   "metadata": {
    "colab": {
     "base_uri": "https://localhost:8080/"
    },
    "executionInfo": {
     "elapsed": 52460,
     "status": "ok",
     "timestamp": 1617073421620,
     "user": {
      "displayName": "JinUk Cho",
      "photoUrl": "",
      "userId": "10000090644219567406"
     },
     "user_tz": -540
    },
    "id": "TewtazDUsMQz",
    "outputId": "e944f974-4494-473f-d456-f29d54dfcc87"
   },
   "outputs": [
    {
     "data": {
      "text/plain": [
       "device(type='cuda', index=0)"
      ]
     },
     "execution_count": 11,
     "metadata": {},
     "output_type": "execute_result"
    }
   ],
   "source": [
    "args.device"
   ]
  },
  {
   "cell_type": "code",
   "execution_count": 12,
   "metadata": {
    "colab": {
     "base_uri": "https://localhost:8080/",
     "height": 323,
     "referenced_widgets": [
      "6b8aea4495da4dd7af4fc6b0825881e6",
      "85072ab4c8e842eaa21f4bb84dae58ff",
      "47e6f94f98284896a8f784ce4079393d",
      "86f0355e085a4022ab9904dbc63e1a11",
      "a01786a12bc34f0bb09202f58aca57fb",
      "b7d3a82e9d084518b970906f250f8c6c",
      "79910a86feed468caaa938128700e636",
      "d65c2a0991a84eadb11db93c427d9924",
      "f2f911b367b14390bed55be348f105f8",
      "8fca6f9c0c69405bb51f7db56b61f0a3",
      "11609bcd0a424dcfb66a60d633f811d6",
      "2b10dba0b4de4a52abb69e43e35c7e41",
      "edf67fffc7234b98af520c3e48dfc3e3",
      "c34783c709994d38ab25c0a43bfe4c75",
      "b4d820e14c724739a26d725e0758e35b",
      "636412a9555e483d816622c1a17f27f5",
      "b7f610051bc04f0bae84d022159ff5fc",
      "d3fe9001e6f04196be50cd12dfc58b75",
      "15b1562fe2c042d89e083b0dacc13bcb",
      "c5b78750d6eb4635a04081cea0a75587",
      "03c50033e51a4bf9ae300c15dd4e55c6",
      "5662f41d17c94a629a12f5c2d327900a",
      "0c81c16a95b545e1b142fe23010d711b",
      "85fd0968cd9147b08f17ab48d378e4c6",
      "902a0137147b42bca7bf73483e7e85f8",
      "374300ce6c1943d2b5483774fcb2e279",
      "bb47ada255e34e8484124bfccf08daea",
      "e6c2040b056a427b879f28f6d1063818",
      "09b7cb8fd72a4b8ab4bcd070391136fc",
      "2f608a356e254c46a664f351c5ead926",
      "6f455c0486064c268bf20136757faa3d",
      "ff3c25f503f24bc59075ca373e56f28a",
      "e33cf377d13549518e3b356ea9102c25",
      "aa4f205cfcef457092412c4a4ba2458a",
      "ad0911a5b949402d91bfd4ff34d9b1bf",
      "9810049a656d46e3ac64be1f343d0f0b",
      "4783f9223f7f4d24816bdeddbc223360",
      "04e8dd101d4d496d97c6de13dc44bb79",
      "aa7e71a7ba554c17a4f2016faadbf9e2",
      "d126b808c3f54b2faafd4d64dab98371",
      "26f183d9268f4df184eefd2584725944",
      "edb52d9428e2435a953cfda948a609ff",
      "48e7dc83d240453ab55f3a9187347ddb",
      "69ea602b9c644bdf8f852877da5ad63c",
      "ef01a85b83ee4b948f37940ced5a1725",
      "e2e39ae28c8c49b2a2204c9554b0f339",
      "3e0ad1d852b5438bb6c2d6f4d76596dc",
      "d11aabf58d3a4eb0873bfcb3d651c02b"
     ]
    },
    "executionInfo": {
     "elapsed": 103269,
     "status": "ok",
     "timestamp": 1617073472434,
     "user": {
      "displayName": "JinUk Cho",
      "photoUrl": "",
      "userId": "10000090644219567406"
     },
     "user_tz": -540
    },
    "id": "6FjnDmBrmA4R",
    "outputId": "77c18383-5a76-4b26-f250-c0d0e9f97c6b"
   },
   "outputs": [
    {
     "data": {
      "application/vnd.jupyter.widget-view+json": {
       "model_id": "360e33b5133c442a80349d74f960ebfe",
       "version_major": 2,
       "version_minor": 0
      },
      "text/plain": [
       "HBox(children=(FloatProgress(value=0.0, description='Downloading', max=1600.0, style=ProgressStyle(description…"
      ]
     },
     "metadata": {},
     "output_type": "display_data"
    },
    {
     "name": "stdout",
     "output_type": "stream",
     "text": [
      "\n"
     ]
    },
    {
     "data": {
      "application/vnd.jupyter.widget-view+json": {
       "model_id": "c5cd81a53ad24a5da66290c36b494854",
       "version_major": 2,
       "version_minor": 0
      },
      "text/plain": [
       "HBox(children=(FloatProgress(value=0.0, description='Downloading', max=898822.0, style=ProgressStyle(descripti…"
      ]
     },
     "metadata": {},
     "output_type": "display_data"
    },
    {
     "name": "stdout",
     "output_type": "stream",
     "text": [
      "\n"
     ]
    },
    {
     "data": {
      "application/vnd.jupyter.widget-view+json": {
       "model_id": "79ccc10cc19f4d5caaccc427a0525e11",
       "version_major": 2,
       "version_minor": 0
      },
      "text/plain": [
       "HBox(children=(FloatProgress(value=0.0, description='Downloading', max=456318.0, style=ProgressStyle(descripti…"
      ]
     },
     "metadata": {},
     "output_type": "display_data"
    },
    {
     "name": "stdout",
     "output_type": "stream",
     "text": [
      "\n"
     ]
    },
    {
     "data": {
      "application/vnd.jupyter.widget-view+json": {
       "model_id": "116c41e27d14410ba21d8a360085c911",
       "version_major": 2,
       "version_minor": 0
      },
      "text/plain": [
       "HBox(children=(FloatProgress(value=0.0, description='Downloading', max=1355863.0, style=ProgressStyle(descript…"
      ]
     },
     "metadata": {},
     "output_type": "display_data"
    },
    {
     "name": "stdout",
     "output_type": "stream",
     "text": [
      "\n"
     ]
    },
    {
     "data": {
      "application/vnd.jupyter.widget-view+json": {
       "model_id": "de519201de4044ffbb16a4538cecdd12",
       "version_major": 2,
       "version_minor": 0
      },
      "text/plain": [
       "HBox(children=(FloatProgress(value=0.0, description='Downloading', max=26.0, style=ProgressStyle(description_w…"
      ]
     },
     "metadata": {},
     "output_type": "display_data"
    },
    {
     "name": "stdout",
     "output_type": "stream",
     "text": [
      "\n"
     ]
    },
    {
     "data": {
      "application/vnd.jupyter.widget-view+json": {
       "model_id": "0161c40660514bdfb9516ff2d8a92c59",
       "version_major": 2,
       "version_minor": 0
      },
      "text/plain": [
       "HBox(children=(FloatProgress(value=0.0, description='Downloading', max=1018571383.0, style=ProgressStyle(descr…"
      ]
     },
     "metadata": {},
     "output_type": "display_data"
    },
    {
     "name": "stdout",
     "output_type": "stream",
     "text": [
      "\n"
     ]
    }
   ],
   "source": [
    "# load pre-trained model on cuda (if available)\n",
    "model_checkpoint = \"facebook/bart-large\" \n",
    "\n",
    "tokenizer = AutoTokenizer.from_pretrained(model_checkpoint)\n",
    "model = AutoModelForSeq2SeqLM.from_pretrained(model_checkpoint).to(args.device) # BartForConditionalGeneration"
   ]
  },
  {
   "cell_type": "code",
   "execution_count": 13,
   "metadata": {
    "colab": {
     "base_uri": "https://localhost:8080/"
    },
    "executionInfo": {
     "elapsed": 103701,
     "status": "ok",
     "timestamp": 1617073472871,
     "user": {
      "displayName": "JinUk Cho",
      "photoUrl": "",
      "userId": "10000090644219567406"
     },
     "user_tz": -540
    },
    "id": "Vlnxy4fZuZpE",
    "outputId": "76fb8456-32c4-48ce-ad83-cbc67a8676b5"
   },
   "outputs": [
    {
     "name": "stdout",
     "output_type": "stream",
     "text": [
      "Mon Oct 18 04:47:43 2021       \n",
      "+-----------------------------------------------------------------------------+\n",
      "| NVIDIA-SMI 450.80.02    Driver Version: 450.80.02    CUDA Version: 11.0     |\n",
      "|-------------------------------+----------------------+----------------------+\n",
      "| GPU  Name        Persistence-M| Bus-Id        Disp.A | Volatile Uncorr. ECC |\n",
      "| Fan  Temp  Perf  Pwr:Usage/Cap|         Memory-Usage | GPU-Util  Compute M. |\n",
      "|                               |                      |               MIG M. |\n",
      "|===============================+======================+======================|\n",
      "|   0  Tesla V100-PCIE...  Off  | 00000000:00:05.0 Off |                  Off |\n",
      "| N/A   36C    P0    36W / 250W |   9500MiB / 32510MiB |      0%      Default |\n",
      "|                               |                      |                  N/A |\n",
      "+-------------------------------+----------------------+----------------------+\n",
      "                                                                               \n",
      "+-----------------------------------------------------------------------------+\n",
      "| Processes:                                                                  |\n",
      "|  GPU   GI   CI        PID   Type   Process name                  GPU Memory |\n",
      "|        ID   ID                                                   Usage      |\n",
      "|=============================================================================|\n",
      "+-----------------------------------------------------------------------------+\n"
     ]
    }
   ],
   "source": [
    "!nvidia-smi"
   ]
  },
  {
   "cell_type": "code",
   "execution_count": 14,
   "metadata": {
    "executionInfo": {
     "elapsed": 103697,
     "status": "ok",
     "timestamp": 1617073472871,
     "user": {
      "displayName": "JinUk Cho",
      "photoUrl": "",
      "userId": "10000090644219567406"
     },
     "user_tz": -540
    },
    "id": "BGzeTO5QmhI5"
   },
   "outputs": [],
   "source": [
    "torch.manual_seed(2021)\n",
    "torch.cuda.manual_seed(2021)\n",
    "np.random.seed(2021)\n",
    "random.seed(2021)"
   ]
  },
  {
   "cell_type": "code",
   "execution_count": 15,
   "metadata": {
    "executionInfo": {
     "elapsed": 103695,
     "status": "ok",
     "timestamp": 1617073472871,
     "user": {
      "displayName": "JinUk Cho",
      "photoUrl": "",
      "userId": "10000090644219567406"
     },
     "user_tz": -540
    },
    "id": "WjKHkrDrJLhZ"
   },
   "outputs": [],
   "source": [
    "from torch.utils.data import (DataLoader, RandomSampler, TensorDataset)\n",
    "max_len = 128 # to reduce memory per sample! \n",
    "q_seqs = tokenizer(training_dataset['inputs'], padding=\"max_length\", max_length=max_len, truncation=True, return_tensors='pt')\n",
    "a_seqs = tokenizer(training_dataset['targets'], padding=\"max_length\", max_length=max_len, truncation=True, return_tensors='pt')\n",
    "train_dataset = TensorDataset(q_seqs['input_ids'], q_seqs['attention_mask'],\n",
    "                        a_seqs['input_ids'], a_seqs['attention_mask'], )"
   ]
  },
  {
   "cell_type": "code",
   "execution_count": 16,
   "metadata": {
    "executionInfo": {
     "elapsed": 103693,
     "status": "ok",
     "timestamp": 1617073472872,
     "user": {
      "displayName": "JinUk Cho",
      "photoUrl": "",
      "userId": "10000090644219567406"
     },
     "user_tz": -540
    },
    "id": "tVgT-ny2KPpK"
   },
   "outputs": [],
   "source": [
    "# Optimizer\n",
    "no_decay = ['bias', 'LayerNorm.weight']\n",
    "optimizer_grouped_parameters = [\n",
    "    {'params': [p for n, p in model.named_parameters() if not any(nd in n for nd in no_decay)], 'weight_decay': args.weight_decay},\n",
    "    {'params': [p for n, p in model.named_parameters() if any(nd in n for nd in no_decay)], 'weight_decay': 0.0},\n",
    "    ]\n",
    "optimizer = AdamW(optimizer_grouped_parameters, lr=args.learning_rate, eps=args.adam_epsilon)"
   ]
  },
  {
   "cell_type": "code",
   "execution_count": 17,
   "metadata": {
    "executionInfo": {
     "elapsed": 103691,
     "status": "ok",
     "timestamp": 1617073472872,
     "user": {
      "displayName": "JinUk Cho",
      "photoUrl": "",
      "userId": "10000090644219567406"
     },
     "user_tz": -540
    },
    "id": "7axtTrtyli2H"
   },
   "outputs": [],
   "source": [
    "def train(args, dataset, model, optimizer):\n",
    "    # Dataloader\n",
    "    train_sampler = RandomSampler(dataset)\n",
    "    \n",
    "    train_dataloader = DataLoader(dataset, batch_size=args.per_device_train_batch_size,\n",
    "                                  sampler=train_sampler, )\n",
    "\n",
    "    t_total = len(train_dataloader) // args.gradient_accumulation_steps * args.num_train_epochs\n",
    "    scheduler = get_linear_schedule_with_warmup(optimizer, num_warmup_steps=args.warmup_steps, num_training_steps=t_total)\n",
    "\n",
    "    # 훈련 시작 \n",
    "    global_step = 0\n",
    "\n",
    "    model.zero_grad()\n",
    "\n",
    "    train_iterator = trange(int(args.num_train_epochs), desc=\"Epoch\")\n",
    "\n",
    "    for _ in train_iterator:\n",
    "        epoch_iterator = tqdm(train_dataloader, desc=\"Iteration\")\n",
    "\n",
    "        for step, batch in enumerate(epoch_iterator):\n",
    "            model.train()\n",
    "\n",
    "            q_ids, q_mask, a_ids, a_mask = batch\n",
    "            # 레이블 구하기 - answer의 0번째를 제외한 나머지  \n",
    "            lm_labels = a_ids[:, 1:].contiguous().clone()\n",
    "            lm_labels[a_mask[:, 1:].contiguous() == 0] = -100\n",
    "\n",
    "            # decoder_input_ids 는 원래 주어지지 않아도 모델이 자동으으 계산합니다 \n",
    "            model_inputs = {\n",
    "                \"input_ids\": q_ids.cuda(),\n",
    "                \"attention_mask\": q_mask.cuda(),\n",
    "                \"decoder_input_ids\": a_ids[:, :-1].contiguous().cuda(),\n",
    "                \"labels\": lm_labels.cuda(),\n",
    "            }\n",
    "\n",
    "            outputs = model(**model_inputs)  # (batch_size, emb_dim)\n",
    "            loss = outputs[0]\n",
    "                \n",
    "            loss.backward()\n",
    "\n",
    "            optimizer.step()\n",
    "            scheduler.step()  # 학습률을 조정하는 스케쥴러 \n",
    "            model.zero_grad()\n",
    "            global_step += 1\n",
    "\n",
    "            # save model\n",
    "            model.save_pretrained(args.output_dir)\n",
    "\n",
    "    return model"
   ]
  },
  {
   "cell_type": "code",
   "execution_count": 18,
   "metadata": {
    "colab": {
     "base_uri": "https://localhost:8080/",
     "height": 170,
     "referenced_widgets": [
      "c8796d01ac1243c3b3b6810896fa688f",
      "bba9e92aa5ee4bbaa04e2d0f6a9b5249",
      "cd6c90fc47d848958c0c695ce4d730cc",
      "82d76ae9ba04419f9b78c47be1b60128",
      "56d98f41378b4f4e8cd7489cb2175058",
      "b56556e048a34fca989756b93ed620e8",
      "4462fe09cf1b4f7393795585fc9944d6",
      "7f58526d9aab4607817d1cbcf99cf601",
      "93b8c176c521461bbcfdba82f381dd4e",
      "65918bcbc8e548129127df3b0daf2530",
      "aa38f8ae132d47d38ff7acc443d93879",
      "2a97fa89fc784df2a035b5fb9cb17e0e",
      "594939f5f4a743f4a85c170184652227",
      "f634169ca7e84bfd9b9d853d0afdf81f",
      "f970d54f9a2647409a4b96e843c54353",
      "dd13408ab45a440c98766a0c4677cb82",
      "37a55d79e9db4c4cac196e8fcb430e8d",
      "853910fb4cab4391abbc5a3910873e2b",
      "404a19df18a142469060b60be9c7a39d",
      "c23c2c50af6a4696968ed06b6dcf0e01",
      "6f75885aedfc4c2f83ca894834d2c1a9",
      "eb13487f711f49a1b089f31dc9f6f690",
      "a433b72f66e24add8d1bce056cf55783",
      "a6e11c404bae4168bf6ce0493e08cb63"
     ]
    },
    "executionInfo": {
     "elapsed": 235076,
     "status": "ok",
     "timestamp": 1617073604260,
     "user": {
      "displayName": "JinUk Cho",
      "photoUrl": "",
      "userId": "10000090644219567406"
     },
     "user_tz": -540
    },
    "id": "jWAPobbhKXCU",
    "outputId": "55eb44c8-ede0-413a-b321-ddff6b4c1113"
   },
   "outputs": [
    {
     "data": {
      "application/vnd.jupyter.widget-view+json": {
       "model_id": "1f37e1293a8940409d706e82a4c6455d",
       "version_major": 2,
       "version_minor": 0
      },
      "text/plain": [
       "HBox(children=(FloatProgress(value=0.0, description='Epoch', max=2.0, style=ProgressStyle(description_width='i…"
      ]
     },
     "metadata": {},
     "output_type": "display_data"
    },
    {
     "data": {
      "application/vnd.jupyter.widget-view+json": {
       "model_id": "f6b5144d44764fa1bc1b31b8ef2b3636",
       "version_major": 2,
       "version_minor": 0
      },
      "text/plain": [
       "HBox(children=(FloatProgress(value=0.0, description='Iteration', max=2.0, style=ProgressStyle(description_widt…"
      ]
     },
     "metadata": {},
     "output_type": "display_data"
    },
    {
     "name": "stdout",
     "output_type": "stream",
     "text": [
      "\n"
     ]
    },
    {
     "data": {
      "application/vnd.jupyter.widget-view+json": {
       "model_id": "355bfaf79a324694b0e876719b212fe8",
       "version_major": 2,
       "version_minor": 0
      },
      "text/plain": [
       "HBox(children=(FloatProgress(value=0.0, description='Iteration', max=2.0, style=ProgressStyle(description_widt…"
      ]
     },
     "metadata": {},
     "output_type": "display_data"
    },
    {
     "name": "stdout",
     "output_type": "stream",
     "text": [
      "\n",
      "\n"
     ]
    }
   ],
   "source": [
    "model = train(args, train_dataset, model, optimizer)"
   ]
  },
  {
   "cell_type": "markdown",
   "metadata": {
    "id": "1J22B6ejOMC7"
   },
   "source": [
    "## 미리 학습된 모델로 테스트 해보기\n"
   ]
  },
  {
   "cell_type": "code",
   "execution_count": 19,
   "metadata": {
    "colab": {
     "base_uri": "https://localhost:8080/"
    },
    "executionInfo": {
     "elapsed": 141609,
     "status": "ok",
     "timestamp": 1617073997322,
     "user": {
      "displayName": "JinUk Cho",
      "photoUrl": "",
      "userId": "10000090644219567406"
     },
     "user_tz": -540
    },
    "id": "-uKrDGqPMGcd",
    "outputId": "9d62f4bd-c389-4404-fd6e-a507938a23d9"
   },
   "outputs": [
    {
     "name": "stdout",
     "output_type": "stream",
     "text": [
      "--2021-10-18 04:48:34--  https://docs.google.com/uc?export=download&confirm=kslO&id=1gCgeJIPiMeM0pmFq3toEm91QhUEwdc4H\n",
      "Resolving docs.google.com (docs.google.com)... 142.250.207.46, 2404:6800:4004:824::200e\n",
      "Connecting to docs.google.com (docs.google.com)|142.250.207.46|:443... connected.\n",
      "HTTP request sent, awaiting response... 302 Moved Temporarily\n",
      "Location: https://doc-00-5s-docs.googleusercontent.com/docs/securesc/kjjlo6sqjd58f7nqbeoc5nf0t5d76bnu/sol9foh1hci4agbjuhcncf3igi7ok391/1634532450000/10000090644219567406/10588907199810661152Z/1gCgeJIPiMeM0pmFq3toEm91QhUEwdc4H?e=download [following]\n",
      "--2021-10-18 04:48:35--  https://doc-00-5s-docs.googleusercontent.com/docs/securesc/kjjlo6sqjd58f7nqbeoc5nf0t5d76bnu/sol9foh1hci4agbjuhcncf3igi7ok391/1634532450000/10000090644219567406/10588907199810661152Z/1gCgeJIPiMeM0pmFq3toEm91QhUEwdc4H?e=download\n",
      "Resolving doc-00-5s-docs.googleusercontent.com (doc-00-5s-docs.googleusercontent.com)... 172.217.31.161, 2404:6800:4004:80c::2001\n",
      "Connecting to doc-00-5s-docs.googleusercontent.com (doc-00-5s-docs.googleusercontent.com)|172.217.31.161|:443... connected.\n",
      "HTTP request sent, awaiting response... 302 Found\n",
      "Location: https://docs.google.com/nonceSigner?nonce=hgeobf2l2c8mu&continue=https://doc-00-5s-docs.googleusercontent.com/docs/securesc/kjjlo6sqjd58f7nqbeoc5nf0t5d76bnu/sol9foh1hci4agbjuhcncf3igi7ok391/1634532450000/10000090644219567406/10588907199810661152Z/1gCgeJIPiMeM0pmFq3toEm91QhUEwdc4H?e%3Ddownload&hash=glcr20bt9tt9sul6dmvd1v467itmjrfv [following]\n",
      "--2021-10-18 04:48:35--  https://docs.google.com/nonceSigner?nonce=hgeobf2l2c8mu&continue=https://doc-00-5s-docs.googleusercontent.com/docs/securesc/kjjlo6sqjd58f7nqbeoc5nf0t5d76bnu/sol9foh1hci4agbjuhcncf3igi7ok391/1634532450000/10000090644219567406/10588907199810661152Z/1gCgeJIPiMeM0pmFq3toEm91QhUEwdc4H?e%3Ddownload&hash=glcr20bt9tt9sul6dmvd1v467itmjrfv\n",
      "Connecting to docs.google.com (docs.google.com)|142.250.207.46|:443... connected.\n",
      "HTTP request sent, awaiting response... 302 Found\n",
      "Location: https://doc-00-5s-docs.googleusercontent.com/docs/securesc/kjjlo6sqjd58f7nqbeoc5nf0t5d76bnu/sol9foh1hci4agbjuhcncf3igi7ok391/1634532450000/10000090644219567406/10588907199810661152Z/1gCgeJIPiMeM0pmFq3toEm91QhUEwdc4H?e=download&nonce=hgeobf2l2c8mu&user=10588907199810661152Z&hash=q70keqcsknicfeg1po5hejtd05o3s98c [following]\n",
      "--2021-10-18 04:48:36--  https://doc-00-5s-docs.googleusercontent.com/docs/securesc/kjjlo6sqjd58f7nqbeoc5nf0t5d76bnu/sol9foh1hci4agbjuhcncf3igi7ok391/1634532450000/10000090644219567406/10588907199810661152Z/1gCgeJIPiMeM0pmFq3toEm91QhUEwdc4H?e=download&nonce=hgeobf2l2c8mu&user=10588907199810661152Z&hash=q70keqcsknicfeg1po5hejtd05o3s98c\n",
      "Connecting to doc-00-5s-docs.googleusercontent.com (doc-00-5s-docs.googleusercontent.com)|172.217.31.161|:443... connected.\n",
      "HTTP request sent, awaiting response... 200 OK\n",
      "Length: 3067017575 (2.9G) [application/gzip]\n",
      "Saving to: ‘bart_nq.tar.gz’\n",
      "\n",
      "bart_nq.tar.gz      100%[===================>]   2.86G  82.2MB/s    in 35s     \n",
      "\n",
      "2021-10-18 04:49:11 (83.2 MB/s) - ‘bart_nq.tar.gz’ saved [3067017575/3067017575]\n",
      "\n",
      "mkdir: cannot create directory ‘./seq2seq_models/’: File exists\n"
     ]
    }
   ],
   "source": [
    "# 1. 미리 학습해둔 encoder file 다운로드 \n",
    "!wget --load-cookies /tmp/cookies.txt \"https://docs.google.com/uc?export=download&confirm=$(wget --quiet --save-cookies /tmp/cookies.txt --keep-session-cookies --no-check-certificate 'https://docs.google.com/uc?export=download&id=1gCgeJIPiMeM0pmFq3toEm91QhUEwdc4H' -O- | sed -rn 's/.*confirm=([0-9A-Za-z_]+).*/\\1\\n/p')&id=1gCgeJIPiMeM0pmFq3toEm91QhUEwdc4H\" -O bart_nq.tar.gz && rm -rf /tmp/cookies.txt\n",
    "# 2. the .tar.gz file 압축해제 \n",
    "!mkdir ./seq2seq_models/ && tar -xf bart_nq.tar.gz -C ./seq2seq_models/\n",
    "\n",
    "# 3. 직접 학습해보기 \n",
    "#!wget --load-cookies /tmp/cookies.txt \"https://docs.google.com/uc?export=download&confirm=$(wget --quiet --save-cookies /tmp/cookies.txt --keep-session-cookies --no-check-certificate 'https://docs.google.com/uc?export=download&id=1KkzY0cAyVe-c-ur4b-xZ3BYqnA7MzVt4' -O- | sed -rn 's/.*confirm=([0-9A-Za-z_]+).*/\\1\\n/p')&id=1KkzY0cAyVe-c-ur4b-xZ3BYqnA7MzVt4\" -O train_clqa_trainer.py && rm -rf /tmp/cookies.txt\n",
    "#!python train_clqa_trainer.py"
   ]
  },
  {
   "cell_type": "code",
   "execution_count": 20,
   "metadata": {
    "executionInfo": {
     "elapsed": 161240,
     "status": "ok",
     "timestamp": 1617074018669,
     "user": {
      "displayName": "JinUk Cho",
      "photoUrl": "",
      "userId": "10000090644219567406"
     },
     "user_tz": -540
    },
    "id": "rpinHevIQyar"
   },
   "outputs": [
    {
     "name": "stderr",
     "output_type": "stream",
     "text": [
      "404 Client Error: Not Found for url: https://huggingface.co//content/seq2seq_models/bart_nq/checkpoint-12010//resolve/main/config.json\n"
     ]
    },
    {
     "ename": "OSError",
     "evalue": "Can't load config for '/content/seq2seq_models/bart_nq/checkpoint-12010/'. Make sure that:\n\n- '/content/seq2seq_models/bart_nq/checkpoint-12010/' is a correct model identifier listed on 'https://huggingface.co/models'\n\n- or '/content/seq2seq_models/bart_nq/checkpoint-12010/' is the correct path to a directory containing a config.json file\n\n",
     "output_type": "error",
     "traceback": [
      "\u001b[0;31m---------------------------------------------------------------------------\u001b[0m",
      "\u001b[0;31mHTTPError\u001b[0m                                 Traceback (most recent call last)",
      "\u001b[0;32m/opt/conda/lib/python3.8/site-packages/transformers/configuration_utils.py\u001b[0m in \u001b[0;36mget_config_dict\u001b[0;34m(cls, pretrained_model_name_or_path, **kwargs)\u001b[0m\n\u001b[1;32m    430\u001b[0m             \u001b[0;31m# Load from URL or cache if already cached\u001b[0m\u001b[0;34m\u001b[0m\u001b[0;34m\u001b[0m\u001b[0;34m\u001b[0m\u001b[0m\n\u001b[0;32m--> 431\u001b[0;31m             resolved_config_file = cached_path(\n\u001b[0m\u001b[1;32m    432\u001b[0m                 \u001b[0mconfig_file\u001b[0m\u001b[0;34m,\u001b[0m\u001b[0;34m\u001b[0m\u001b[0;34m\u001b[0m\u001b[0m\n",
      "\u001b[0;32m/opt/conda/lib/python3.8/site-packages/transformers/file_utils.py\u001b[0m in \u001b[0;36mcached_path\u001b[0;34m(url_or_filename, cache_dir, force_download, proxies, resume_download, user_agent, extract_compressed_file, force_extract, use_auth_token, local_files_only)\u001b[0m\n\u001b[1;32m   1129\u001b[0m         \u001b[0;31m# URL, so get it from the cache (downloading if necessary)\u001b[0m\u001b[0;34m\u001b[0m\u001b[0;34m\u001b[0m\u001b[0;34m\u001b[0m\u001b[0m\n\u001b[0;32m-> 1130\u001b[0;31m         output_path = get_from_cache(\n\u001b[0m\u001b[1;32m   1131\u001b[0m             \u001b[0murl_or_filename\u001b[0m\u001b[0;34m,\u001b[0m\u001b[0;34m\u001b[0m\u001b[0;34m\u001b[0m\u001b[0m\n",
      "\u001b[0;32m/opt/conda/lib/python3.8/site-packages/transformers/file_utils.py\u001b[0m in \u001b[0;36mget_from_cache\u001b[0;34m(url, cache_dir, force_download, proxies, etag_timeout, resume_download, user_agent, use_auth_token, local_files_only)\u001b[0m\n\u001b[1;32m   1295\u001b[0m             \u001b[0mr\u001b[0m \u001b[0;34m=\u001b[0m \u001b[0mrequests\u001b[0m\u001b[0;34m.\u001b[0m\u001b[0mhead\u001b[0m\u001b[0;34m(\u001b[0m\u001b[0murl\u001b[0m\u001b[0;34m,\u001b[0m \u001b[0mheaders\u001b[0m\u001b[0;34m=\u001b[0m\u001b[0mheaders\u001b[0m\u001b[0;34m,\u001b[0m \u001b[0mallow_redirects\u001b[0m\u001b[0;34m=\u001b[0m\u001b[0;32mFalse\u001b[0m\u001b[0;34m,\u001b[0m \u001b[0mproxies\u001b[0m\u001b[0;34m=\u001b[0m\u001b[0mproxies\u001b[0m\u001b[0;34m,\u001b[0m \u001b[0mtimeout\u001b[0m\u001b[0;34m=\u001b[0m\u001b[0metag_timeout\u001b[0m\u001b[0;34m)\u001b[0m\u001b[0;34m\u001b[0m\u001b[0;34m\u001b[0m\u001b[0m\n\u001b[0;32m-> 1296\u001b[0;31m             \u001b[0mr\u001b[0m\u001b[0;34m.\u001b[0m\u001b[0mraise_for_status\u001b[0m\u001b[0;34m(\u001b[0m\u001b[0;34m)\u001b[0m\u001b[0;34m\u001b[0m\u001b[0;34m\u001b[0m\u001b[0m\n\u001b[0m\u001b[1;32m   1297\u001b[0m             \u001b[0metag\u001b[0m \u001b[0;34m=\u001b[0m \u001b[0mr\u001b[0m\u001b[0;34m.\u001b[0m\u001b[0mheaders\u001b[0m\u001b[0;34m.\u001b[0m\u001b[0mget\u001b[0m\u001b[0;34m(\u001b[0m\u001b[0;34m\"X-Linked-Etag\"\u001b[0m\u001b[0;34m)\u001b[0m \u001b[0;32mor\u001b[0m \u001b[0mr\u001b[0m\u001b[0;34m.\u001b[0m\u001b[0mheaders\u001b[0m\u001b[0;34m.\u001b[0m\u001b[0mget\u001b[0m\u001b[0;34m(\u001b[0m\u001b[0;34m\"ETag\"\u001b[0m\u001b[0;34m)\u001b[0m\u001b[0;34m\u001b[0m\u001b[0;34m\u001b[0m\u001b[0m\n",
      "\u001b[0;32m/opt/conda/lib/python3.8/site-packages/requests/models.py\u001b[0m in \u001b[0;36mraise_for_status\u001b[0;34m(self)\u001b[0m\n\u001b[1;32m    940\u001b[0m         \u001b[0;32mif\u001b[0m \u001b[0mhttp_error_msg\u001b[0m\u001b[0;34m:\u001b[0m\u001b[0;34m\u001b[0m\u001b[0;34m\u001b[0m\u001b[0m\n\u001b[0;32m--> 941\u001b[0;31m             \u001b[0;32mraise\u001b[0m \u001b[0mHTTPError\u001b[0m\u001b[0;34m(\u001b[0m\u001b[0mhttp_error_msg\u001b[0m\u001b[0;34m,\u001b[0m \u001b[0mresponse\u001b[0m\u001b[0;34m=\u001b[0m\u001b[0mself\u001b[0m\u001b[0;34m)\u001b[0m\u001b[0;34m\u001b[0m\u001b[0;34m\u001b[0m\u001b[0m\n\u001b[0m\u001b[1;32m    942\u001b[0m \u001b[0;34m\u001b[0m\u001b[0m\n",
      "\u001b[0;31mHTTPError\u001b[0m: 404 Client Error: Not Found for url: https://huggingface.co//content/seq2seq_models/bart_nq/checkpoint-12010//resolve/main/config.json",
      "\nDuring handling of the above exception, another exception occurred:\n",
      "\u001b[0;31mOSError\u001b[0m                                   Traceback (most recent call last)",
      "\u001b[0;32m<ipython-input-20-1b62d8ad1d85>\u001b[0m in \u001b[0;36m<module>\u001b[0;34m\u001b[0m\n\u001b[1;32m      1\u001b[0m \u001b[0;31m# args.output_dir 이 우리가 모델을 저장해둔 위치\u001b[0m\u001b[0;34m\u001b[0m\u001b[0;34m\u001b[0m\u001b[0;34m\u001b[0m\u001b[0m\n\u001b[1;32m      2\u001b[0m \u001b[0moutput_dir\u001b[0m \u001b[0;34m=\u001b[0m \u001b[0;34m\"/content/seq2seq_models/bart_nq/checkpoint-12010/\"\u001b[0m\u001b[0;34m\u001b[0m\u001b[0;34m\u001b[0m\u001b[0m\n\u001b[0;32m----> 3\u001b[0;31m \u001b[0mmodel\u001b[0m \u001b[0;34m=\u001b[0m \u001b[0mAutoModelForSeq2SeqLM\u001b[0m\u001b[0;34m.\u001b[0m\u001b[0mfrom_pretrained\u001b[0m\u001b[0;34m(\u001b[0m\u001b[0moutput_dir\u001b[0m\u001b[0;34m)\u001b[0m\u001b[0;34m.\u001b[0m\u001b[0mcuda\u001b[0m\u001b[0;34m(\u001b[0m\u001b[0;34m)\u001b[0m\u001b[0;34m\u001b[0m\u001b[0;34m\u001b[0m\u001b[0m\n\u001b[0m",
      "\u001b[0;32m/opt/conda/lib/python3.8/site-packages/transformers/models/auto/modeling_auto.py\u001b[0m in \u001b[0;36mfrom_pretrained\u001b[0;34m(cls, pretrained_model_name_or_path, *model_args, **kwargs)\u001b[0m\n\u001b[1;32m   1294\u001b[0m         \u001b[0mconfig\u001b[0m \u001b[0;34m=\u001b[0m \u001b[0mkwargs\u001b[0m\u001b[0;34m.\u001b[0m\u001b[0mpop\u001b[0m\u001b[0;34m(\u001b[0m\u001b[0;34m\"config\"\u001b[0m\u001b[0;34m,\u001b[0m \u001b[0;32mNone\u001b[0m\u001b[0;34m)\u001b[0m\u001b[0;34m\u001b[0m\u001b[0;34m\u001b[0m\u001b[0m\n\u001b[1;32m   1295\u001b[0m         \u001b[0;32mif\u001b[0m \u001b[0;32mnot\u001b[0m \u001b[0misinstance\u001b[0m\u001b[0;34m(\u001b[0m\u001b[0mconfig\u001b[0m\u001b[0;34m,\u001b[0m \u001b[0mPretrainedConfig\u001b[0m\u001b[0;34m)\u001b[0m\u001b[0;34m:\u001b[0m\u001b[0;34m\u001b[0m\u001b[0;34m\u001b[0m\u001b[0m\n\u001b[0;32m-> 1296\u001b[0;31m             config, kwargs = AutoConfig.from_pretrained(\n\u001b[0m\u001b[1;32m   1297\u001b[0m                 \u001b[0mpretrained_model_name_or_path\u001b[0m\u001b[0;34m,\u001b[0m \u001b[0mreturn_unused_kwargs\u001b[0m\u001b[0;34m=\u001b[0m\u001b[0;32mTrue\u001b[0m\u001b[0;34m,\u001b[0m \u001b[0;34m**\u001b[0m\u001b[0mkwargs\u001b[0m\u001b[0;34m\u001b[0m\u001b[0;34m\u001b[0m\u001b[0m\n\u001b[1;32m   1298\u001b[0m             )\n",
      "\u001b[0;32m/opt/conda/lib/python3.8/site-packages/transformers/models/auto/configuration_auto.py\u001b[0m in \u001b[0;36mfrom_pretrained\u001b[0;34m(cls, pretrained_model_name_or_path, **kwargs)\u001b[0m\n\u001b[1;32m    385\u001b[0m             \u001b[0;34m{\u001b[0m\u001b[0;34m'foo'\u001b[0m\u001b[0;34m:\u001b[0m \u001b[0;32mFalse\u001b[0m\u001b[0;34m}\u001b[0m\u001b[0;34m\u001b[0m\u001b[0;34m\u001b[0m\u001b[0m\n\u001b[1;32m    386\u001b[0m         \"\"\"\n\u001b[0;32m--> 387\u001b[0;31m         \u001b[0mconfig_dict\u001b[0m\u001b[0;34m,\u001b[0m \u001b[0m_\u001b[0m \u001b[0;34m=\u001b[0m \u001b[0mPretrainedConfig\u001b[0m\u001b[0;34m.\u001b[0m\u001b[0mget_config_dict\u001b[0m\u001b[0;34m(\u001b[0m\u001b[0mpretrained_model_name_or_path\u001b[0m\u001b[0;34m,\u001b[0m \u001b[0;34m**\u001b[0m\u001b[0mkwargs\u001b[0m\u001b[0;34m)\u001b[0m\u001b[0;34m\u001b[0m\u001b[0;34m\u001b[0m\u001b[0m\n\u001b[0m\u001b[1;32m    388\u001b[0m         \u001b[0;32mif\u001b[0m \u001b[0;34m\"model_type\"\u001b[0m \u001b[0;32min\u001b[0m \u001b[0mconfig_dict\u001b[0m\u001b[0;34m:\u001b[0m\u001b[0;34m\u001b[0m\u001b[0;34m\u001b[0m\u001b[0m\n\u001b[1;32m    389\u001b[0m             \u001b[0mconfig_class\u001b[0m \u001b[0;34m=\u001b[0m \u001b[0mCONFIG_MAPPING\u001b[0m\u001b[0;34m[\u001b[0m\u001b[0mconfig_dict\u001b[0m\u001b[0;34m[\u001b[0m\u001b[0;34m\"model_type\"\u001b[0m\u001b[0;34m]\u001b[0m\u001b[0;34m]\u001b[0m\u001b[0;34m\u001b[0m\u001b[0;34m\u001b[0m\u001b[0m\n",
      "\u001b[0;32m/opt/conda/lib/python3.8/site-packages/transformers/configuration_utils.py\u001b[0m in \u001b[0;36mget_config_dict\u001b[0;34m(cls, pretrained_model_name_or_path, **kwargs)\u001b[0m\n\u001b[1;32m    448\u001b[0m                 \u001b[0;34mf\"- or '{pretrained_model_name_or_path}' is the correct path to a directory containing a {CONFIG_NAME} file\\n\\n\"\u001b[0m\u001b[0;34m\u001b[0m\u001b[0;34m\u001b[0m\u001b[0m\n\u001b[1;32m    449\u001b[0m             )\n\u001b[0;32m--> 450\u001b[0;31m             \u001b[0;32mraise\u001b[0m \u001b[0mEnvironmentError\u001b[0m\u001b[0;34m(\u001b[0m\u001b[0mmsg\u001b[0m\u001b[0;34m)\u001b[0m\u001b[0;34m\u001b[0m\u001b[0;34m\u001b[0m\u001b[0m\n\u001b[0m\u001b[1;32m    451\u001b[0m \u001b[0;34m\u001b[0m\u001b[0m\n\u001b[1;32m    452\u001b[0m         \u001b[0;32mexcept\u001b[0m \u001b[0mjson\u001b[0m\u001b[0;34m.\u001b[0m\u001b[0mJSONDecodeError\u001b[0m\u001b[0;34m:\u001b[0m\u001b[0;34m\u001b[0m\u001b[0;34m\u001b[0m\u001b[0m\n",
      "\u001b[0;31mOSError\u001b[0m: Can't load config for '/content/seq2seq_models/bart_nq/checkpoint-12010/'. Make sure that:\n\n- '/content/seq2seq_models/bart_nq/checkpoint-12010/' is a correct model identifier listed on 'https://huggingface.co/models'\n\n- or '/content/seq2seq_models/bart_nq/checkpoint-12010/' is the correct path to a directory containing a config.json file\n\n"
     ]
    }
   ],
   "source": [
    "# args.output_dir 이 우리가 모델을 저장해둔 위치  \n",
    "output_dir = \"/content/seq2seq_models/bart_nq/checkpoint-12010/\"\n",
    "model = AutoModelForSeq2SeqLM.from_pretrained(output_dir).cuda()"
   ]
  },
  {
   "cell_type": "markdown",
   "metadata": {
    "id": "ltqV5HvaXKVh"
   },
   "source": [
    "generate() 메서드를 활용한 텍스트 생성"
   ]
  },
  {
   "cell_type": "code",
   "execution_count": null,
   "metadata": {
    "executionInfo": {
     "elapsed": 992,
     "status": "ok",
     "timestamp": 1617074232120,
     "user": {
      "displayName": "JinUk Cho",
      "photoUrl": "",
      "userId": "10000090644219567406"
     },
     "user_tz": -540
    },
    "id": "3v1dxgLoyCNM"
   },
   "outputs": [],
   "source": [
    "def qa_s2s_generate(\n",
    "    model_inputs,\n",
    "    qa_s2s_model,\n",
    "    qa_s2s_tokenizer,\n",
    "    num_answers=1,\n",
    "    num_beams=2,\n",
    "    min_len=1,\n",
    "    max_len=64,\n",
    "    do_sample=False,\n",
    "    temp=1.0,\n",
    "    top_p=None,\n",
    "    top_k=None,\n",
    "):\n",
    "    n_beams = num_answers if num_beams is None else max(num_beams, num_answers)\n",
    "    generated_ids = qa_s2s_model.generate(\n",
    "        input_ids=model_inputs[0],\n",
    "        attention_mask=model_inputs[1],\n",
    "        min_length=min_len,\n",
    "        max_length=max_len,\n",
    "        do_sample=do_sample,\n",
    "        early_stopping=True,\n",
    "        num_beams=1 if do_sample else n_beams,\n",
    "        temperature=temp,\n",
    "        top_k=top_k,\n",
    "        top_p=top_p,\n",
    "        eos_token_id=qa_s2s_tokenizer.eos_token_id,\n",
    "        no_repeat_ngram_size=3,\n",
    "        num_return_sequences=num_answers,\n",
    "        decoder_start_token_id=qa_s2s_tokenizer.bos_token_id,\n",
    "    )\n",
    "    return [qa_s2s_tokenizer.decode(ans_ids, skip_special_tokens=True).strip() for ans_ids in generated_ids]"
   ]
  },
  {
   "cell_type": "code",
   "execution_count": null,
   "metadata": {
    "colab": {
     "base_uri": "https://localhost:8080/"
    },
    "executionInfo": {
     "elapsed": 1687,
     "status": "ok",
     "timestamp": 1617074532544,
     "user": {
      "displayName": "JinUk Cho",
      "photoUrl": "",
      "userId": "10000090644219567406"
     },
     "user_tz": -540
    },
    "id": "mc0fNX_HqNU4",
    "outputId": "37895ca9-6fa7-4300-9abb-827b4a989810"
   },
   "outputs": [
    {
     "name": "stdout",
     "output_type": "stream",
     "text": [
      "Input: natural question: when was the latest version of chrome released?\n",
      "Target: 2018-01-22\n",
      "Prediction: September 27, 2017\n",
      "\n",
      "Input: natural question: mount and blade with fire and sword time period?\n",
      "Target: 1648-51\n",
      "Prediction: the period between the ages of the first and second centuries BC\n",
      "\n",
      "Input: natural question: which way does the earth orbit the sun?\n",
      "Target: counter clockwise\n",
      "Prediction: about the same distance from the Sun\n",
      "\n",
      "Input: natural question: what year is the deer hunter set in?\n",
      "Target: 1967\n",
      "Prediction: the late 19th century\n",
      "\n"
     ]
    }
   ],
   "source": [
    "# Choose small samples as our dataset \n",
    "sample_idx = np.random.choice(range(len(valid_ds)), 4)\n",
    "validation_dataset = valid_ds[sample_idx]\n",
    "\n",
    "input_dict = tokenizer(validation_dataset['inputs'], padding=\"max_length\", max_length=max_len, truncation=True, return_tensors='pt')\n",
    "target_dict = tokenizer(validation_dataset['targets'], padding=\"max_length\", max_length=max_len, truncation=True, return_tensors='pt')\n",
    "valid_dataset = TensorDataset(input_dict['input_ids'], input_dict['attention_mask'], \n",
    "                              target_dict['input_ids']) # target 정보는 필요 없으나 모델 결과를 확인하기 위해 넣음\n",
    "valid_dataloader = DataLoader(valid_dataset, batch_size=args.per_device_eval_batch_size)\n",
    "\n",
    "\n",
    "for step, batch in enumerate(valid_dataloader):\n",
    "    model.eval()\n",
    "    \n",
    "    if torch.cuda.is_available():\n",
    "        batch = tuple(t.cuda() for t in batch)\n",
    "\n",
    "    inputs = [input.strip() for input in tokenizer.batch_decode(batch[0], skip_special_tokens=True, clean_up_tokenization_spaces=True)]\n",
    "    targets = [target.strip() for target in tokenizer.batch_decode(batch[2], skip_special_tokens=True, clean_up_tokenization_spaces=True)]\n",
    "    \n",
    "    results = qa_s2s_generate(batch, model, tokenizer)\n",
    "\n",
    "    for inp, tgt, pred in zip(inputs, targets, results):\n",
    "        print(\"Input:\", inp)\n",
    "        print(\"Target:\", tgt)\n",
    "        print(\"Prediction:\", pred)\n",
    "        print()"
   ]
  },
  {
   "cell_type": "code",
   "execution_count": null,
   "metadata": {
    "executionInfo": {
     "elapsed": 593,
     "status": "ok",
     "timestamp": 1617074237311,
     "user": {
      "displayName": "JinUk Cho",
      "photoUrl": "",
      "userId": "10000090644219567406"
     },
     "user_tz": -540
    },
    "id": "cpMdMqPrStPa"
   },
   "outputs": [],
   "source": []
  }
 ],
 "metadata": {
  "accelerator": "GPU",
  "colab": {
   "authorship_tag": "ABX9TyMMMXtlsoct4Kp0AdvtLtM7",
   "collapsed_sections": [],
   "name": "MRC Practice 9 - Closed book QA.ipynb",
   "provenance": [],
   "toc_visible": true
  },
  "interpreter": {
   "hash": "d4d1e4263499bec80672ea0156c357c1ee493ec2b1c70f0acce89fc37c4a6abe"
  },
  "kernelspec": {
   "display_name": "Python 3.8.5 64-bit ('base': conda)",
   "name": "python3"
  },
  "language_info": {
   "codemirror_mode": {
    "name": "ipython",
    "version": 3
   },
   "file_extension": ".py",
   "mimetype": "text/x-python",
   "name": "python",
   "nbconvert_exporter": "python",
   "pygments_lexer": "ipython3",
   "version": "3.8.5"
  },
  "widgets": {
   "application/vnd.jupyter.widget-state+json": {
    "03c50033e51a4bf9ae300c15dd4e55c6": {
     "model_module": "@jupyter-widgets/controls",
     "model_name": "ProgressStyleModel",
     "state": {
      "_model_module": "@jupyter-widgets/controls",
      "_model_module_version": "1.5.0",
      "_model_name": "ProgressStyleModel",
      "_view_count": null,
      "_view_module": "@jupyter-widgets/base",
      "_view_module_version": "1.2.0",
      "_view_name": "StyleView",
      "bar_color": null,
      "description_width": "initial"
     }
    },
    "04e8dd101d4d496d97c6de13dc44bb79": {
     "model_module": "@jupyter-widgets/base",
     "model_name": "LayoutModel",
     "state": {
      "_model_module": "@jupyter-widgets/base",
      "_model_module_version": "1.2.0",
      "_model_name": "LayoutModel",
      "_view_count": null,
      "_view_module": "@jupyter-widgets/base",
      "_view_module_version": "1.2.0",
      "_view_name": "LayoutView",
      "align_content": null,
      "align_items": null,
      "align_self": null,
      "border": null,
      "bottom": null,
      "display": null,
      "flex": null,
      "flex_flow": null,
      "grid_area": null,
      "grid_auto_columns": null,
      "grid_auto_flow": null,
      "grid_auto_rows": null,
      "grid_column": null,
      "grid_gap": null,
      "grid_row": null,
      "grid_template_areas": null,
      "grid_template_columns": null,
      "grid_template_rows": null,
      "height": null,
      "justify_content": null,
      "justify_items": null,
      "left": null,
      "margin": null,
      "max_height": null,
      "max_width": null,
      "min_height": null,
      "min_width": null,
      "object_fit": null,
      "object_position": null,
      "order": null,
      "overflow": null,
      "overflow_x": null,
      "overflow_y": null,
      "padding": null,
      "right": null,
      "top": null,
      "visibility": null,
      "width": null
     }
    },
    "08fce7e8a19a47558a5900229039bb69": {
     "model_module": "@jupyter-widgets/controls",
     "model_name": "HTMLModel",
     "state": {
      "_dom_classes": [],
      "_model_module": "@jupyter-widgets/controls",
      "_model_module_version": "1.5.0",
      "_model_name": "HTMLModel",
      "_view_count": null,
      "_view_module": "@jupyter-widgets/controls",
      "_view_module_version": "1.5.0",
      "_view_name": "HTMLView",
      "description": "",
      "description_tooltip": null,
      "layout": "IPY_MODEL_9814ed9820524d8095115cd97cc332ea",
      "placeholder": "​",
      "style": "IPY_MODEL_976f9c742d144f8fae9601cdd53c7754",
      "value": " 1148/1148 [00:02&lt;00:00, 408.55ex/s]"
     }
    },
    "09b7cb8fd72a4b8ab4bcd070391136fc": {
     "model_module": "@jupyter-widgets/controls",
     "model_name": "ProgressStyleModel",
     "state": {
      "_model_module": "@jupyter-widgets/controls",
      "_model_module_version": "1.5.0",
      "_model_name": "ProgressStyleModel",
      "_view_count": null,
      "_view_module": "@jupyter-widgets/base",
      "_view_module_version": "1.2.0",
      "_view_name": "StyleView",
      "bar_color": null,
      "description_width": "initial"
     }
    },
    "0c81c16a95b545e1b142fe23010d711b": {
     "model_module": "@jupyter-widgets/controls",
     "model_name": "DescriptionStyleModel",
     "state": {
      "_model_module": "@jupyter-widgets/controls",
      "_model_module_version": "1.5.0",
      "_model_name": "DescriptionStyleModel",
      "_view_count": null,
      "_view_module": "@jupyter-widgets/base",
      "_view_module_version": "1.2.0",
      "_view_name": "StyleView",
      "description_width": ""
     }
    },
    "11609bcd0a424dcfb66a60d633f811d6": {
     "model_module": "@jupyter-widgets/controls",
     "model_name": "FloatProgressModel",
     "state": {
      "_dom_classes": [],
      "_model_module": "@jupyter-widgets/controls",
      "_model_module_version": "1.5.0",
      "_model_name": "FloatProgressModel",
      "_view_count": null,
      "_view_module": "@jupyter-widgets/controls",
      "_view_module_version": "1.5.0",
      "_view_name": "ProgressView",
      "bar_style": "success",
      "description": "Downloading: 100%",
      "description_tooltip": null,
      "layout": "IPY_MODEL_c34783c709994d38ab25c0a43bfe4c75",
      "max": 898822,
      "min": 0,
      "orientation": "horizontal",
      "style": "IPY_MODEL_edf67fffc7234b98af520c3e48dfc3e3",
      "value": 898822
     }
    },
    "147d248e2670415a82afc401bb058317": {
     "model_module": "@jupyter-widgets/controls",
     "model_name": "FloatProgressModel",
     "state": {
      "_dom_classes": [],
      "_model_module": "@jupyter-widgets/controls",
      "_model_module_version": "1.5.0",
      "_model_name": "FloatProgressModel",
      "_view_count": null,
      "_view_module": "@jupyter-widgets/controls",
      "_view_module_version": "1.5.0",
      "_view_name": "ProgressView",
      "bar_style": "success",
      "description": "#0: 100%",
      "description_tooltip": null,
      "layout": "IPY_MODEL_c8f93a38e0f64cb6948fafdc3eb98d1b",
      "max": 1148,
      "min": 0,
      "orientation": "horizontal",
      "style": "IPY_MODEL_52585615c1444ac7bc2c672f954d0e93",
      "value": 1148
     }
    },
    "15b1562fe2c042d89e083b0dacc13bcb": {
     "model_module": "@jupyter-widgets/controls",
     "model_name": "FloatProgressModel",
     "state": {
      "_dom_classes": [],
      "_model_module": "@jupyter-widgets/controls",
      "_model_module_version": "1.5.0",
      "_model_name": "FloatProgressModel",
      "_view_count": null,
      "_view_module": "@jupyter-widgets/controls",
      "_view_module_version": "1.5.0",
      "_view_name": "ProgressView",
      "bar_style": "success",
      "description": "Downloading: 100%",
      "description_tooltip": null,
      "layout": "IPY_MODEL_5662f41d17c94a629a12f5c2d327900a",
      "max": 456318,
      "min": 0,
      "orientation": "horizontal",
      "style": "IPY_MODEL_03c50033e51a4bf9ae300c15dd4e55c6",
      "value": 456318
     }
    },
    "17a0380f6211445dae25e7bcfcd433dd": {
     "model_module": "@jupyter-widgets/controls",
     "model_name": "HTMLModel",
     "state": {
      "_dom_classes": [],
      "_model_module": "@jupyter-widgets/controls",
      "_model_module_version": "1.5.0",
      "_model_name": "HTMLModel",
      "_view_count": null,
      "_view_module": "@jupyter-widgets/controls",
      "_view_module_version": "1.5.0",
      "_view_name": "HTMLView",
      "description": "",
      "description_tooltip": null,
      "layout": "IPY_MODEL_bdd55cd904e04723b2c6dc17e7282f13",
      "placeholder": "​",
      "style": "IPY_MODEL_e1416c9a2b3d4320b9dff6ee3757fd51",
      "value": " 48037/48037 [00:12&lt;00:00, 3813.11ex/s]"
     }
    },
    "24557e49ae6c4fe98c3475696b7c0ca7": {
     "model_module": "@jupyter-widgets/base",
     "model_name": "LayoutModel",
     "state": {
      "_model_module": "@jupyter-widgets/base",
      "_model_module_version": "1.2.0",
      "_model_name": "LayoutModel",
      "_view_count": null,
      "_view_module": "@jupyter-widgets/base",
      "_view_module_version": "1.2.0",
      "_view_name": "LayoutView",
      "align_content": null,
      "align_items": null,
      "align_self": null,
      "border": null,
      "bottom": null,
      "display": null,
      "flex": null,
      "flex_flow": null,
      "grid_area": null,
      "grid_auto_columns": null,
      "grid_auto_flow": null,
      "grid_auto_rows": null,
      "grid_column": null,
      "grid_gap": null,
      "grid_row": null,
      "grid_template_areas": null,
      "grid_template_columns": null,
      "grid_template_rows": null,
      "height": null,
      "justify_content": null,
      "justify_items": null,
      "left": null,
      "margin": null,
      "max_height": null,
      "max_width": null,
      "min_height": null,
      "min_width": null,
      "object_fit": null,
      "object_position": null,
      "order": null,
      "overflow": null,
      "overflow_x": null,
      "overflow_y": null,
      "padding": null,
      "right": null,
      "top": null,
      "visibility": null,
      "width": null
     }
    },
    "26f183d9268f4df184eefd2584725944": {
     "model_module": "@jupyter-widgets/controls",
     "model_name": "HBoxModel",
     "state": {
      "_dom_classes": [],
      "_model_module": "@jupyter-widgets/controls",
      "_model_module_version": "1.5.0",
      "_model_name": "HBoxModel",
      "_view_count": null,
      "_view_module": "@jupyter-widgets/controls",
      "_view_module_version": "1.5.0",
      "_view_name": "HBoxView",
      "box_style": "",
      "children": [
       "IPY_MODEL_48e7dc83d240453ab55f3a9187347ddb",
       "IPY_MODEL_69ea602b9c644bdf8f852877da5ad63c"
      ],
      "layout": "IPY_MODEL_edb52d9428e2435a953cfda948a609ff"
     }
    },
    "2a97fa89fc784df2a035b5fb9cb17e0e": {
     "model_module": "@jupyter-widgets/controls",
     "model_name": "HTMLModel",
     "state": {
      "_dom_classes": [],
      "_model_module": "@jupyter-widgets/controls",
      "_model_module_version": "1.5.0",
      "_model_name": "HTMLModel",
      "_view_count": null,
      "_view_module": "@jupyter-widgets/controls",
      "_view_module_version": "1.5.0",
      "_view_name": "HTMLView",
      "description": "",
      "description_tooltip": null,
      "layout": "IPY_MODEL_dd13408ab45a440c98766a0c4677cb82",
      "placeholder": "​",
      "style": "IPY_MODEL_f970d54f9a2647409a4b96e843c54353",
      "value": " 2/2 [00:49&lt;00:00, 24.70s/it]"
     }
    },
    "2b10dba0b4de4a52abb69e43e35c7e41": {
     "model_module": "@jupyter-widgets/controls",
     "model_name": "HTMLModel",
     "state": {
      "_dom_classes": [],
      "_model_module": "@jupyter-widgets/controls",
      "_model_module_version": "1.5.0",
      "_model_name": "HTMLModel",
      "_view_count": null,
      "_view_module": "@jupyter-widgets/controls",
      "_view_module_version": "1.5.0",
      "_view_name": "HTMLView",
      "description": "",
      "description_tooltip": null,
      "layout": "IPY_MODEL_636412a9555e483d816622c1a17f27f5",
      "placeholder": "​",
      "style": "IPY_MODEL_b4d820e14c724739a26d725e0758e35b",
      "value": " 899k/899k [00:00&lt;00:00, 12.9MB/s]"
     }
    },
    "2bf4e2027139465588f0c37834b2d2eb": {
     "model_module": "@jupyter-widgets/base",
     "model_name": "LayoutModel",
     "state": {
      "_model_module": "@jupyter-widgets/base",
      "_model_module_version": "1.2.0",
      "_model_name": "LayoutModel",
      "_view_count": null,
      "_view_module": "@jupyter-widgets/base",
      "_view_module_version": "1.2.0",
      "_view_name": "LayoutView",
      "align_content": null,
      "align_items": null,
      "align_self": null,
      "border": null,
      "bottom": null,
      "display": null,
      "flex": null,
      "flex_flow": null,
      "grid_area": null,
      "grid_auto_columns": null,
      "grid_auto_flow": null,
      "grid_auto_rows": null,
      "grid_column": null,
      "grid_gap": null,
      "grid_row": null,
      "grid_template_areas": null,
      "grid_template_columns": null,
      "grid_template_rows": null,
      "height": null,
      "justify_content": null,
      "justify_items": null,
      "left": null,
      "margin": null,
      "max_height": null,
      "max_width": null,
      "min_height": null,
      "min_width": null,
      "object_fit": null,
      "object_position": null,
      "order": null,
      "overflow": null,
      "overflow_x": null,
      "overflow_y": null,
      "padding": null,
      "right": null,
      "top": null,
      "visibility": null,
      "width": null
     }
    },
    "2f608a356e254c46a664f351c5ead926": {
     "model_module": "@jupyter-widgets/base",
     "model_name": "LayoutModel",
     "state": {
      "_model_module": "@jupyter-widgets/base",
      "_model_module_version": "1.2.0",
      "_model_name": "LayoutModel",
      "_view_count": null,
      "_view_module": "@jupyter-widgets/base",
      "_view_module_version": "1.2.0",
      "_view_name": "LayoutView",
      "align_content": null,
      "align_items": null,
      "align_self": null,
      "border": null,
      "bottom": null,
      "display": null,
      "flex": null,
      "flex_flow": null,
      "grid_area": null,
      "grid_auto_columns": null,
      "grid_auto_flow": null,
      "grid_auto_rows": null,
      "grid_column": null,
      "grid_gap": null,
      "grid_row": null,
      "grid_template_areas": null,
      "grid_template_columns": null,
      "grid_template_rows": null,
      "height": null,
      "justify_content": null,
      "justify_items": null,
      "left": null,
      "margin": null,
      "max_height": null,
      "max_width": null,
      "min_height": null,
      "min_width": null,
      "object_fit": null,
      "object_position": null,
      "order": null,
      "overflow": null,
      "overflow_x": null,
      "overflow_y": null,
      "padding": null,
      "right": null,
      "top": null,
      "visibility": null,
      "width": null
     }
    },
    "2f87ece1fb8a4763b6935191aa939aa7": {
     "model_module": "@jupyter-widgets/controls",
     "model_name": "HBoxModel",
     "state": {
      "_dom_classes": [],
      "_model_module": "@jupyter-widgets/controls",
      "_model_module_version": "1.5.0",
      "_model_name": "HBoxModel",
      "_view_count": null,
      "_view_module": "@jupyter-widgets/controls",
      "_view_module_version": "1.5.0",
      "_view_name": "HBoxView",
      "box_style": "",
      "children": [
       "IPY_MODEL_b9112138b2ab49a69bc85b263f90f833",
       "IPY_MODEL_17a0380f6211445dae25e7bcfcd433dd"
      ],
      "layout": "IPY_MODEL_87b4d541ed4245ae8ce1c264130dfff4"
     }
    },
    "374300ce6c1943d2b5483774fcb2e279": {
     "model_module": "@jupyter-widgets/base",
     "model_name": "LayoutModel",
     "state": {
      "_model_module": "@jupyter-widgets/base",
      "_model_module_version": "1.2.0",
      "_model_name": "LayoutModel",
      "_view_count": null,
      "_view_module": "@jupyter-widgets/base",
      "_view_module_version": "1.2.0",
      "_view_name": "LayoutView",
      "align_content": null,
      "align_items": null,
      "align_self": null,
      "border": null,
      "bottom": null,
      "display": null,
      "flex": null,
      "flex_flow": null,
      "grid_area": null,
      "grid_auto_columns": null,
      "grid_auto_flow": null,
      "grid_auto_rows": null,
      "grid_column": null,
      "grid_gap": null,
      "grid_row": null,
      "grid_template_areas": null,
      "grid_template_columns": null,
      "grid_template_rows": null,
      "height": null,
      "justify_content": null,
      "justify_items": null,
      "left": null,
      "margin": null,
      "max_height": null,
      "max_width": null,
      "min_height": null,
      "min_width": null,
      "object_fit": null,
      "object_position": null,
      "order": null,
      "overflow": null,
      "overflow_x": null,
      "overflow_y": null,
      "padding": null,
      "right": null,
      "top": null,
      "visibility": null,
      "width": null
     }
    },
    "37a55d79e9db4c4cac196e8fcb430e8d": {
     "model_module": "@jupyter-widgets/controls",
     "model_name": "HBoxModel",
     "state": {
      "_dom_classes": [],
      "_model_module": "@jupyter-widgets/controls",
      "_model_module_version": "1.5.0",
      "_model_name": "HBoxModel",
      "_view_count": null,
      "_view_module": "@jupyter-widgets/controls",
      "_view_module_version": "1.5.0",
      "_view_name": "HBoxView",
      "box_style": "",
      "children": [
       "IPY_MODEL_404a19df18a142469060b60be9c7a39d",
       "IPY_MODEL_c23c2c50af6a4696968ed06b6dcf0e01"
      ],
      "layout": "IPY_MODEL_853910fb4cab4391abbc5a3910873e2b"
     }
    },
    "3e0ad1d852b5438bb6c2d6f4d76596dc": {
     "model_module": "@jupyter-widgets/controls",
     "model_name": "DescriptionStyleModel",
     "state": {
      "_model_module": "@jupyter-widgets/controls",
      "_model_module_version": "1.5.0",
      "_model_name": "DescriptionStyleModel",
      "_view_count": null,
      "_view_module": "@jupyter-widgets/base",
      "_view_module_version": "1.2.0",
      "_view_name": "StyleView",
      "description_width": ""
     }
    },
    "3e439b96d22f49bea1e5aa3572a45199": {
     "model_module": "@jupyter-widgets/controls",
     "model_name": "ProgressStyleModel",
     "state": {
      "_model_module": "@jupyter-widgets/controls",
      "_model_module_version": "1.5.0",
      "_model_name": "ProgressStyleModel",
      "_view_count": null,
      "_view_module": "@jupyter-widgets/base",
      "_view_module_version": "1.2.0",
      "_view_name": "StyleView",
      "bar_color": null,
      "description_width": "initial"
     }
    },
    "3f03b377bb084a52afe6a9d39e0461af": {
     "model_module": "@jupyter-widgets/controls",
     "model_name": "HTMLModel",
     "state": {
      "_dom_classes": [],
      "_model_module": "@jupyter-widgets/controls",
      "_model_module_version": "1.5.0",
      "_model_name": "HTMLModel",
      "_view_count": null,
      "_view_module": "@jupyter-widgets/controls",
      "_view_module_version": "1.5.0",
      "_view_name": "HTMLView",
      "description": "",
      "description_tooltip": null,
      "layout": "IPY_MODEL_f49565e4136c47a98399f7eeb9cc0ed4",
      "placeholder": "​",
      "style": "IPY_MODEL_6b340b9f1109404d8704f6a848d8a185",
      "value": " 1147/1147 [00:02&lt;00:00, 405.42ex/s]"
     }
    },
    "404a19df18a142469060b60be9c7a39d": {
     "model_module": "@jupyter-widgets/controls",
     "model_name": "FloatProgressModel",
     "state": {
      "_dom_classes": [],
      "_model_module": "@jupyter-widgets/controls",
      "_model_module_version": "1.5.0",
      "_model_name": "FloatProgressModel",
      "_view_count": null,
      "_view_module": "@jupyter-widgets/controls",
      "_view_module_version": "1.5.0",
      "_view_name": "ProgressView",
      "bar_style": "success",
      "description": "Iteration: 100%",
      "description_tooltip": null,
      "layout": "IPY_MODEL_eb13487f711f49a1b089f31dc9f6f690",
      "max": 2,
      "min": 0,
      "orientation": "horizontal",
      "style": "IPY_MODEL_6f75885aedfc4c2f83ca894834d2c1a9",
      "value": 2
     }
    },
    "4462fe09cf1b4f7393795585fc9944d6": {
     "model_module": "@jupyter-widgets/controls",
     "model_name": "DescriptionStyleModel",
     "state": {
      "_model_module": "@jupyter-widgets/controls",
      "_model_module_version": "1.5.0",
      "_model_name": "DescriptionStyleModel",
      "_view_count": null,
      "_view_module": "@jupyter-widgets/base",
      "_view_module_version": "1.2.0",
      "_view_name": "StyleView",
      "description_width": ""
     }
    },
    "4783f9223f7f4d24816bdeddbc223360": {
     "model_module": "@jupyter-widgets/controls",
     "model_name": "ProgressStyleModel",
     "state": {
      "_model_module": "@jupyter-widgets/controls",
      "_model_module_version": "1.5.0",
      "_model_name": "ProgressStyleModel",
      "_view_count": null,
      "_view_module": "@jupyter-widgets/base",
      "_view_module_version": "1.2.0",
      "_view_name": "StyleView",
      "bar_color": null,
      "description_width": "initial"
     }
    },
    "47e6f94f98284896a8f784ce4079393d": {
     "model_module": "@jupyter-widgets/controls",
     "model_name": "FloatProgressModel",
     "state": {
      "_dom_classes": [],
      "_model_module": "@jupyter-widgets/controls",
      "_model_module_version": "1.5.0",
      "_model_name": "FloatProgressModel",
      "_view_count": null,
      "_view_module": "@jupyter-widgets/controls",
      "_view_module_version": "1.5.0",
      "_view_name": "ProgressView",
      "bar_style": "success",
      "description": "Downloading: 100%",
      "description_tooltip": null,
      "layout": "IPY_MODEL_b7d3a82e9d084518b970906f250f8c6c",
      "max": 1525,
      "min": 0,
      "orientation": "horizontal",
      "style": "IPY_MODEL_a01786a12bc34f0bb09202f58aca57fb",
      "value": 1525
     }
    },
    "48e7dc83d240453ab55f3a9187347ddb": {
     "model_module": "@jupyter-widgets/controls",
     "model_name": "FloatProgressModel",
     "state": {
      "_dom_classes": [],
      "_model_module": "@jupyter-widgets/controls",
      "_model_module_version": "1.5.0",
      "_model_name": "FloatProgressModel",
      "_view_count": null,
      "_view_module": "@jupyter-widgets/controls",
      "_view_module_version": "1.5.0",
      "_view_name": "ProgressView",
      "bar_style": "success",
      "description": "Downloading: 100%",
      "description_tooltip": null,
      "layout": "IPY_MODEL_e2e39ae28c8c49b2a2204c9554b0f339",
      "max": 1018571383,
      "min": 0,
      "orientation": "horizontal",
      "style": "IPY_MODEL_ef01a85b83ee4b948f37940ced5a1725",
      "value": 1018571383
     }
    },
    "52585615c1444ac7bc2c672f954d0e93": {
     "model_module": "@jupyter-widgets/controls",
     "model_name": "ProgressStyleModel",
     "state": {
      "_model_module": "@jupyter-widgets/controls",
      "_model_module_version": "1.5.0",
      "_model_name": "ProgressStyleModel",
      "_view_count": null,
      "_view_module": "@jupyter-widgets/base",
      "_view_module_version": "1.2.0",
      "_view_name": "StyleView",
      "bar_color": null,
      "description_width": "initial"
     }
    },
    "559c950cac8d4fb1a626f7c0dddb811b": {
     "model_module": "@jupyter-widgets/controls",
     "model_name": "HBoxModel",
     "state": {
      "_dom_classes": [],
      "_model_module": "@jupyter-widgets/controls",
      "_model_module_version": "1.5.0",
      "_model_name": "HBoxModel",
      "_view_count": null,
      "_view_module": "@jupyter-widgets/controls",
      "_view_module_version": "1.5.0",
      "_view_name": "HBoxView",
      "box_style": "",
      "children": [
       "IPY_MODEL_147d248e2670415a82afc401bb058317",
       "IPY_MODEL_08fce7e8a19a47558a5900229039bb69"
      ],
      "layout": "IPY_MODEL_f758260b13654115a2c493c8a12e459b"
     }
    },
    "5662f41d17c94a629a12f5c2d327900a": {
     "model_module": "@jupyter-widgets/base",
     "model_name": "LayoutModel",
     "state": {
      "_model_module": "@jupyter-widgets/base",
      "_model_module_version": "1.2.0",
      "_model_name": "LayoutModel",
      "_view_count": null,
      "_view_module": "@jupyter-widgets/base",
      "_view_module_version": "1.2.0",
      "_view_name": "LayoutView",
      "align_content": null,
      "align_items": null,
      "align_self": null,
      "border": null,
      "bottom": null,
      "display": null,
      "flex": null,
      "flex_flow": null,
      "grid_area": null,
      "grid_auto_columns": null,
      "grid_auto_flow": null,
      "grid_auto_rows": null,
      "grid_column": null,
      "grid_gap": null,
      "grid_row": null,
      "grid_template_areas": null,
      "grid_template_columns": null,
      "grid_template_rows": null,
      "height": null,
      "justify_content": null,
      "justify_items": null,
      "left": null,
      "margin": null,
      "max_height": null,
      "max_width": null,
      "min_height": null,
      "min_width": null,
      "object_fit": null,
      "object_position": null,
      "order": null,
      "overflow": null,
      "overflow_x": null,
      "overflow_y": null,
      "padding": null,
      "right": null,
      "top": null,
      "visibility": null,
      "width": null
     }
    },
    "5685cebee14b4c9ebe5a06be2cd05a57": {
     "model_module": "@jupyter-widgets/controls",
     "model_name": "HBoxModel",
     "state": {
      "_dom_classes": [],
      "_model_module": "@jupyter-widgets/controls",
      "_model_module_version": "1.5.0",
      "_model_name": "HBoxModel",
      "_view_count": null,
      "_view_module": "@jupyter-widgets/controls",
      "_view_module_version": "1.5.0",
      "_view_name": "HBoxView",
      "box_style": "",
      "children": [
       "IPY_MODEL_80fe849c4c614383bbfe2f17915167f2",
       "IPY_MODEL_ccaed2142d6441e0abbc6b1931063d19"
      ],
      "layout": "IPY_MODEL_f7a8db4fe0074ff0a38ff4682c01dfbe"
     }
    },
    "56d98f41378b4f4e8cd7489cb2175058": {
     "model_module": "@jupyter-widgets/controls",
     "model_name": "ProgressStyleModel",
     "state": {
      "_model_module": "@jupyter-widgets/controls",
      "_model_module_version": "1.5.0",
      "_model_name": "ProgressStyleModel",
      "_view_count": null,
      "_view_module": "@jupyter-widgets/base",
      "_view_module_version": "1.2.0",
      "_view_name": "StyleView",
      "bar_color": null,
      "description_width": "initial"
     }
    },
    "594939f5f4a743f4a85c170184652227": {
     "model_module": "@jupyter-widgets/controls",
     "model_name": "ProgressStyleModel",
     "state": {
      "_model_module": "@jupyter-widgets/controls",
      "_model_module_version": "1.5.0",
      "_model_name": "ProgressStyleModel",
      "_view_count": null,
      "_view_module": "@jupyter-widgets/base",
      "_view_module_version": "1.2.0",
      "_view_name": "StyleView",
      "bar_color": null,
      "description_width": "initial"
     }
    },
    "5b8d0dff30ea4a1d9f6f6b64bd4f8e8b": {
     "model_module": "@jupyter-widgets/base",
     "model_name": "LayoutModel",
     "state": {
      "_model_module": "@jupyter-widgets/base",
      "_model_module_version": "1.2.0",
      "_model_name": "LayoutModel",
      "_view_count": null,
      "_view_module": "@jupyter-widgets/base",
      "_view_module_version": "1.2.0",
      "_view_name": "LayoutView",
      "align_content": null,
      "align_items": null,
      "align_self": null,
      "border": null,
      "bottom": null,
      "display": null,
      "flex": null,
      "flex_flow": null,
      "grid_area": null,
      "grid_auto_columns": null,
      "grid_auto_flow": null,
      "grid_auto_rows": null,
      "grid_column": null,
      "grid_gap": null,
      "grid_row": null,
      "grid_template_areas": null,
      "grid_template_columns": null,
      "grid_template_rows": null,
      "height": null,
      "justify_content": null,
      "justify_items": null,
      "left": null,
      "margin": null,
      "max_height": null,
      "max_width": null,
      "min_height": null,
      "min_width": null,
      "object_fit": null,
      "object_position": null,
      "order": null,
      "overflow": null,
      "overflow_x": null,
      "overflow_y": null,
      "padding": null,
      "right": null,
      "top": null,
      "visibility": null,
      "width": null
     }
    },
    "636412a9555e483d816622c1a17f27f5": {
     "model_module": "@jupyter-widgets/base",
     "model_name": "LayoutModel",
     "state": {
      "_model_module": "@jupyter-widgets/base",
      "_model_module_version": "1.2.0",
      "_model_name": "LayoutModel",
      "_view_count": null,
      "_view_module": "@jupyter-widgets/base",
      "_view_module_version": "1.2.0",
      "_view_name": "LayoutView",
      "align_content": null,
      "align_items": null,
      "align_self": null,
      "border": null,
      "bottom": null,
      "display": null,
      "flex": null,
      "flex_flow": null,
      "grid_area": null,
      "grid_auto_columns": null,
      "grid_auto_flow": null,
      "grid_auto_rows": null,
      "grid_column": null,
      "grid_gap": null,
      "grid_row": null,
      "grid_template_areas": null,
      "grid_template_columns": null,
      "grid_template_rows": null,
      "height": null,
      "justify_content": null,
      "justify_items": null,
      "left": null,
      "margin": null,
      "max_height": null,
      "max_width": null,
      "min_height": null,
      "min_width": null,
      "object_fit": null,
      "object_position": null,
      "order": null,
      "overflow": null,
      "overflow_x": null,
      "overflow_y": null,
      "padding": null,
      "right": null,
      "top": null,
      "visibility": null,
      "width": null
     }
    },
    "6425489d73bf4f88b34ef25380ce5739": {
     "model_module": "@jupyter-widgets/controls",
     "model_name": "DescriptionStyleModel",
     "state": {
      "_model_module": "@jupyter-widgets/controls",
      "_model_module_version": "1.5.0",
      "_model_name": "DescriptionStyleModel",
      "_view_count": null,
      "_view_module": "@jupyter-widgets/base",
      "_view_module_version": "1.2.0",
      "_view_name": "StyleView",
      "description_width": ""
     }
    },
    "65918bcbc8e548129127df3b0daf2530": {
     "model_module": "@jupyter-widgets/base",
     "model_name": "LayoutModel",
     "state": {
      "_model_module": "@jupyter-widgets/base",
      "_model_module_version": "1.2.0",
      "_model_name": "LayoutModel",
      "_view_count": null,
      "_view_module": "@jupyter-widgets/base",
      "_view_module_version": "1.2.0",
      "_view_name": "LayoutView",
      "align_content": null,
      "align_items": null,
      "align_self": null,
      "border": null,
      "bottom": null,
      "display": null,
      "flex": null,
      "flex_flow": null,
      "grid_area": null,
      "grid_auto_columns": null,
      "grid_auto_flow": null,
      "grid_auto_rows": null,
      "grid_column": null,
      "grid_gap": null,
      "grid_row": null,
      "grid_template_areas": null,
      "grid_template_columns": null,
      "grid_template_rows": null,
      "height": null,
      "justify_content": null,
      "justify_items": null,
      "left": null,
      "margin": null,
      "max_height": null,
      "max_width": null,
      "min_height": null,
      "min_width": null,
      "object_fit": null,
      "object_position": null,
      "order": null,
      "overflow": null,
      "overflow_x": null,
      "overflow_y": null,
      "padding": null,
      "right": null,
      "top": null,
      "visibility": null,
      "width": null
     }
    },
    "69ea602b9c644bdf8f852877da5ad63c": {
     "model_module": "@jupyter-widgets/controls",
     "model_name": "HTMLModel",
     "state": {
      "_dom_classes": [],
      "_model_module": "@jupyter-widgets/controls",
      "_model_module_version": "1.5.0",
      "_model_name": "HTMLModel",
      "_view_count": null,
      "_view_module": "@jupyter-widgets/controls",
      "_view_module_version": "1.5.0",
      "_view_name": "HTMLView",
      "description": "",
      "description_tooltip": null,
      "layout": "IPY_MODEL_d11aabf58d3a4eb0873bfcb3d651c02b",
      "placeholder": "​",
      "style": "IPY_MODEL_3e0ad1d852b5438bb6c2d6f4d76596dc",
      "value": " 1.02G/1.02G [00:37&lt;00:00, 27.2MB/s]"
     }
    },
    "6b340b9f1109404d8704f6a848d8a185": {
     "model_module": "@jupyter-widgets/controls",
     "model_name": "DescriptionStyleModel",
     "state": {
      "_model_module": "@jupyter-widgets/controls",
      "_model_module_version": "1.5.0",
      "_model_name": "DescriptionStyleModel",
      "_view_count": null,
      "_view_module": "@jupyter-widgets/base",
      "_view_module_version": "1.2.0",
      "_view_name": "StyleView",
      "description_width": ""
     }
    },
    "6b8aea4495da4dd7af4fc6b0825881e6": {
     "model_module": "@jupyter-widgets/controls",
     "model_name": "HBoxModel",
     "state": {
      "_dom_classes": [],
      "_model_module": "@jupyter-widgets/controls",
      "_model_module_version": "1.5.0",
      "_model_name": "HBoxModel",
      "_view_count": null,
      "_view_module": "@jupyter-widgets/controls",
      "_view_module_version": "1.5.0",
      "_view_name": "HBoxView",
      "box_style": "",
      "children": [
       "IPY_MODEL_47e6f94f98284896a8f784ce4079393d",
       "IPY_MODEL_86f0355e085a4022ab9904dbc63e1a11"
      ],
      "layout": "IPY_MODEL_85072ab4c8e842eaa21f4bb84dae58ff"
     }
    },
    "6f455c0486064c268bf20136757faa3d": {
     "model_module": "@jupyter-widgets/controls",
     "model_name": "DescriptionStyleModel",
     "state": {
      "_model_module": "@jupyter-widgets/controls",
      "_model_module_version": "1.5.0",
      "_model_name": "DescriptionStyleModel",
      "_view_count": null,
      "_view_module": "@jupyter-widgets/base",
      "_view_module_version": "1.2.0",
      "_view_name": "StyleView",
      "description_width": ""
     }
    },
    "6f75885aedfc4c2f83ca894834d2c1a9": {
     "model_module": "@jupyter-widgets/controls",
     "model_name": "ProgressStyleModel",
     "state": {
      "_model_module": "@jupyter-widgets/controls",
      "_model_module_version": "1.5.0",
      "_model_name": "ProgressStyleModel",
      "_view_count": null,
      "_view_module": "@jupyter-widgets/base",
      "_view_module_version": "1.2.0",
      "_view_name": "StyleView",
      "bar_color": null,
      "description_width": "initial"
     }
    },
    "79910a86feed468caaa938128700e636": {
     "model_module": "@jupyter-widgets/controls",
     "model_name": "DescriptionStyleModel",
     "state": {
      "_model_module": "@jupyter-widgets/controls",
      "_model_module_version": "1.5.0",
      "_model_name": "DescriptionStyleModel",
      "_view_count": null,
      "_view_module": "@jupyter-widgets/base",
      "_view_module_version": "1.2.0",
      "_view_name": "StyleView",
      "description_width": ""
     }
    },
    "7f58526d9aab4607817d1cbcf99cf601": {
     "model_module": "@jupyter-widgets/base",
     "model_name": "LayoutModel",
     "state": {
      "_model_module": "@jupyter-widgets/base",
      "_model_module_version": "1.2.0",
      "_model_name": "LayoutModel",
      "_view_count": null,
      "_view_module": "@jupyter-widgets/base",
      "_view_module_version": "1.2.0",
      "_view_name": "LayoutView",
      "align_content": null,
      "align_items": null,
      "align_self": null,
      "border": null,
      "bottom": null,
      "display": null,
      "flex": null,
      "flex_flow": null,
      "grid_area": null,
      "grid_auto_columns": null,
      "grid_auto_flow": null,
      "grid_auto_rows": null,
      "grid_column": null,
      "grid_gap": null,
      "grid_row": null,
      "grid_template_areas": null,
      "grid_template_columns": null,
      "grid_template_rows": null,
      "height": null,
      "justify_content": null,
      "justify_items": null,
      "left": null,
      "margin": null,
      "max_height": null,
      "max_width": null,
      "min_height": null,
      "min_width": null,
      "object_fit": null,
      "object_position": null,
      "order": null,
      "overflow": null,
      "overflow_x": null,
      "overflow_y": null,
      "padding": null,
      "right": null,
      "top": null,
      "visibility": null,
      "width": null
     }
    },
    "80fe849c4c614383bbfe2f17915167f2": {
     "model_module": "@jupyter-widgets/controls",
     "model_name": "FloatProgressModel",
     "state": {
      "_dom_classes": [],
      "_model_module": "@jupyter-widgets/controls",
      "_model_module_version": "1.5.0",
      "_model_name": "FloatProgressModel",
      "_view_count": null,
      "_view_module": "@jupyter-widgets/controls",
      "_view_module_version": "1.5.0",
      "_view_name": "ProgressView",
      "bar_style": "success",
      "description": "#0: 100%",
      "description_tooltip": null,
      "layout": "IPY_MODEL_24557e49ae6c4fe98c3475696b7c0ca7",
      "max": 48037,
      "min": 0,
      "orientation": "horizontal",
      "style": "IPY_MODEL_3e439b96d22f49bea1e5aa3572a45199",
      "value": 48037
     }
    },
    "82d76ae9ba04419f9b78c47be1b60128": {
     "model_module": "@jupyter-widgets/controls",
     "model_name": "HTMLModel",
     "state": {
      "_dom_classes": [],
      "_model_module": "@jupyter-widgets/controls",
      "_model_module_version": "1.5.0",
      "_model_name": "HTMLModel",
      "_view_count": null,
      "_view_module": "@jupyter-widgets/controls",
      "_view_module_version": "1.5.0",
      "_view_name": "HTMLView",
      "description": "",
      "description_tooltip": null,
      "layout": "IPY_MODEL_7f58526d9aab4607817d1cbcf99cf601",
      "placeholder": "​",
      "style": "IPY_MODEL_4462fe09cf1b4f7393795585fc9944d6",
      "value": " 2/2 [02:11&lt;00:00, 65.73s/it]"
     }
    },
    "85072ab4c8e842eaa21f4bb84dae58ff": {
     "model_module": "@jupyter-widgets/base",
     "model_name": "LayoutModel",
     "state": {
      "_model_module": "@jupyter-widgets/base",
      "_model_module_version": "1.2.0",
      "_model_name": "LayoutModel",
      "_view_count": null,
      "_view_module": "@jupyter-widgets/base",
      "_view_module_version": "1.2.0",
      "_view_name": "LayoutView",
      "align_content": null,
      "align_items": null,
      "align_self": null,
      "border": null,
      "bottom": null,
      "display": null,
      "flex": null,
      "flex_flow": null,
      "grid_area": null,
      "grid_auto_columns": null,
      "grid_auto_flow": null,
      "grid_auto_rows": null,
      "grid_column": null,
      "grid_gap": null,
      "grid_row": null,
      "grid_template_areas": null,
      "grid_template_columns": null,
      "grid_template_rows": null,
      "height": null,
      "justify_content": null,
      "justify_items": null,
      "left": null,
      "margin": null,
      "max_height": null,
      "max_width": null,
      "min_height": null,
      "min_width": null,
      "object_fit": null,
      "object_position": null,
      "order": null,
      "overflow": null,
      "overflow_x": null,
      "overflow_y": null,
      "padding": null,
      "right": null,
      "top": null,
      "visibility": null,
      "width": null
     }
    },
    "853910fb4cab4391abbc5a3910873e2b": {
     "model_module": "@jupyter-widgets/base",
     "model_name": "LayoutModel",
     "state": {
      "_model_module": "@jupyter-widgets/base",
      "_model_module_version": "1.2.0",
      "_model_name": "LayoutModel",
      "_view_count": null,
      "_view_module": "@jupyter-widgets/base",
      "_view_module_version": "1.2.0",
      "_view_name": "LayoutView",
      "align_content": null,
      "align_items": null,
      "align_self": null,
      "border": null,
      "bottom": null,
      "display": null,
      "flex": null,
      "flex_flow": null,
      "grid_area": null,
      "grid_auto_columns": null,
      "grid_auto_flow": null,
      "grid_auto_rows": null,
      "grid_column": null,
      "grid_gap": null,
      "grid_row": null,
      "grid_template_areas": null,
      "grid_template_columns": null,
      "grid_template_rows": null,
      "height": null,
      "justify_content": null,
      "justify_items": null,
      "left": null,
      "margin": null,
      "max_height": null,
      "max_width": null,
      "min_height": null,
      "min_width": null,
      "object_fit": null,
      "object_position": null,
      "order": null,
      "overflow": null,
      "overflow_x": null,
      "overflow_y": null,
      "padding": null,
      "right": null,
      "top": null,
      "visibility": null,
      "width": null
     }
    },
    "85fd0968cd9147b08f17ab48d378e4c6": {
     "model_module": "@jupyter-widgets/base",
     "model_name": "LayoutModel",
     "state": {
      "_model_module": "@jupyter-widgets/base",
      "_model_module_version": "1.2.0",
      "_model_name": "LayoutModel",
      "_view_count": null,
      "_view_module": "@jupyter-widgets/base",
      "_view_module_version": "1.2.0",
      "_view_name": "LayoutView",
      "align_content": null,
      "align_items": null,
      "align_self": null,
      "border": null,
      "bottom": null,
      "display": null,
      "flex": null,
      "flex_flow": null,
      "grid_area": null,
      "grid_auto_columns": null,
      "grid_auto_flow": null,
      "grid_auto_rows": null,
      "grid_column": null,
      "grid_gap": null,
      "grid_row": null,
      "grid_template_areas": null,
      "grid_template_columns": null,
      "grid_template_rows": null,
      "height": null,
      "justify_content": null,
      "justify_items": null,
      "left": null,
      "margin": null,
      "max_height": null,
      "max_width": null,
      "min_height": null,
      "min_width": null,
      "object_fit": null,
      "object_position": null,
      "order": null,
      "overflow": null,
      "overflow_x": null,
      "overflow_y": null,
      "padding": null,
      "right": null,
      "top": null,
      "visibility": null,
      "width": null
     }
    },
    "86f0355e085a4022ab9904dbc63e1a11": {
     "model_module": "@jupyter-widgets/controls",
     "model_name": "HTMLModel",
     "state": {
      "_dom_classes": [],
      "_model_module": "@jupyter-widgets/controls",
      "_model_module_version": "1.5.0",
      "_model_name": "HTMLModel",
      "_view_count": null,
      "_view_module": "@jupyter-widgets/controls",
      "_view_module_version": "1.5.0",
      "_view_name": "HTMLView",
      "description": "",
      "description_tooltip": null,
      "layout": "IPY_MODEL_d65c2a0991a84eadb11db93c427d9924",
      "placeholder": "​",
      "style": "IPY_MODEL_79910a86feed468caaa938128700e636",
      "value": " 1.52k/1.52k [00:00&lt;00:00, 14.2kB/s]"
     }
    },
    "87b4d541ed4245ae8ce1c264130dfff4": {
     "model_module": "@jupyter-widgets/base",
     "model_name": "LayoutModel",
     "state": {
      "_model_module": "@jupyter-widgets/base",
      "_model_module_version": "1.2.0",
      "_model_name": "LayoutModel",
      "_view_count": null,
      "_view_module": "@jupyter-widgets/base",
      "_view_module_version": "1.2.0",
      "_view_name": "LayoutView",
      "align_content": null,
      "align_items": null,
      "align_self": null,
      "border": null,
      "bottom": null,
      "display": null,
      "flex": null,
      "flex_flow": null,
      "grid_area": null,
      "grid_auto_columns": null,
      "grid_auto_flow": null,
      "grid_auto_rows": null,
      "grid_column": null,
      "grid_gap": null,
      "grid_row": null,
      "grid_template_areas": null,
      "grid_template_columns": null,
      "grid_template_rows": null,
      "height": null,
      "justify_content": null,
      "justify_items": null,
      "left": null,
      "margin": null,
      "max_height": null,
      "max_width": null,
      "min_height": null,
      "min_width": null,
      "object_fit": null,
      "object_position": null,
      "order": null,
      "overflow": null,
      "overflow_x": null,
      "overflow_y": null,
      "padding": null,
      "right": null,
      "top": null,
      "visibility": null,
      "width": null
     }
    },
    "8fca6f9c0c69405bb51f7db56b61f0a3": {
     "model_module": "@jupyter-widgets/base",
     "model_name": "LayoutModel",
     "state": {
      "_model_module": "@jupyter-widgets/base",
      "_model_module_version": "1.2.0",
      "_model_name": "LayoutModel",
      "_view_count": null,
      "_view_module": "@jupyter-widgets/base",
      "_view_module_version": "1.2.0",
      "_view_name": "LayoutView",
      "align_content": null,
      "align_items": null,
      "align_self": null,
      "border": null,
      "bottom": null,
      "display": null,
      "flex": null,
      "flex_flow": null,
      "grid_area": null,
      "grid_auto_columns": null,
      "grid_auto_flow": null,
      "grid_auto_rows": null,
      "grid_column": null,
      "grid_gap": null,
      "grid_row": null,
      "grid_template_areas": null,
      "grid_template_columns": null,
      "grid_template_rows": null,
      "height": null,
      "justify_content": null,
      "justify_items": null,
      "left": null,
      "margin": null,
      "max_height": null,
      "max_width": null,
      "min_height": null,
      "min_width": null,
      "object_fit": null,
      "object_position": null,
      "order": null,
      "overflow": null,
      "overflow_x": null,
      "overflow_y": null,
      "padding": null,
      "right": null,
      "top": null,
      "visibility": null,
      "width": null
     }
    },
    "902a0137147b42bca7bf73483e7e85f8": {
     "model_module": "@jupyter-widgets/controls",
     "model_name": "HBoxModel",
     "state": {
      "_dom_classes": [],
      "_model_module": "@jupyter-widgets/controls",
      "_model_module_version": "1.5.0",
      "_model_name": "HBoxModel",
      "_view_count": null,
      "_view_module": "@jupyter-widgets/controls",
      "_view_module_version": "1.5.0",
      "_view_name": "HBoxView",
      "box_style": "",
      "children": [
       "IPY_MODEL_bb47ada255e34e8484124bfccf08daea",
       "IPY_MODEL_e6c2040b056a427b879f28f6d1063818"
      ],
      "layout": "IPY_MODEL_374300ce6c1943d2b5483774fcb2e279"
     }
    },
    "9095bbabaf4f4e58ad17d2f107827164": {
     "model_module": "@jupyter-widgets/controls",
     "model_name": "FloatProgressModel",
     "state": {
      "_dom_classes": [],
      "_model_module": "@jupyter-widgets/controls",
      "_model_module_version": "1.5.0",
      "_model_name": "FloatProgressModel",
      "_view_count": null,
      "_view_module": "@jupyter-widgets/controls",
      "_view_module_version": "1.5.0",
      "_view_name": "ProgressView",
      "bar_style": "success",
      "description": "#1: 100%",
      "description_tooltip": null,
      "layout": "IPY_MODEL_2bf4e2027139465588f0c37834b2d2eb",
      "max": 1147,
      "min": 0,
      "orientation": "horizontal",
      "style": "IPY_MODEL_96ec5237c98c4fe0838295d5ed248dd6",
      "value": 1147
     }
    },
    "93b8c176c521461bbcfdba82f381dd4e": {
     "model_module": "@jupyter-widgets/controls",
     "model_name": "HBoxModel",
     "state": {
      "_dom_classes": [],
      "_model_module": "@jupyter-widgets/controls",
      "_model_module_version": "1.5.0",
      "_model_name": "HBoxModel",
      "_view_count": null,
      "_view_module": "@jupyter-widgets/controls",
      "_view_module_version": "1.5.0",
      "_view_name": "HBoxView",
      "box_style": "",
      "children": [
       "IPY_MODEL_aa38f8ae132d47d38ff7acc443d93879",
       "IPY_MODEL_2a97fa89fc784df2a035b5fb9cb17e0e"
      ],
      "layout": "IPY_MODEL_65918bcbc8e548129127df3b0daf2530"
     }
    },
    "96ec5237c98c4fe0838295d5ed248dd6": {
     "model_module": "@jupyter-widgets/controls",
     "model_name": "ProgressStyleModel",
     "state": {
      "_model_module": "@jupyter-widgets/controls",
      "_model_module_version": "1.5.0",
      "_model_name": "ProgressStyleModel",
      "_view_count": null,
      "_view_module": "@jupyter-widgets/base",
      "_view_module_version": "1.2.0",
      "_view_name": "StyleView",
      "bar_color": null,
      "description_width": "initial"
     }
    },
    "976f9c742d144f8fae9601cdd53c7754": {
     "model_module": "@jupyter-widgets/controls",
     "model_name": "DescriptionStyleModel",
     "state": {
      "_model_module": "@jupyter-widgets/controls",
      "_model_module_version": "1.5.0",
      "_model_name": "DescriptionStyleModel",
      "_view_count": null,
      "_view_module": "@jupyter-widgets/base",
      "_view_module_version": "1.2.0",
      "_view_name": "StyleView",
      "description_width": ""
     }
    },
    "9810049a656d46e3ac64be1f343d0f0b": {
     "model_module": "@jupyter-widgets/controls",
     "model_name": "HTMLModel",
     "state": {
      "_dom_classes": [],
      "_model_module": "@jupyter-widgets/controls",
      "_model_module_version": "1.5.0",
      "_model_name": "HTMLModel",
      "_view_count": null,
      "_view_module": "@jupyter-widgets/controls",
      "_view_module_version": "1.5.0",
      "_view_name": "HTMLView",
      "description": "",
      "description_tooltip": null,
      "layout": "IPY_MODEL_d126b808c3f54b2faafd4d64dab98371",
      "placeholder": "​",
      "style": "IPY_MODEL_aa7e71a7ba554c17a4f2016faadbf9e2",
      "value": " 26.0/26.0 [00:37&lt;00:00, 1.46s/B]"
     }
    },
    "9814ed9820524d8095115cd97cc332ea": {
     "model_module": "@jupyter-widgets/base",
     "model_name": "LayoutModel",
     "state": {
      "_model_module": "@jupyter-widgets/base",
      "_model_module_version": "1.2.0",
      "_model_name": "LayoutModel",
      "_view_count": null,
      "_view_module": "@jupyter-widgets/base",
      "_view_module_version": "1.2.0",
      "_view_name": "LayoutView",
      "align_content": null,
      "align_items": null,
      "align_self": null,
      "border": null,
      "bottom": null,
      "display": null,
      "flex": null,
      "flex_flow": null,
      "grid_area": null,
      "grid_auto_columns": null,
      "grid_auto_flow": null,
      "grid_auto_rows": null,
      "grid_column": null,
      "grid_gap": null,
      "grid_row": null,
      "grid_template_areas": null,
      "grid_template_columns": null,
      "grid_template_rows": null,
      "height": null,
      "justify_content": null,
      "justify_items": null,
      "left": null,
      "margin": null,
      "max_height": null,
      "max_width": null,
      "min_height": null,
      "min_width": null,
      "object_fit": null,
      "object_position": null,
      "order": null,
      "overflow": null,
      "overflow_x": null,
      "overflow_y": null,
      "padding": null,
      "right": null,
      "top": null,
      "visibility": null,
      "width": null
     }
    },
    "a01786a12bc34f0bb09202f58aca57fb": {
     "model_module": "@jupyter-widgets/controls",
     "model_name": "ProgressStyleModel",
     "state": {
      "_model_module": "@jupyter-widgets/controls",
      "_model_module_version": "1.5.0",
      "_model_name": "ProgressStyleModel",
      "_view_count": null,
      "_view_module": "@jupyter-widgets/base",
      "_view_module_version": "1.2.0",
      "_view_name": "StyleView",
      "bar_color": null,
      "description_width": "initial"
     }
    },
    "a433b72f66e24add8d1bce056cf55783": {
     "model_module": "@jupyter-widgets/controls",
     "model_name": "DescriptionStyleModel",
     "state": {
      "_model_module": "@jupyter-widgets/controls",
      "_model_module_version": "1.5.0",
      "_model_name": "DescriptionStyleModel",
      "_view_count": null,
      "_view_module": "@jupyter-widgets/base",
      "_view_module_version": "1.2.0",
      "_view_name": "StyleView",
      "description_width": ""
     }
    },
    "a6e11c404bae4168bf6ce0493e08cb63": {
     "model_module": "@jupyter-widgets/base",
     "model_name": "LayoutModel",
     "state": {
      "_model_module": "@jupyter-widgets/base",
      "_model_module_version": "1.2.0",
      "_model_name": "LayoutModel",
      "_view_count": null,
      "_view_module": "@jupyter-widgets/base",
      "_view_module_version": "1.2.0",
      "_view_name": "LayoutView",
      "align_content": null,
      "align_items": null,
      "align_self": null,
      "border": null,
      "bottom": null,
      "display": null,
      "flex": null,
      "flex_flow": null,
      "grid_area": null,
      "grid_auto_columns": null,
      "grid_auto_flow": null,
      "grid_auto_rows": null,
      "grid_column": null,
      "grid_gap": null,
      "grid_row": null,
      "grid_template_areas": null,
      "grid_template_columns": null,
      "grid_template_rows": null,
      "height": null,
      "justify_content": null,
      "justify_items": null,
      "left": null,
      "margin": null,
      "max_height": null,
      "max_width": null,
      "min_height": null,
      "min_width": null,
      "object_fit": null,
      "object_position": null,
      "order": null,
      "overflow": null,
      "overflow_x": null,
      "overflow_y": null,
      "padding": null,
      "right": null,
      "top": null,
      "visibility": null,
      "width": null
     }
    },
    "aa38f8ae132d47d38ff7acc443d93879": {
     "model_module": "@jupyter-widgets/controls",
     "model_name": "FloatProgressModel",
     "state": {
      "_dom_classes": [],
      "_model_module": "@jupyter-widgets/controls",
      "_model_module_version": "1.5.0",
      "_model_name": "FloatProgressModel",
      "_view_count": null,
      "_view_module": "@jupyter-widgets/controls",
      "_view_module_version": "1.5.0",
      "_view_name": "ProgressView",
      "bar_style": "success",
      "description": "Iteration: 100%",
      "description_tooltip": null,
      "layout": "IPY_MODEL_f634169ca7e84bfd9b9d853d0afdf81f",
      "max": 2,
      "min": 0,
      "orientation": "horizontal",
      "style": "IPY_MODEL_594939f5f4a743f4a85c170184652227",
      "value": 2
     }
    },
    "aa4f205cfcef457092412c4a4ba2458a": {
     "model_module": "@jupyter-widgets/base",
     "model_name": "LayoutModel",
     "state": {
      "_model_module": "@jupyter-widgets/base",
      "_model_module_version": "1.2.0",
      "_model_name": "LayoutModel",
      "_view_count": null,
      "_view_module": "@jupyter-widgets/base",
      "_view_module_version": "1.2.0",
      "_view_name": "LayoutView",
      "align_content": null,
      "align_items": null,
      "align_self": null,
      "border": null,
      "bottom": null,
      "display": null,
      "flex": null,
      "flex_flow": null,
      "grid_area": null,
      "grid_auto_columns": null,
      "grid_auto_flow": null,
      "grid_auto_rows": null,
      "grid_column": null,
      "grid_gap": null,
      "grid_row": null,
      "grid_template_areas": null,
      "grid_template_columns": null,
      "grid_template_rows": null,
      "height": null,
      "justify_content": null,
      "justify_items": null,
      "left": null,
      "margin": null,
      "max_height": null,
      "max_width": null,
      "min_height": null,
      "min_width": null,
      "object_fit": null,
      "object_position": null,
      "order": null,
      "overflow": null,
      "overflow_x": null,
      "overflow_y": null,
      "padding": null,
      "right": null,
      "top": null,
      "visibility": null,
      "width": null
     }
    },
    "aa7e71a7ba554c17a4f2016faadbf9e2": {
     "model_module": "@jupyter-widgets/controls",
     "model_name": "DescriptionStyleModel",
     "state": {
      "_model_module": "@jupyter-widgets/controls",
      "_model_module_version": "1.5.0",
      "_model_name": "DescriptionStyleModel",
      "_view_count": null,
      "_view_module": "@jupyter-widgets/base",
      "_view_module_version": "1.2.0",
      "_view_name": "StyleView",
      "description_width": ""
     }
    },
    "aa99a05c004e4008893a447d5ed77bdc": {
     "model_module": "@jupyter-widgets/base",
     "model_name": "LayoutModel",
     "state": {
      "_model_module": "@jupyter-widgets/base",
      "_model_module_version": "1.2.0",
      "_model_name": "LayoutModel",
      "_view_count": null,
      "_view_module": "@jupyter-widgets/base",
      "_view_module_version": "1.2.0",
      "_view_name": "LayoutView",
      "align_content": null,
      "align_items": null,
      "align_self": null,
      "border": null,
      "bottom": null,
      "display": null,
      "flex": null,
      "flex_flow": null,
      "grid_area": null,
      "grid_auto_columns": null,
      "grid_auto_flow": null,
      "grid_auto_rows": null,
      "grid_column": null,
      "grid_gap": null,
      "grid_row": null,
      "grid_template_areas": null,
      "grid_template_columns": null,
      "grid_template_rows": null,
      "height": null,
      "justify_content": null,
      "justify_items": null,
      "left": null,
      "margin": null,
      "max_height": null,
      "max_width": null,
      "min_height": null,
      "min_width": null,
      "object_fit": null,
      "object_position": null,
      "order": null,
      "overflow": null,
      "overflow_x": null,
      "overflow_y": null,
      "padding": null,
      "right": null,
      "top": null,
      "visibility": null,
      "width": null
     }
    },
    "ad0911a5b949402d91bfd4ff34d9b1bf": {
     "model_module": "@jupyter-widgets/controls",
     "model_name": "FloatProgressModel",
     "state": {
      "_dom_classes": [],
      "_model_module": "@jupyter-widgets/controls",
      "_model_module_version": "1.5.0",
      "_model_name": "FloatProgressModel",
      "_view_count": null,
      "_view_module": "@jupyter-widgets/controls",
      "_view_module_version": "1.5.0",
      "_view_name": "ProgressView",
      "bar_style": "success",
      "description": "Downloading: 100%",
      "description_tooltip": null,
      "layout": "IPY_MODEL_04e8dd101d4d496d97c6de13dc44bb79",
      "max": 26,
      "min": 0,
      "orientation": "horizontal",
      "style": "IPY_MODEL_4783f9223f7f4d24816bdeddbc223360",
      "value": 26
     }
    },
    "b4d820e14c724739a26d725e0758e35b": {
     "model_module": "@jupyter-widgets/controls",
     "model_name": "DescriptionStyleModel",
     "state": {
      "_model_module": "@jupyter-widgets/controls",
      "_model_module_version": "1.5.0",
      "_model_name": "DescriptionStyleModel",
      "_view_count": null,
      "_view_module": "@jupyter-widgets/base",
      "_view_module_version": "1.2.0",
      "_view_name": "StyleView",
      "description_width": ""
     }
    },
    "b56556e048a34fca989756b93ed620e8": {
     "model_module": "@jupyter-widgets/base",
     "model_name": "LayoutModel",
     "state": {
      "_model_module": "@jupyter-widgets/base",
      "_model_module_version": "1.2.0",
      "_model_name": "LayoutModel",
      "_view_count": null,
      "_view_module": "@jupyter-widgets/base",
      "_view_module_version": "1.2.0",
      "_view_name": "LayoutView",
      "align_content": null,
      "align_items": null,
      "align_self": null,
      "border": null,
      "bottom": null,
      "display": null,
      "flex": null,
      "flex_flow": null,
      "grid_area": null,
      "grid_auto_columns": null,
      "grid_auto_flow": null,
      "grid_auto_rows": null,
      "grid_column": null,
      "grid_gap": null,
      "grid_row": null,
      "grid_template_areas": null,
      "grid_template_columns": null,
      "grid_template_rows": null,
      "height": null,
      "justify_content": null,
      "justify_items": null,
      "left": null,
      "margin": null,
      "max_height": null,
      "max_width": null,
      "min_height": null,
      "min_width": null,
      "object_fit": null,
      "object_position": null,
      "order": null,
      "overflow": null,
      "overflow_x": null,
      "overflow_y": null,
      "padding": null,
      "right": null,
      "top": null,
      "visibility": null,
      "width": null
     }
    },
    "b7d3a82e9d084518b970906f250f8c6c": {
     "model_module": "@jupyter-widgets/base",
     "model_name": "LayoutModel",
     "state": {
      "_model_module": "@jupyter-widgets/base",
      "_model_module_version": "1.2.0",
      "_model_name": "LayoutModel",
      "_view_count": null,
      "_view_module": "@jupyter-widgets/base",
      "_view_module_version": "1.2.0",
      "_view_name": "LayoutView",
      "align_content": null,
      "align_items": null,
      "align_self": null,
      "border": null,
      "bottom": null,
      "display": null,
      "flex": null,
      "flex_flow": null,
      "grid_area": null,
      "grid_auto_columns": null,
      "grid_auto_flow": null,
      "grid_auto_rows": null,
      "grid_column": null,
      "grid_gap": null,
      "grid_row": null,
      "grid_template_areas": null,
      "grid_template_columns": null,
      "grid_template_rows": null,
      "height": null,
      "justify_content": null,
      "justify_items": null,
      "left": null,
      "margin": null,
      "max_height": null,
      "max_width": null,
      "min_height": null,
      "min_width": null,
      "object_fit": null,
      "object_position": null,
      "order": null,
      "overflow": null,
      "overflow_x": null,
      "overflow_y": null,
      "padding": null,
      "right": null,
      "top": null,
      "visibility": null,
      "width": null
     }
    },
    "b7f610051bc04f0bae84d022159ff5fc": {
     "model_module": "@jupyter-widgets/controls",
     "model_name": "HBoxModel",
     "state": {
      "_dom_classes": [],
      "_model_module": "@jupyter-widgets/controls",
      "_model_module_version": "1.5.0",
      "_model_name": "HBoxModel",
      "_view_count": null,
      "_view_module": "@jupyter-widgets/controls",
      "_view_module_version": "1.5.0",
      "_view_name": "HBoxView",
      "box_style": "",
      "children": [
       "IPY_MODEL_15b1562fe2c042d89e083b0dacc13bcb",
       "IPY_MODEL_c5b78750d6eb4635a04081cea0a75587"
      ],
      "layout": "IPY_MODEL_d3fe9001e6f04196be50cd12dfc58b75"
     }
    },
    "b9112138b2ab49a69bc85b263f90f833": {
     "model_module": "@jupyter-widgets/controls",
     "model_name": "FloatProgressModel",
     "state": {
      "_dom_classes": [],
      "_model_module": "@jupyter-widgets/controls",
      "_model_module_version": "1.5.0",
      "_model_name": "FloatProgressModel",
      "_view_count": null,
      "_view_module": "@jupyter-widgets/controls",
      "_view_module_version": "1.5.0",
      "_view_name": "ProgressView",
      "bar_style": "success",
      "description": "#1: 100%",
      "description_tooltip": null,
      "layout": "IPY_MODEL_5b8d0dff30ea4a1d9f6f6b64bd4f8e8b",
      "max": 48037,
      "min": 0,
      "orientation": "horizontal",
      "style": "IPY_MODEL_df4485f7087d4d1f9499dcbd9f7dc100",
      "value": 48037
     }
    },
    "bb47ada255e34e8484124bfccf08daea": {
     "model_module": "@jupyter-widgets/controls",
     "model_name": "FloatProgressModel",
     "state": {
      "_dom_classes": [],
      "_model_module": "@jupyter-widgets/controls",
      "_model_module_version": "1.5.0",
      "_model_name": "FloatProgressModel",
      "_view_count": null,
      "_view_module": "@jupyter-widgets/controls",
      "_view_module_version": "1.5.0",
      "_view_name": "ProgressView",
      "bar_style": "success",
      "description": "Downloading: 100%",
      "description_tooltip": null,
      "layout": "IPY_MODEL_2f608a356e254c46a664f351c5ead926",
      "max": 1355863,
      "min": 0,
      "orientation": "horizontal",
      "style": "IPY_MODEL_09b7cb8fd72a4b8ab4bcd070391136fc",
      "value": 1355863
     }
    },
    "bba9e92aa5ee4bbaa04e2d0f6a9b5249": {
     "model_module": "@jupyter-widgets/base",
     "model_name": "LayoutModel",
     "state": {
      "_model_module": "@jupyter-widgets/base",
      "_model_module_version": "1.2.0",
      "_model_name": "LayoutModel",
      "_view_count": null,
      "_view_module": "@jupyter-widgets/base",
      "_view_module_version": "1.2.0",
      "_view_name": "LayoutView",
      "align_content": null,
      "align_items": null,
      "align_self": null,
      "border": null,
      "bottom": null,
      "display": null,
      "flex": null,
      "flex_flow": null,
      "grid_area": null,
      "grid_auto_columns": null,
      "grid_auto_flow": null,
      "grid_auto_rows": null,
      "grid_column": null,
      "grid_gap": null,
      "grid_row": null,
      "grid_template_areas": null,
      "grid_template_columns": null,
      "grid_template_rows": null,
      "height": null,
      "justify_content": null,
      "justify_items": null,
      "left": null,
      "margin": null,
      "max_height": null,
      "max_width": null,
      "min_height": null,
      "min_width": null,
      "object_fit": null,
      "object_position": null,
      "order": null,
      "overflow": null,
      "overflow_x": null,
      "overflow_y": null,
      "padding": null,
      "right": null,
      "top": null,
      "visibility": null,
      "width": null
     }
    },
    "bdd55cd904e04723b2c6dc17e7282f13": {
     "model_module": "@jupyter-widgets/base",
     "model_name": "LayoutModel",
     "state": {
      "_model_module": "@jupyter-widgets/base",
      "_model_module_version": "1.2.0",
      "_model_name": "LayoutModel",
      "_view_count": null,
      "_view_module": "@jupyter-widgets/base",
      "_view_module_version": "1.2.0",
      "_view_name": "LayoutView",
      "align_content": null,
      "align_items": null,
      "align_self": null,
      "border": null,
      "bottom": null,
      "display": null,
      "flex": null,
      "flex_flow": null,
      "grid_area": null,
      "grid_auto_columns": null,
      "grid_auto_flow": null,
      "grid_auto_rows": null,
      "grid_column": null,
      "grid_gap": null,
      "grid_row": null,
      "grid_template_areas": null,
      "grid_template_columns": null,
      "grid_template_rows": null,
      "height": null,
      "justify_content": null,
      "justify_items": null,
      "left": null,
      "margin": null,
      "max_height": null,
      "max_width": null,
      "min_height": null,
      "min_width": null,
      "object_fit": null,
      "object_position": null,
      "order": null,
      "overflow": null,
      "overflow_x": null,
      "overflow_y": null,
      "padding": null,
      "right": null,
      "top": null,
      "visibility": null,
      "width": null
     }
    },
    "c23c2c50af6a4696968ed06b6dcf0e01": {
     "model_module": "@jupyter-widgets/controls",
     "model_name": "HTMLModel",
     "state": {
      "_dom_classes": [],
      "_model_module": "@jupyter-widgets/controls",
      "_model_module_version": "1.5.0",
      "_model_name": "HTMLModel",
      "_view_count": null,
      "_view_module": "@jupyter-widgets/controls",
      "_view_module_version": "1.5.0",
      "_view_name": "HTMLView",
      "description": "",
      "description_tooltip": null,
      "layout": "IPY_MODEL_a6e11c404bae4168bf6ce0493e08cb63",
      "placeholder": "​",
      "style": "IPY_MODEL_a433b72f66e24add8d1bce056cf55783",
      "value": " 2/2 [05:20&lt;00:00, 160.40s/it]"
     }
    },
    "c34783c709994d38ab25c0a43bfe4c75": {
     "model_module": "@jupyter-widgets/base",
     "model_name": "LayoutModel",
     "state": {
      "_model_module": "@jupyter-widgets/base",
      "_model_module_version": "1.2.0",
      "_model_name": "LayoutModel",
      "_view_count": null,
      "_view_module": "@jupyter-widgets/base",
      "_view_module_version": "1.2.0",
      "_view_name": "LayoutView",
      "align_content": null,
      "align_items": null,
      "align_self": null,
      "border": null,
      "bottom": null,
      "display": null,
      "flex": null,
      "flex_flow": null,
      "grid_area": null,
      "grid_auto_columns": null,
      "grid_auto_flow": null,
      "grid_auto_rows": null,
      "grid_column": null,
      "grid_gap": null,
      "grid_row": null,
      "grid_template_areas": null,
      "grid_template_columns": null,
      "grid_template_rows": null,
      "height": null,
      "justify_content": null,
      "justify_items": null,
      "left": null,
      "margin": null,
      "max_height": null,
      "max_width": null,
      "min_height": null,
      "min_width": null,
      "object_fit": null,
      "object_position": null,
      "order": null,
      "overflow": null,
      "overflow_x": null,
      "overflow_y": null,
      "padding": null,
      "right": null,
      "top": null,
      "visibility": null,
      "width": null
     }
    },
    "c5b78750d6eb4635a04081cea0a75587": {
     "model_module": "@jupyter-widgets/controls",
     "model_name": "HTMLModel",
     "state": {
      "_dom_classes": [],
      "_model_module": "@jupyter-widgets/controls",
      "_model_module_version": "1.5.0",
      "_model_name": "HTMLModel",
      "_view_count": null,
      "_view_module": "@jupyter-widgets/controls",
      "_view_module_version": "1.5.0",
      "_view_name": "HTMLView",
      "description": "",
      "description_tooltip": null,
      "layout": "IPY_MODEL_85fd0968cd9147b08f17ab48d378e4c6",
      "placeholder": "​",
      "style": "IPY_MODEL_0c81c16a95b545e1b142fe23010d711b",
      "value": " 456k/456k [00:00&lt;00:00, 1.63MB/s]"
     }
    },
    "c8796d01ac1243c3b3b6810896fa688f": {
     "model_module": "@jupyter-widgets/controls",
     "model_name": "HBoxModel",
     "state": {
      "_dom_classes": [],
      "_model_module": "@jupyter-widgets/controls",
      "_model_module_version": "1.5.0",
      "_model_name": "HBoxModel",
      "_view_count": null,
      "_view_module": "@jupyter-widgets/controls",
      "_view_module_version": "1.5.0",
      "_view_name": "HBoxView",
      "box_style": "",
      "children": [
       "IPY_MODEL_cd6c90fc47d848958c0c695ce4d730cc",
       "IPY_MODEL_82d76ae9ba04419f9b78c47be1b60128"
      ],
      "layout": "IPY_MODEL_bba9e92aa5ee4bbaa04e2d0f6a9b5249"
     }
    },
    "c8f93a38e0f64cb6948fafdc3eb98d1b": {
     "model_module": "@jupyter-widgets/base",
     "model_name": "LayoutModel",
     "state": {
      "_model_module": "@jupyter-widgets/base",
      "_model_module_version": "1.2.0",
      "_model_name": "LayoutModel",
      "_view_count": null,
      "_view_module": "@jupyter-widgets/base",
      "_view_module_version": "1.2.0",
      "_view_name": "LayoutView",
      "align_content": null,
      "align_items": null,
      "align_self": null,
      "border": null,
      "bottom": null,
      "display": null,
      "flex": null,
      "flex_flow": null,
      "grid_area": null,
      "grid_auto_columns": null,
      "grid_auto_flow": null,
      "grid_auto_rows": null,
      "grid_column": null,
      "grid_gap": null,
      "grid_row": null,
      "grid_template_areas": null,
      "grid_template_columns": null,
      "grid_template_rows": null,
      "height": null,
      "justify_content": null,
      "justify_items": null,
      "left": null,
      "margin": null,
      "max_height": null,
      "max_width": null,
      "min_height": null,
      "min_width": null,
      "object_fit": null,
      "object_position": null,
      "order": null,
      "overflow": null,
      "overflow_x": null,
      "overflow_y": null,
      "padding": null,
      "right": null,
      "top": null,
      "visibility": null,
      "width": null
     }
    },
    "ccaed2142d6441e0abbc6b1931063d19": {
     "model_module": "@jupyter-widgets/controls",
     "model_name": "HTMLModel",
     "state": {
      "_dom_classes": [],
      "_model_module": "@jupyter-widgets/controls",
      "_model_module_version": "1.5.0",
      "_model_name": "HTMLModel",
      "_view_count": null,
      "_view_module": "@jupyter-widgets/controls",
      "_view_module_version": "1.5.0",
      "_view_name": "HTMLView",
      "description": "",
      "description_tooltip": null,
      "layout": "IPY_MODEL_aa99a05c004e4008893a447d5ed77bdc",
      "placeholder": "​",
      "style": "IPY_MODEL_6425489d73bf4f88b34ef25380ce5739",
      "value": " 48037/48037 [00:12&lt;00:00, 3766.48ex/s]"
     }
    },
    "cd6c90fc47d848958c0c695ce4d730cc": {
     "model_module": "@jupyter-widgets/controls",
     "model_name": "FloatProgressModel",
     "state": {
      "_dom_classes": [],
      "_model_module": "@jupyter-widgets/controls",
      "_model_module_version": "1.5.0",
      "_model_name": "FloatProgressModel",
      "_view_count": null,
      "_view_module": "@jupyter-widgets/controls",
      "_view_module_version": "1.5.0",
      "_view_name": "ProgressView",
      "bar_style": "success",
      "description": "Epoch: 100%",
      "description_tooltip": null,
      "layout": "IPY_MODEL_b56556e048a34fca989756b93ed620e8",
      "max": 2,
      "min": 0,
      "orientation": "horizontal",
      "style": "IPY_MODEL_56d98f41378b4f4e8cd7489cb2175058",
      "value": 2
     }
    },
    "cf73b5bacf704ac3b93d67c74df9b08b": {
     "model_module": "@jupyter-widgets/controls",
     "model_name": "HBoxModel",
     "state": {
      "_dom_classes": [],
      "_model_module": "@jupyter-widgets/controls",
      "_model_module_version": "1.5.0",
      "_model_name": "HBoxModel",
      "_view_count": null,
      "_view_module": "@jupyter-widgets/controls",
      "_view_module_version": "1.5.0",
      "_view_name": "HBoxView",
      "box_style": "",
      "children": [
       "IPY_MODEL_9095bbabaf4f4e58ad17d2f107827164",
       "IPY_MODEL_3f03b377bb084a52afe6a9d39e0461af"
      ],
      "layout": "IPY_MODEL_e0b5ccc215a14f508cbd98668f39e37f"
     }
    },
    "d11aabf58d3a4eb0873bfcb3d651c02b": {
     "model_module": "@jupyter-widgets/base",
     "model_name": "LayoutModel",
     "state": {
      "_model_module": "@jupyter-widgets/base",
      "_model_module_version": "1.2.0",
      "_model_name": "LayoutModel",
      "_view_count": null,
      "_view_module": "@jupyter-widgets/base",
      "_view_module_version": "1.2.0",
      "_view_name": "LayoutView",
      "align_content": null,
      "align_items": null,
      "align_self": null,
      "border": null,
      "bottom": null,
      "display": null,
      "flex": null,
      "flex_flow": null,
      "grid_area": null,
      "grid_auto_columns": null,
      "grid_auto_flow": null,
      "grid_auto_rows": null,
      "grid_column": null,
      "grid_gap": null,
      "grid_row": null,
      "grid_template_areas": null,
      "grid_template_columns": null,
      "grid_template_rows": null,
      "height": null,
      "justify_content": null,
      "justify_items": null,
      "left": null,
      "margin": null,
      "max_height": null,
      "max_width": null,
      "min_height": null,
      "min_width": null,
      "object_fit": null,
      "object_position": null,
      "order": null,
      "overflow": null,
      "overflow_x": null,
      "overflow_y": null,
      "padding": null,
      "right": null,
      "top": null,
      "visibility": null,
      "width": null
     }
    },
    "d126b808c3f54b2faafd4d64dab98371": {
     "model_module": "@jupyter-widgets/base",
     "model_name": "LayoutModel",
     "state": {
      "_model_module": "@jupyter-widgets/base",
      "_model_module_version": "1.2.0",
      "_model_name": "LayoutModel",
      "_view_count": null,
      "_view_module": "@jupyter-widgets/base",
      "_view_module_version": "1.2.0",
      "_view_name": "LayoutView",
      "align_content": null,
      "align_items": null,
      "align_self": null,
      "border": null,
      "bottom": null,
      "display": null,
      "flex": null,
      "flex_flow": null,
      "grid_area": null,
      "grid_auto_columns": null,
      "grid_auto_flow": null,
      "grid_auto_rows": null,
      "grid_column": null,
      "grid_gap": null,
      "grid_row": null,
      "grid_template_areas": null,
      "grid_template_columns": null,
      "grid_template_rows": null,
      "height": null,
      "justify_content": null,
      "justify_items": null,
      "left": null,
      "margin": null,
      "max_height": null,
      "max_width": null,
      "min_height": null,
      "min_width": null,
      "object_fit": null,
      "object_position": null,
      "order": null,
      "overflow": null,
      "overflow_x": null,
      "overflow_y": null,
      "padding": null,
      "right": null,
      "top": null,
      "visibility": null,
      "width": null
     }
    },
    "d3fe9001e6f04196be50cd12dfc58b75": {
     "model_module": "@jupyter-widgets/base",
     "model_name": "LayoutModel",
     "state": {
      "_model_module": "@jupyter-widgets/base",
      "_model_module_version": "1.2.0",
      "_model_name": "LayoutModel",
      "_view_count": null,
      "_view_module": "@jupyter-widgets/base",
      "_view_module_version": "1.2.0",
      "_view_name": "LayoutView",
      "align_content": null,
      "align_items": null,
      "align_self": null,
      "border": null,
      "bottom": null,
      "display": null,
      "flex": null,
      "flex_flow": null,
      "grid_area": null,
      "grid_auto_columns": null,
      "grid_auto_flow": null,
      "grid_auto_rows": null,
      "grid_column": null,
      "grid_gap": null,
      "grid_row": null,
      "grid_template_areas": null,
      "grid_template_columns": null,
      "grid_template_rows": null,
      "height": null,
      "justify_content": null,
      "justify_items": null,
      "left": null,
      "margin": null,
      "max_height": null,
      "max_width": null,
      "min_height": null,
      "min_width": null,
      "object_fit": null,
      "object_position": null,
      "order": null,
      "overflow": null,
      "overflow_x": null,
      "overflow_y": null,
      "padding": null,
      "right": null,
      "top": null,
      "visibility": null,
      "width": null
     }
    },
    "d65c2a0991a84eadb11db93c427d9924": {
     "model_module": "@jupyter-widgets/base",
     "model_name": "LayoutModel",
     "state": {
      "_model_module": "@jupyter-widgets/base",
      "_model_module_version": "1.2.0",
      "_model_name": "LayoutModel",
      "_view_count": null,
      "_view_module": "@jupyter-widgets/base",
      "_view_module_version": "1.2.0",
      "_view_name": "LayoutView",
      "align_content": null,
      "align_items": null,
      "align_self": null,
      "border": null,
      "bottom": null,
      "display": null,
      "flex": null,
      "flex_flow": null,
      "grid_area": null,
      "grid_auto_columns": null,
      "grid_auto_flow": null,
      "grid_auto_rows": null,
      "grid_column": null,
      "grid_gap": null,
      "grid_row": null,
      "grid_template_areas": null,
      "grid_template_columns": null,
      "grid_template_rows": null,
      "height": null,
      "justify_content": null,
      "justify_items": null,
      "left": null,
      "margin": null,
      "max_height": null,
      "max_width": null,
      "min_height": null,
      "min_width": null,
      "object_fit": null,
      "object_position": null,
      "order": null,
      "overflow": null,
      "overflow_x": null,
      "overflow_y": null,
      "padding": null,
      "right": null,
      "top": null,
      "visibility": null,
      "width": null
     }
    },
    "dd13408ab45a440c98766a0c4677cb82": {
     "model_module": "@jupyter-widgets/base",
     "model_name": "LayoutModel",
     "state": {
      "_model_module": "@jupyter-widgets/base",
      "_model_module_version": "1.2.0",
      "_model_name": "LayoutModel",
      "_view_count": null,
      "_view_module": "@jupyter-widgets/base",
      "_view_module_version": "1.2.0",
      "_view_name": "LayoutView",
      "align_content": null,
      "align_items": null,
      "align_self": null,
      "border": null,
      "bottom": null,
      "display": null,
      "flex": null,
      "flex_flow": null,
      "grid_area": null,
      "grid_auto_columns": null,
      "grid_auto_flow": null,
      "grid_auto_rows": null,
      "grid_column": null,
      "grid_gap": null,
      "grid_row": null,
      "grid_template_areas": null,
      "grid_template_columns": null,
      "grid_template_rows": null,
      "height": null,
      "justify_content": null,
      "justify_items": null,
      "left": null,
      "margin": null,
      "max_height": null,
      "max_width": null,
      "min_height": null,
      "min_width": null,
      "object_fit": null,
      "object_position": null,
      "order": null,
      "overflow": null,
      "overflow_x": null,
      "overflow_y": null,
      "padding": null,
      "right": null,
      "top": null,
      "visibility": null,
      "width": null
     }
    },
    "df4485f7087d4d1f9499dcbd9f7dc100": {
     "model_module": "@jupyter-widgets/controls",
     "model_name": "ProgressStyleModel",
     "state": {
      "_model_module": "@jupyter-widgets/controls",
      "_model_module_version": "1.5.0",
      "_model_name": "ProgressStyleModel",
      "_view_count": null,
      "_view_module": "@jupyter-widgets/base",
      "_view_module_version": "1.2.0",
      "_view_name": "StyleView",
      "bar_color": null,
      "description_width": "initial"
     }
    },
    "e0b5ccc215a14f508cbd98668f39e37f": {
     "model_module": "@jupyter-widgets/base",
     "model_name": "LayoutModel",
     "state": {
      "_model_module": "@jupyter-widgets/base",
      "_model_module_version": "1.2.0",
      "_model_name": "LayoutModel",
      "_view_count": null,
      "_view_module": "@jupyter-widgets/base",
      "_view_module_version": "1.2.0",
      "_view_name": "LayoutView",
      "align_content": null,
      "align_items": null,
      "align_self": null,
      "border": null,
      "bottom": null,
      "display": null,
      "flex": null,
      "flex_flow": null,
      "grid_area": null,
      "grid_auto_columns": null,
      "grid_auto_flow": null,
      "grid_auto_rows": null,
      "grid_column": null,
      "grid_gap": null,
      "grid_row": null,
      "grid_template_areas": null,
      "grid_template_columns": null,
      "grid_template_rows": null,
      "height": null,
      "justify_content": null,
      "justify_items": null,
      "left": null,
      "margin": null,
      "max_height": null,
      "max_width": null,
      "min_height": null,
      "min_width": null,
      "object_fit": null,
      "object_position": null,
      "order": null,
      "overflow": null,
      "overflow_x": null,
      "overflow_y": null,
      "padding": null,
      "right": null,
      "top": null,
      "visibility": null,
      "width": null
     }
    },
    "e1416c9a2b3d4320b9dff6ee3757fd51": {
     "model_module": "@jupyter-widgets/controls",
     "model_name": "DescriptionStyleModel",
     "state": {
      "_model_module": "@jupyter-widgets/controls",
      "_model_module_version": "1.5.0",
      "_model_name": "DescriptionStyleModel",
      "_view_count": null,
      "_view_module": "@jupyter-widgets/base",
      "_view_module_version": "1.2.0",
      "_view_name": "StyleView",
      "description_width": ""
     }
    },
    "e2e39ae28c8c49b2a2204c9554b0f339": {
     "model_module": "@jupyter-widgets/base",
     "model_name": "LayoutModel",
     "state": {
      "_model_module": "@jupyter-widgets/base",
      "_model_module_version": "1.2.0",
      "_model_name": "LayoutModel",
      "_view_count": null,
      "_view_module": "@jupyter-widgets/base",
      "_view_module_version": "1.2.0",
      "_view_name": "LayoutView",
      "align_content": null,
      "align_items": null,
      "align_self": null,
      "border": null,
      "bottom": null,
      "display": null,
      "flex": null,
      "flex_flow": null,
      "grid_area": null,
      "grid_auto_columns": null,
      "grid_auto_flow": null,
      "grid_auto_rows": null,
      "grid_column": null,
      "grid_gap": null,
      "grid_row": null,
      "grid_template_areas": null,
      "grid_template_columns": null,
      "grid_template_rows": null,
      "height": null,
      "justify_content": null,
      "justify_items": null,
      "left": null,
      "margin": null,
      "max_height": null,
      "max_width": null,
      "min_height": null,
      "min_width": null,
      "object_fit": null,
      "object_position": null,
      "order": null,
      "overflow": null,
      "overflow_x": null,
      "overflow_y": null,
      "padding": null,
      "right": null,
      "top": null,
      "visibility": null,
      "width": null
     }
    },
    "e33cf377d13549518e3b356ea9102c25": {
     "model_module": "@jupyter-widgets/controls",
     "model_name": "HBoxModel",
     "state": {
      "_dom_classes": [],
      "_model_module": "@jupyter-widgets/controls",
      "_model_module_version": "1.5.0",
      "_model_name": "HBoxModel",
      "_view_count": null,
      "_view_module": "@jupyter-widgets/controls",
      "_view_module_version": "1.5.0",
      "_view_name": "HBoxView",
      "box_style": "",
      "children": [
       "IPY_MODEL_ad0911a5b949402d91bfd4ff34d9b1bf",
       "IPY_MODEL_9810049a656d46e3ac64be1f343d0f0b"
      ],
      "layout": "IPY_MODEL_aa4f205cfcef457092412c4a4ba2458a"
     }
    },
    "e6c2040b056a427b879f28f6d1063818": {
     "model_module": "@jupyter-widgets/controls",
     "model_name": "HTMLModel",
     "state": {
      "_dom_classes": [],
      "_model_module": "@jupyter-widgets/controls",
      "_model_module_version": "1.5.0",
      "_model_name": "HTMLModel",
      "_view_count": null,
      "_view_module": "@jupyter-widgets/controls",
      "_view_module_version": "1.5.0",
      "_view_name": "HTMLView",
      "description": "",
      "description_tooltip": null,
      "layout": "IPY_MODEL_ff3c25f503f24bc59075ca373e56f28a",
      "placeholder": "​",
      "style": "IPY_MODEL_6f455c0486064c268bf20136757faa3d",
      "value": " 1.36M/1.36M [00:00&lt;00:00, 8.70MB/s]"
     }
    },
    "eb13487f711f49a1b089f31dc9f6f690": {
     "model_module": "@jupyter-widgets/base",
     "model_name": "LayoutModel",
     "state": {
      "_model_module": "@jupyter-widgets/base",
      "_model_module_version": "1.2.0",
      "_model_name": "LayoutModel",
      "_view_count": null,
      "_view_module": "@jupyter-widgets/base",
      "_view_module_version": "1.2.0",
      "_view_name": "LayoutView",
      "align_content": null,
      "align_items": null,
      "align_self": null,
      "border": null,
      "bottom": null,
      "display": null,
      "flex": null,
      "flex_flow": null,
      "grid_area": null,
      "grid_auto_columns": null,
      "grid_auto_flow": null,
      "grid_auto_rows": null,
      "grid_column": null,
      "grid_gap": null,
      "grid_row": null,
      "grid_template_areas": null,
      "grid_template_columns": null,
      "grid_template_rows": null,
      "height": null,
      "justify_content": null,
      "justify_items": null,
      "left": null,
      "margin": null,
      "max_height": null,
      "max_width": null,
      "min_height": null,
      "min_width": null,
      "object_fit": null,
      "object_position": null,
      "order": null,
      "overflow": null,
      "overflow_x": null,
      "overflow_y": null,
      "padding": null,
      "right": null,
      "top": null,
      "visibility": null,
      "width": null
     }
    },
    "edb52d9428e2435a953cfda948a609ff": {
     "model_module": "@jupyter-widgets/base",
     "model_name": "LayoutModel",
     "state": {
      "_model_module": "@jupyter-widgets/base",
      "_model_module_version": "1.2.0",
      "_model_name": "LayoutModel",
      "_view_count": null,
      "_view_module": "@jupyter-widgets/base",
      "_view_module_version": "1.2.0",
      "_view_name": "LayoutView",
      "align_content": null,
      "align_items": null,
      "align_self": null,
      "border": null,
      "bottom": null,
      "display": null,
      "flex": null,
      "flex_flow": null,
      "grid_area": null,
      "grid_auto_columns": null,
      "grid_auto_flow": null,
      "grid_auto_rows": null,
      "grid_column": null,
      "grid_gap": null,
      "grid_row": null,
      "grid_template_areas": null,
      "grid_template_columns": null,
      "grid_template_rows": null,
      "height": null,
      "justify_content": null,
      "justify_items": null,
      "left": null,
      "margin": null,
      "max_height": null,
      "max_width": null,
      "min_height": null,
      "min_width": null,
      "object_fit": null,
      "object_position": null,
      "order": null,
      "overflow": null,
      "overflow_x": null,
      "overflow_y": null,
      "padding": null,
      "right": null,
      "top": null,
      "visibility": null,
      "width": null
     }
    },
    "edf67fffc7234b98af520c3e48dfc3e3": {
     "model_module": "@jupyter-widgets/controls",
     "model_name": "ProgressStyleModel",
     "state": {
      "_model_module": "@jupyter-widgets/controls",
      "_model_module_version": "1.5.0",
      "_model_name": "ProgressStyleModel",
      "_view_count": null,
      "_view_module": "@jupyter-widgets/base",
      "_view_module_version": "1.2.0",
      "_view_name": "StyleView",
      "bar_color": null,
      "description_width": "initial"
     }
    },
    "ef01a85b83ee4b948f37940ced5a1725": {
     "model_module": "@jupyter-widgets/controls",
     "model_name": "ProgressStyleModel",
     "state": {
      "_model_module": "@jupyter-widgets/controls",
      "_model_module_version": "1.5.0",
      "_model_name": "ProgressStyleModel",
      "_view_count": null,
      "_view_module": "@jupyter-widgets/base",
      "_view_module_version": "1.2.0",
      "_view_name": "StyleView",
      "bar_color": null,
      "description_width": "initial"
     }
    },
    "f2f911b367b14390bed55be348f105f8": {
     "model_module": "@jupyter-widgets/controls",
     "model_name": "HBoxModel",
     "state": {
      "_dom_classes": [],
      "_model_module": "@jupyter-widgets/controls",
      "_model_module_version": "1.5.0",
      "_model_name": "HBoxModel",
      "_view_count": null,
      "_view_module": "@jupyter-widgets/controls",
      "_view_module_version": "1.5.0",
      "_view_name": "HBoxView",
      "box_style": "",
      "children": [
       "IPY_MODEL_11609bcd0a424dcfb66a60d633f811d6",
       "IPY_MODEL_2b10dba0b4de4a52abb69e43e35c7e41"
      ],
      "layout": "IPY_MODEL_8fca6f9c0c69405bb51f7db56b61f0a3"
     }
    },
    "f49565e4136c47a98399f7eeb9cc0ed4": {
     "model_module": "@jupyter-widgets/base",
     "model_name": "LayoutModel",
     "state": {
      "_model_module": "@jupyter-widgets/base",
      "_model_module_version": "1.2.0",
      "_model_name": "LayoutModel",
      "_view_count": null,
      "_view_module": "@jupyter-widgets/base",
      "_view_module_version": "1.2.0",
      "_view_name": "LayoutView",
      "align_content": null,
      "align_items": null,
      "align_self": null,
      "border": null,
      "bottom": null,
      "display": null,
      "flex": null,
      "flex_flow": null,
      "grid_area": null,
      "grid_auto_columns": null,
      "grid_auto_flow": null,
      "grid_auto_rows": null,
      "grid_column": null,
      "grid_gap": null,
      "grid_row": null,
      "grid_template_areas": null,
      "grid_template_columns": null,
      "grid_template_rows": null,
      "height": null,
      "justify_content": null,
      "justify_items": null,
      "left": null,
      "margin": null,
      "max_height": null,
      "max_width": null,
      "min_height": null,
      "min_width": null,
      "object_fit": null,
      "object_position": null,
      "order": null,
      "overflow": null,
      "overflow_x": null,
      "overflow_y": null,
      "padding": null,
      "right": null,
      "top": null,
      "visibility": null,
      "width": null
     }
    },
    "f634169ca7e84bfd9b9d853d0afdf81f": {
     "model_module": "@jupyter-widgets/base",
     "model_name": "LayoutModel",
     "state": {
      "_model_module": "@jupyter-widgets/base",
      "_model_module_version": "1.2.0",
      "_model_name": "LayoutModel",
      "_view_count": null,
      "_view_module": "@jupyter-widgets/base",
      "_view_module_version": "1.2.0",
      "_view_name": "LayoutView",
      "align_content": null,
      "align_items": null,
      "align_self": null,
      "border": null,
      "bottom": null,
      "display": null,
      "flex": null,
      "flex_flow": null,
      "grid_area": null,
      "grid_auto_columns": null,
      "grid_auto_flow": null,
      "grid_auto_rows": null,
      "grid_column": null,
      "grid_gap": null,
      "grid_row": null,
      "grid_template_areas": null,
      "grid_template_columns": null,
      "grid_template_rows": null,
      "height": null,
      "justify_content": null,
      "justify_items": null,
      "left": null,
      "margin": null,
      "max_height": null,
      "max_width": null,
      "min_height": null,
      "min_width": null,
      "object_fit": null,
      "object_position": null,
      "order": null,
      "overflow": null,
      "overflow_x": null,
      "overflow_y": null,
      "padding": null,
      "right": null,
      "top": null,
      "visibility": null,
      "width": null
     }
    },
    "f758260b13654115a2c493c8a12e459b": {
     "model_module": "@jupyter-widgets/base",
     "model_name": "LayoutModel",
     "state": {
      "_model_module": "@jupyter-widgets/base",
      "_model_module_version": "1.2.0",
      "_model_name": "LayoutModel",
      "_view_count": null,
      "_view_module": "@jupyter-widgets/base",
      "_view_module_version": "1.2.0",
      "_view_name": "LayoutView",
      "align_content": null,
      "align_items": null,
      "align_self": null,
      "border": null,
      "bottom": null,
      "display": null,
      "flex": null,
      "flex_flow": null,
      "grid_area": null,
      "grid_auto_columns": null,
      "grid_auto_flow": null,
      "grid_auto_rows": null,
      "grid_column": null,
      "grid_gap": null,
      "grid_row": null,
      "grid_template_areas": null,
      "grid_template_columns": null,
      "grid_template_rows": null,
      "height": null,
      "justify_content": null,
      "justify_items": null,
      "left": null,
      "margin": null,
      "max_height": null,
      "max_width": null,
      "min_height": null,
      "min_width": null,
      "object_fit": null,
      "object_position": null,
      "order": null,
      "overflow": null,
      "overflow_x": null,
      "overflow_y": null,
      "padding": null,
      "right": null,
      "top": null,
      "visibility": null,
      "width": null
     }
    },
    "f7a8db4fe0074ff0a38ff4682c01dfbe": {
     "model_module": "@jupyter-widgets/base",
     "model_name": "LayoutModel",
     "state": {
      "_model_module": "@jupyter-widgets/base",
      "_model_module_version": "1.2.0",
      "_model_name": "LayoutModel",
      "_view_count": null,
      "_view_module": "@jupyter-widgets/base",
      "_view_module_version": "1.2.0",
      "_view_name": "LayoutView",
      "align_content": null,
      "align_items": null,
      "align_self": null,
      "border": null,
      "bottom": null,
      "display": null,
      "flex": null,
      "flex_flow": null,
      "grid_area": null,
      "grid_auto_columns": null,
      "grid_auto_flow": null,
      "grid_auto_rows": null,
      "grid_column": null,
      "grid_gap": null,
      "grid_row": null,
      "grid_template_areas": null,
      "grid_template_columns": null,
      "grid_template_rows": null,
      "height": null,
      "justify_content": null,
      "justify_items": null,
      "left": null,
      "margin": null,
      "max_height": null,
      "max_width": null,
      "min_height": null,
      "min_width": null,
      "object_fit": null,
      "object_position": null,
      "order": null,
      "overflow": null,
      "overflow_x": null,
      "overflow_y": null,
      "padding": null,
      "right": null,
      "top": null,
      "visibility": null,
      "width": null
     }
    },
    "f970d54f9a2647409a4b96e843c54353": {
     "model_module": "@jupyter-widgets/controls",
     "model_name": "DescriptionStyleModel",
     "state": {
      "_model_module": "@jupyter-widgets/controls",
      "_model_module_version": "1.5.0",
      "_model_name": "DescriptionStyleModel",
      "_view_count": null,
      "_view_module": "@jupyter-widgets/base",
      "_view_module_version": "1.2.0",
      "_view_name": "StyleView",
      "description_width": ""
     }
    },
    "ff3c25f503f24bc59075ca373e56f28a": {
     "model_module": "@jupyter-widgets/base",
     "model_name": "LayoutModel",
     "state": {
      "_model_module": "@jupyter-widgets/base",
      "_model_module_version": "1.2.0",
      "_model_name": "LayoutModel",
      "_view_count": null,
      "_view_module": "@jupyter-widgets/base",
      "_view_module_version": "1.2.0",
      "_view_name": "LayoutView",
      "align_content": null,
      "align_items": null,
      "align_self": null,
      "border": null,
      "bottom": null,
      "display": null,
      "flex": null,
      "flex_flow": null,
      "grid_area": null,
      "grid_auto_columns": null,
      "grid_auto_flow": null,
      "grid_auto_rows": null,
      "grid_column": null,
      "grid_gap": null,
      "grid_row": null,
      "grid_template_areas": null,
      "grid_template_columns": null,
      "grid_template_rows": null,
      "height": null,
      "justify_content": null,
      "justify_items": null,
      "left": null,
      "margin": null,
      "max_height": null,
      "max_width": null,
      "min_height": null,
      "min_width": null,
      "object_fit": null,
      "object_position": null,
      "order": null,
      "overflow": null,
      "overflow_x": null,
      "overflow_y": null,
      "padding": null,
      "right": null,
      "top": null,
      "visibility": null,
      "width": null
     }
    }
   }
  }
 },
 "nbformat": 4,
 "nbformat_minor": 4
}
