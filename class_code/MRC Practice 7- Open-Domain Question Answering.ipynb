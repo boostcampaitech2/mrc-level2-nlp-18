{
 "cells": [
  {
   "cell_type": "markdown",
   "metadata": {
    "id": "Ou0v1BGS_pGk"
   },
   "source": [
    "# 7강) 지금까지 배운 내용을 토대로 Open-Domain Question Answering(ODQA) 시스템 구축해보기"
   ]
  },
  {
   "cell_type": "markdown",
   "metadata": {
    "id": "Oe6Vg1o8_xOG"
   },
   "source": [
    "## Requirements"
   ]
  },
  {
   "cell_type": "code",
   "execution_count": null,
   "metadata": {
    "id": "fV8Myy5S_Z9l"
   },
   "outputs": [],
   "source": [
    "!pip install datasets==1.4.1 > /dev/null 2>&1 # execute command in silence\n",
    "!pip install transformers==4.4.1 > /dev/null 2>&1\n",
    "!pip install tqdm==4.41.1 > /dev/null 2>&1"
   ]
  },
  {
   "cell_type": "code",
   "execution_count": null,
   "metadata": {
    "id": "FqZuBJ17RQxL"
   },
   "outputs": [],
   "source": [
    "import random\n",
    "import numpy as np\n",
    "from pprint import pprint\n",
    "\n",
    "from datasets import load_dataset, load_metric\n",
    "from sklearn.feature_extraction.text import TfidfVectorizer"
   ]
  },
  {
   "cell_type": "markdown",
   "metadata": {
    "id": "qeBIVz7u_9ZS"
   },
   "source": [
    "## 데이터 및 평가지표 불러오기"
   ]
  },
  {
   "cell_type": "code",
   "execution_count": null,
   "metadata": {
    "colab": {
     "base_uri": "https://localhost:8080/"
    },
    "executionInfo": {
     "elapsed": 9653,
     "status": "ok",
     "timestamp": 1616978269106,
     "user": {
      "displayName": "JinUk Cho",
      "photoUrl": "",
      "userId": "10000090644219567406"
     },
     "user_tz": -540
    },
    "id": "OTTSyjQ0__bC",
    "outputId": "ba75b1cf-ff0e-4ad6-c18e-e04df5bd16d2"
   },
   "outputs": [
    {
     "name": "stderr",
     "output_type": "stream",
     "text": [
      "Reusing dataset squad_kor_v1 (/root/.cache/huggingface/datasets/squad_kor_v1/squad_kor_v1/1.0.0/31982418accc53b059af090befa81e68880acc667ca5405d30ce6fa7910950a7)\n"
     ]
    }
   ],
   "source": [
    "dataset = load_dataset(\"squad_kor_v1\")\n",
    "# metric = load_metric('squad')"
   ]
  },
  {
   "cell_type": "markdown",
   "metadata": {
    "id": "BwCEvozVHJx1"
   },
   "source": [
    "## Sparse retriever 가져오기"
   ]
  },
  {
   "cell_type": "code",
   "execution_count": null,
   "metadata": {
    "id": "__M_YndwHPZY"
   },
   "outputs": [],
   "source": [
    "corpus = list(set([example['context'] for example in dataset['train']])) \n",
    "corpus.extend(list(set([example['context'] for example in dataset['validation']])))\n",
    "tokenizer_func = lambda x: x.split(' ')\n",
    "\n",
    "vectorizer = TfidfVectorizer(tokenizer=tokenizer_func, ngram_range=(1,2))\n",
    "sp_matrix = vectorizer.fit_transform(corpus)"
   ]
  },
  {
   "cell_type": "code",
   "execution_count": null,
   "metadata": {
    "id": "6ffj46R5IfTi"
   },
   "outputs": [],
   "source": [
    "def get_relevant_doc(vectorizer, query, k=1):\n",
    "    \"\"\"\n",
    "    참고: vocab 에 없는 이상한 단어로 query 하는 경우 assertion 발생 (예) 뙣뙇?\n",
    "    \"\"\"\n",
    "    query_vec = vectorizer.transform([query])\n",
    "    assert np.sum(query_vec) != 0, \"오류가 발생했습니다. 이 오류는 보통 query에 vectorizer의 vocab에 없는 단어만 존재하는 경우 발생합니다.\"\n",
    "    result = query_vec * sp_matrix.T\n",
    "    sorted_result = np.argsort(-result.data)\n",
    "    doc_scores = result.data[sorted_result]\n",
    "    doc_ids = result.indices[sorted_result]\n",
    "    return doc_scores[:k], doc_ids[:k]"
   ]
  },
  {
   "cell_type": "markdown",
   "metadata": {
    "id": "H3bltBt1JAty"
   },
   "source": [
    "테스트해보기 \n",
    "- 사용자 입력해서 어떤 문서가 나오는지 확인\n",
    "- sample_idx 의 경우 4강에서 이미 진행"
   ]
  },
  {
   "cell_type": "code",
   "execution_count": null,
   "metadata": {
    "colab": {
     "base_uri": "https://localhost:8080/"
    },
    "executionInfo": {
     "elapsed": 289642,
     "status": "ok",
     "timestamp": 1616978549103,
     "user": {
      "displayName": "JinUk Cho",
      "photoUrl": "",
      "userId": "10000090644219567406"
     },
     "user_tz": -540
    },
    "id": "9hsRe_8XI9fr",
    "outputId": "950caea3-ef3f-43cd-b29e-4f317834c3cf"
   },
   "outputs": [
    {
     "name": "stdout",
     "output_type": "stream",
     "text": [
      "Enter any question: 미국의 대통령은 누구인가?\n",
      "******************** Result ********************\n",
      "[Search query]\n",
      " 미국의 대통령은 누구인가? \n",
      "\n",
      "[Relevant Doc ID(Top 1 passage)]: 1489\n",
      "영국과 미국의 관계는 대략 400년 정도 소급된다. 1607년 영국은 \"제임스타운\"이라고 명명된 북미 대륙 최초의 상주 식민지를 세우기 시작하였고, 오늘날 영국과 미국은 가까운 군사적 동맹체다. 양국은 문화적으로 유사할 뿐만 아니라 군사적 연구와 정보 기구를 공유한다. 영국은 미국으로부터 토마호크 미사일이나 트라이던트 미사일과 같은 무기를 구입했고 미국은 영국으로부터 해리어(Harrier)와 같은 장비를 구매했다. 또한 영국에 대규모 군대를 주둔하고 있다. 최근 영국의 총리와 미국의 대통령은 매우 친밀한 모습을 보여주었다. 가령 토니 블레어와 빌 클린턴 및 이후 조지 W. 부시 대통령 간의 관계, 1980년대 마거릿 대처와 로널드 레이건 등의 관계가 그러하다. 현재 영국의 정책은 혈맹 미국과의 관계는 영국의 \"가장 중요한 2자간 관계\"임을 표명한다.\n"
     ]
    }
   ],
   "source": [
    "\"\"\" 1. 정답이 있는 데이터셋으로 검색해보기 \"\"\" \n",
    "# random.seed(1)\n",
    "# sample_idx = random.choice(range(len(dataset['train'])))\n",
    "# query = dataset['train'][sample_idx]['question']\n",
    "# ground_truth = dataset['train'][sample_idx]['context']\n",
    "# answer = dataset['train'][sample_idx]['answers']\n",
    "\n",
    "\"\"\" 2. 원하는 질문을 입력해보기 \"\"\"\n",
    "query = input(\"Enter any question: \") # \"미국의 대통령은 누구인가?\"\n",
    "# query = \"미국의 대통령은 누구인가?\"\n",
    "_, doc_id = get_relevant_doc(vectorizer, query, k=1)\n",
    "\n",
    "\"\"\" 결과 확인 \"\"\"\n",
    "print(\"{} {} {}\".format('*'*20, 'Result','*'*20))\n",
    "print(\"[Search query]\\n\", query, \"\\n\")\n",
    "print(f\"[Relevant Doc ID(Top 1 passage)]: {doc_id.item()}\")\n",
    "print(corpus[doc_id.item()])\n",
    "# print(answer)"
   ]
  },
  {
   "cell_type": "markdown",
   "metadata": {
    "id": "l3FrW6GVHEeg"
   },
   "source": [
    "## 훈련된 MRC 모델 가져오기\n"
   ]
  },
  {
   "cell_type": "code",
   "execution_count": null,
   "metadata": {
    "id": "QL6aQ9GcyA4z"
   },
   "outputs": [],
   "source": [
    "import torch\n",
    "from transformers import (\n",
    "    AutoConfig,\n",
    "    AutoModelForQuestionAnswering,\n",
    "    AutoTokenizer\n",
    ")"
   ]
  },
  {
   "cell_type": "code",
   "execution_count": null,
   "metadata": {
    "id": "ZlNS4TDkXL-W"
   },
   "outputs": [],
   "source": [
    "model_name = 'sangrimlee/bert-base-multilingual-cased-korquad'\n",
    "mrc_model = AutoModelForQuestionAnswering.from_pretrained(model_name)\n",
    "tokenizer = AutoTokenizer.from_pretrained(\n",
    "    model_name,\n",
    "    use_fast=True\n",
    ")\n",
    "mrc_model = mrc_model.eval()"
   ]
  },
  {
   "cell_type": "code",
   "execution_count": null,
   "metadata": {
    "id": "0WSEJ5YzyTUM"
   },
   "outputs": [],
   "source": [
    "def get_answer_from_context(context, question, model, tokenizer):\n",
    "    encoded_dict = tokenizer.encode_plus(  \n",
    "        question,\n",
    "        context,\n",
    "        truncation=True,\n",
    "        padding=\"max_length\",\n",
    "        max_length=512,\n",
    "    )\n",
    "    non_padded_ids = encoded_dict[\"input_ids\"][: encoded_dict[\"input_ids\"].index(tokenizer.pad_token_id)]\n",
    "    full_text = tokenizer.decode(non_padded_ids)\n",
    "    inputs = {\n",
    "    'input_ids': torch.tensor([encoded_dict['input_ids']], dtype=torch.long),\n",
    "    'attention_mask': torch.tensor([encoded_dict['attention_mask']], dtype=torch.long),\n",
    "    'token_type_ids': torch.tensor([encoded_dict['token_type_ids']], dtype=torch.long)\n",
    "    }\n",
    "\n",
    "    outputs = model(**inputs)\n",
    "    start, end = torch.max(outputs.start_logits, axis=1).indices.item(), torch.max(outputs.end_logits, axis=1).indices.item()\n",
    "    answer = tokenizer.decode(encoded_dict['input_ids'][start:end+1])\n",
    "    return answer"
   ]
  },
  {
   "cell_type": "code",
   "execution_count": null,
   "metadata": {
    "colab": {
     "base_uri": "https://localhost:8080/"
    },
    "executionInfo": {
     "elapsed": 11444,
     "status": "ok",
     "timestamp": 1616986723762,
     "user": {
      "displayName": "JinUk Cho",
      "photoUrl": "",
      "userId": "10000090644219567406"
     },
     "user_tz": -540
    },
    "id": "ytJW9Ircmini",
    "outputId": "fd610e26-7052-4919-b383-e53e5c0071cf"
   },
   "outputs": [
    {
     "name": "stdout",
     "output_type": "stream",
     "text": [
      "******************** Result ********************\n",
      "[Search query]\n",
      " 미국의 대통령은 누구인가? \n",
      "\n",
      "[Relevant Doc ID(Top 1 passage)]: 1489\n",
      "('영국과 미국의 관계는 대략 400년 정도 소급된다. 1607년 영국은 \"제임스타운\"이라고 명명된 북미 대륙 최초의 상주 식민지를 세우기 '\n",
      " '시작하였고, 오늘날 영국과 미국은 가까운 군사적 동맹체다. 양국은 문화적으로 유사할 뿐만 아니라 군사적 연구와 정보 기구를 공유한다. '\n",
      " '영국은 미국으로부터 토마호크 미사일이나 트라이던트 미사일과 같은 무기를 구입했고 미국은 영국으로부터 해리어(Harrier)와 같은 장비를 '\n",
      " '구매했다. 또한 영국에 대규모 군대를 주둔하고 있다. 최근 영국의 총리와 미국의 대통령은 매우 친밀한 모습을 보여주었다. 가령 토니 '\n",
      " '블레어와 빌 클린턴 및 이후 조지 W. 부시 대통령 간의 관계, 1980년대 마거릿 대처와 로널드 레이건 등의 관계가 그러하다. 현재 '\n",
      " '영국의 정책은 혈맹 미국과의 관계는 영국의 \"가장 중요한 2자간 관계\"임을 표명한다.')\n",
      "[Answer Prediction from the model]: 조지 W. 부시\n"
     ]
    }
   ],
   "source": [
    "context = corpus[doc_id.item()]\n",
    "answer = get_answer_from_context(context, query, mrc_model, tokenizer)\n",
    "print(\"{} {} {}\".format('*'*20, 'Result','*'*20))\n",
    "print(\"[Search query]\\n\", query, \"\\n\")\n",
    "print(f\"[Relevant Doc ID(Top 1 passage)]: {doc_id.item()}\")\n",
    "pprint(corpus[doc_id.item()], compact=True)\n",
    "print(f\"[Answer Prediction from the model]: {answer}\")"
   ]
  },
  {
   "cell_type": "markdown",
   "metadata": {
    "id": "6xSwlua1SrSE"
   },
   "source": [
    "## 통합해서 ODQA 시스템 구축"
   ]
  },
  {
   "cell_type": "code",
   "execution_count": null,
   "metadata": {
    "id": "fWaNaJcCShmr"
   },
   "outputs": [],
   "source": [
    "def open_domain_qa(query, corpus, vectorizer, model, tokenizer, k=1):\n",
    "    # 1. Retrieve k relevant docs by usign sparse matrix\n",
    "    _, doc_id = get_relevant_doc(vectorizer, query, k=1)\n",
    "    context = corpus[doc_id.item()]\n",
    "\n",
    "    # 2. Predict answer from given doc by using MRC model\n",
    "    answer = get_answer_from_context(context, query, mrc_model, tokenizer)\n",
    "    print(\"{} {} {}\".format('*'*20, 'Result','*'*20))\n",
    "    print(\"[Search query]\\n\", query, \"\\n\")\n",
    "    print(f\"[Relevant Doc ID(Top 1 passage)]: {doc_id.item()}\")\n",
    "    pprint(corpus[doc_id.item()], compact=True)\n",
    "    print(f\"[Answer Prediction from the model]: {answer}\")"
   ]
  },
  {
   "cell_type": "code",
   "execution_count": null,
   "metadata": {
    "colab": {
     "base_uri": "https://localhost:8080/"
    },
    "executionInfo": {
     "elapsed": 306231,
     "status": "ok",
     "timestamp": 1616978565710,
     "user": {
      "displayName": "JinUk Cho",
      "photoUrl": "",
      "userId": "10000090644219567406"
     },
     "user_tz": -540
    },
    "id": "SSApAgEySeH6",
    "outputId": "b74b1232-778c-4dfa-e7ed-bfddf71f8dff"
   },
   "outputs": [
    {
     "name": "stdout",
     "output_type": "stream",
     "text": [
      "Enter any question: 미국의 대통령은 누구인가?\n",
      "******************** Result ********************\n",
      "[Search query]\n",
      " 미국의 대통령은 누구인가? \n",
      "\n",
      "[Relevant Doc ID(Top 1 passage)]: 1489\n",
      "('영국과 미국의 관계는 대략 400년 정도 소급된다. 1607년 영국은 \"제임스타운\"이라고 명명된 북미 대륙 최초의 상주 식민지를 세우기 '\n",
      " '시작하였고, 오늘날 영국과 미국은 가까운 군사적 동맹체다. 양국은 문화적으로 유사할 뿐만 아니라 군사적 연구와 정보 기구를 공유한다. '\n",
      " '영국은 미국으로부터 토마호크 미사일이나 트라이던트 미사일과 같은 무기를 구입했고 미국은 영국으로부터 해리어(Harrier)와 같은 장비를 '\n",
      " '구매했다. 또한 영국에 대규모 군대를 주둔하고 있다. 최근 영국의 총리와 미국의 대통령은 매우 친밀한 모습을 보여주었다. 가령 토니 '\n",
      " '블레어와 빌 클린턴 및 이후 조지 W. 부시 대통령 간의 관계, 1980년대 마거릿 대처와 로널드 레이건 등의 관계가 그러하다. 현재 '\n",
      " '영국의 정책은 혈맹 미국과의 관계는 영국의 \"가장 중요한 2자간 관계\"임을 표명한다.')\n",
      "[Answer Prediction from the model]: 조지 W. 부시\n"
     ]
    }
   ],
   "source": [
    "query = input(\"Enter any question: \") # \"미국의 대통령은 누구인가?\"\n",
    "open_domain_qa(query, corpus, vectorizer, mrc_model, tokenizer, k=1)"
   ]
  }
 ],
 "metadata": {
  "colab": {
   "authorship_tag": "ABX9TyOYIqLa2qIyJ9BIQPdOI3xY",
   "name": "MRC Practice 7- Open-Domain Question Answering.ipynb",
   "provenance": []
  },
  "kernelspec": {
   "display_name": "Python 3 (ipykernel)",
   "language": "python",
   "name": "python3"
  },
  "language_info": {
   "codemirror_mode": {
    "name": "ipython",
    "version": 3
   },
   "file_extension": ".py",
   "mimetype": "text/x-python",
   "name": "python",
   "nbconvert_exporter": "python",
   "pygments_lexer": "ipython3",
   "version": "3.8.0"
  }
 },
 "nbformat": 4,
 "nbformat_minor": 4
}
